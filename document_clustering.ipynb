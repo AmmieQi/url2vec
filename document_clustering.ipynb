{
 "cells": [
  {
   "cell_type": "code",
   "execution_count": 1,
   "metadata": {
    "collapsed": true
   },
   "outputs": [],
   "source": [
    "import os\n",
    "import numpy as np\n",
    "import pandas as pd\n",
    "import nltk\n",
    "from nltk.stem.snowball import SnowballStemmer\n",
    "from url_sequences.sequence_manager import *\n",
    "from sklearn.feature_extraction.text import TfidfVectorizer\n",
    "from sklearn.metrics.pairwise import cosine_similarity"
   ]
  },
  {
   "cell_type": "code",
   "execution_count": 2,
   "metadata": {
    "collapsed": false
   },
   "outputs": [
    {
     "name": "stdout",
     "output_type": "stream",
     "text": [
      "/home/chris/workspace/jupyter-notebook/url2vec\n"
     ]
    }
   ],
   "source": [
    "print os.getcwd()"
   ]
  },
  {
   "cell_type": "code",
   "execution_count": 3,
   "metadata": {
    "collapsed": false,
    "scrolled": false
   },
   "outputs": [],
   "source": [
    "filepath = \"/home/chris/Scrivania/url2vec/cs.illinois.eduNoConstraint.words1000.depth.10/vertex.txt\"\n",
    "content_map = get_content_map(filepath)\n",
    "\n",
    "# english stopwords\n",
    "stopwords = nltk.corpus.stopwords.words('english')\n",
    "# stemmer = SnowballStemmer(\"english\")\n",
    "\n",
    "# map -> {code: token_list}\n",
    "tokens_map = to_tokens_map(content_map)\n",
    "# map -> {code: stem_list}\n",
    "stems_map = to_stems_map(content_map)\n",
    "\n",
    "# total vocabulary, list of tokens\n",
    "totalvocab_stemmed = get_total_vocab(stems_map)\n",
    "# total vocabulary, list of stems\n",
    "totalvocab_tokenized = get_total_vocab(tokens_map)\n",
    "\n",
    "# document list\n",
    "documents = [content_map[key] for key in content_map]"
   ]
  },
  {
   "cell_type": "code",
   "execution_count": null,
   "metadata": {
    "collapsed": false
   },
   "outputs": [],
   "source": [
    "# to dowload english stopwords\n",
    "nltk.download()"
   ]
  },
  {
   "cell_type": "code",
   "execution_count": 4,
   "metadata": {
    "collapsed": false,
    "scrolled": false
   },
   "outputs": [
    {
     "name": "stdout",
     "output_type": "stream",
     "text": [
      "             words\n",
      "depart  department\n",
      "of              of\n",
      "comput    computer\n",
      "scienc     science\n",
      "at              at\n"
     ]
    }
   ],
   "source": [
    "vocab_frame = pd.DataFrame({'words': totalvocab_tokenized}, index = totalvocab_stemmed)\n",
    "print vocab_frame[:5]"
   ]
  },
  {
   "cell_type": "markdown",
   "metadata": {},
   "source": [
    "## TDM\n",
    "![Alt text](http://www.jiem.org/index.php/jiem/article/viewFile/293/252/2402 \"Very nice\")"
   ]
  },
  {
   "cell_type": "code",
   "execution_count": 5,
   "metadata": {
    "collapsed": false,
    "scrolled": true
   },
   "outputs": [
    {
     "name": "stdout",
     "output_type": "stream",
     "text": [
      "(728, 156)\n"
     ]
    }
   ],
   "source": [
    "\"\"\" \n",
    "max_df: \n",
    "    this is the maximum frequency within the documents a given feature\n",
    "    can have to be used in the tfi-idf matrix.\n",
    "min_idf:\n",
    "    this could be an integer (e.g. 0.2) and the term would have to be in\n",
    "    at least 20% of the documents to be considered.\n",
    "ngram_range:\n",
    "    (e.g. 1,3) this just means I'll look at unigrams, bigrams and trigrams. \n",
    "\"\"\"\n",
    "tfidf_vectorizer = TfidfVectorizer(\n",
    "    max_df=0.8,\n",
    "    max_features=200000,\n",
    "    min_df=0.2,\n",
    "    stop_words='english',\n",
    "    use_idf=True,\n",
    "    tokenizer= tokenize_and_stem,\n",
    "    ngram_range=(1,3)\n",
    ")\n",
    "\n",
    "#fit the vectorizer to synopse\n",
    "tfidf_matrix = tfidf_vectorizer.fit_transform(documents) \n",
    "print(tfidf_matrix.shape)"
   ]
  },
  {
   "cell_type": "code",
   "execution_count": 6,
   "metadata": {
    "collapsed": false
   },
   "outputs": [],
   "source": [
    "terms = tfidf_vectorizer.get_feature_names()\n",
    "dist = 1 - cosine_similarity(tfidf_matrix)"
   ]
  }
 ],
 "metadata": {
  "kernelspec": {
   "display_name": "Python 2",
   "language": "python",
   "name": "python2"
  },
  "language_info": {
   "codemirror_mode": {
    "name": "ipython",
    "version": 2
   },
   "file_extension": ".py",
   "mimetype": "text/x-python",
   "name": "python",
   "nbconvert_exporter": "python",
   "pygments_lexer": "ipython2",
   "version": "2.7.11"
  }
 },
 "nbformat": 4,
 "nbformat_minor": 0
}
