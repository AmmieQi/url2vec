{
 "cells": [
  {
   "cell_type": "code",
   "execution_count": 71,
   "metadata": {
    "collapsed": false
   },
   "outputs": [],
   "source": [
    "import os\n",
    "from gensim.models import Word2Vec\n",
    "from url_sequences.sequence_manager import *\n",
    "from url_sequences.sequence_plotter import *\n",
    "import numpy as np\n",
    "from sklearn.manifold import TSNE"
   ]
  },
  {
   "cell_type": "code",
   "execution_count": 120,
   "metadata": {
    "collapsed": false
   },
   "outputs": [],
   "source": [
    "def get_colors(n):\n",
    "    colors = [\"#76FF03\", \"#00E5FF\", \"#FFFF00\", \"#FFFFFF\", \"#FF8F00\", \"#2979FF\", \"#F50057\", \"#9C27B0\"]\n",
    "    c = \"\"\n",
    "    if n < 0:\n",
    "        c = colors[5]\n",
    "    else:\n",
    "        c = colors[n]\n",
    "    return c"
   ]
  },
  {
   "cell_type": "markdown",
   "metadata": {},
   "source": [
    "# MODEL WORD2VEC"
   ]
  },
  {
   "cell_type": "code",
   "execution_count": 2,
   "metadata": {
    "collapsed": false
   },
   "outputs": [],
   "source": [
    "path = os.getcwd() + \"/dataset/cs.illinois.edu/RandomWalkLists-depth.100000.seqLen.10/\"\n",
    "rwwl_map_path = path + \"sequencesMapUrl.txt\"\n",
    "rwwl_seq_path = path + \"sequencesIDs.txt\""
   ]
  },
  {
   "cell_type": "code",
   "execution_count": 3,
   "metadata": {
    "collapsed": false
   },
   "outputs": [],
   "source": [
    "vocab_sequences = get_seq(rwwl_seq_path, 1)\n",
    "train_sequences = get_seq(rwwl_seq_path, 1)"
   ]
  },
  {
   "cell_type": "code",
   "execution_count": 4,
   "metadata": {
    "collapsed": false
   },
   "outputs": [
    {
     "data": {
      "text/plain": [
       "890323"
      ]
     },
     "execution_count": 4,
     "metadata": {},
     "output_type": "execute_result"
    }
   ],
   "source": [
    "model = Word2Vec(min_count=1)\n",
    "model.build_vocab(vocab_sequences)\n",
    "model.train(train_sequences)"
   ]
  },
  {
   "cell_type": "markdown",
   "metadata": {},
   "source": [
    "# TSNE 2-DIM"
   ]
  },
  {
   "cell_type": "code",
   "execution_count": 94,
   "metadata": {
    "collapsed": false
   },
   "outputs": [],
   "source": [
    "seq_map = get_seq_map(rwwl_map_path)\n",
    "url_key = []\n",
    "\n",
    "# 100-dim vecs\n",
    "wordvecs = []\n",
    "[wordvecs.append(model[i]) for i in seq_map]\n",
    "\n",
    "# long url labels\n",
    "word_labels = []\n",
    "[word_labels.append(seq_map[k]) for k in seq_map]\n",
    "\n",
    "# print type(word_labels), type(word_vectors)\n",
    "\n",
    "x = np.array(wordvecs)\n",
    "two_dim = TSNE(n_components=2)\n",
    "np.set_printoptions(suppress=True)\n",
    "lowdim__wordvecs = two_dim.fit_transform(x)"
   ]
  },
  {
   "cell_type": "code",
   "execution_count": 130,
   "metadata": {
    "collapsed": false
   },
   "outputs": [
    {
     "name": "stdout",
     "output_type": "stream",
     "text": [
      "908\n",
      "[[  4.87134626  11.50599529]\n",
      " [-12.26661974 -15.34472433]\n",
      " [  5.13321164   8.61729952]\n",
      " ..., \n",
      " [ 11.56400406  -3.7830658 ]\n",
      " [ 33.49091173  25.45056856]\n",
      " [ 10.82098838  22.84362653]]\n"
     ]
    }
   ],
   "source": [
    "print len(lowdim__wordvecs)\n",
    "print lowdim__wordvecs"
   ]
  },
  {
   "cell_type": "markdown",
   "metadata": {},
   "source": [
    "# CLUSTERING DBSCAN"
   ]
  },
  {
   "cell_type": "code",
   "execution_count": 106,
   "metadata": {
    "collapsed": true
   },
   "outputs": [],
   "source": [
    "from sklearn.cluster import DBSCAN"
   ]
  },
  {
   "cell_type": "code",
   "execution_count": 196,
   "metadata": {
    "collapsed": false,
    "scrolled": false
   },
   "outputs": [
    {
     "name": "stdout",
     "output_type": "stream",
     "text": [
      "[-1 -1 -1  0  0  0  0  0 -1 -1  1  0  0 -1 -1  2 -1  2 -1  3  2 -1 -1 -1 -1\n",
      " -1 -1 -1  2 -1 -1 -1 -1 -1 -1 -1 -1  0 -1 -1  0 -1 -1 -1 -1  0  3 -1 -1 -1\n",
      " -1 -1 -1  3  0 -1 -1 -1 -1 -1  0  2 -1 -1  0  1  2 -1  2 -1 -1 -1 -1 -1  0\n",
      "  0  0  1 -1  0  2  0  3  2  0  3  0  2  3 -1  2  2 -1  0  2  0  0  0  0  0\n",
      "  0  0  0  0  0  0  0  0  2  3  1 -1  0  1  2  0  0  0  0  0  0  0  0  0  0\n",
      "  0  0  0  0  0  0 -1 -1 -1 -1 -1 -1 -1 -1 -1 -1 -1 -1  1  0  2  3 -1 -1 -1\n",
      " -1 -1 -1 -1 -1 -1 -1  0  0 -1 -1 -1  2  3  3 -1  3 -1 -1  2 -1  0 -1 -1 -1\n",
      " -1 -1 -1 -1  0  0 -1 -1 -1 -1 -1 -1 -1 -1 -1 -1  0 -1 -1  0  0  0  1 -1  1\n",
      " -1  2 -1  0  0  0  2  1  0  3  1  0  2  0 -1 -1  0 -1 -1 -1  3 -1  0  0 -1\n",
      " -1 -1 -1  2  2 -1 -1 -1 -1 -1 -1 -1 -1 -1 -1  0  0  0  0  0  0  0  0  0  0\n",
      " -1  3  0 -1 -1 -1  2 -1  0  0  0  3  0  0  0  0  0  2  0  0  2  0  0  0  0\n",
      "  0 -1 -1  0 -1 -1 -1 -1 -1 -1 -1 -1 -1 -1 -1 -1 -1 -1  0 -1 -1 -1 -1 -1 -1\n",
      " -1  0  0  1  0  0  0  0  0  0 -1 -1  0  0  2  0 -1  0  0  1 -1 -1  0 -1 -1\n",
      " -1 -1 -1  0  0 -1 -1 -1 -1  0 -1  0 -1  2  2 -1 -1  0  0  0  0  0  0  0  3\n",
      " -1  0  0 -1  0  0  0  1  0  0 -1  0  3  0  0  2 -1  0  0 -1  0  0  0  0  0\n",
      "  0  0  0  0  0  0  0  0  0  0  0  0 -1  0 -1  2 -1  2  3  0  0  2  0  0  0\n",
      "  0  0  0  0  0  0  0  0 -1  0  0  0  0  0 -1 -1 -1 -1 -1  0  0 -1  0 -1 -1\n",
      " -1  0 -1 -1 -1 -1  3  1  3  0 -1  0 -1 -1 -1 -1 -1 -1 -1  3  3 -1 -1 -1 -1\n",
      " -1  2 -1 -1  0  0  1  0  0 -1  0  0  0  0  0  0  0  0  0 -1  0 -1  0 -1 -1\n",
      " -1 -1  2  0 -1 -1 -1  0  1  3  3 -1  1 -1 -1 -1 -1  0  0  0  0  0  0  0  0\n",
      "  0  0  0  0  3 -1  0  3  0  2  2  2 -1 -1  0  3  2 -1  3  1 -1  0 -1 -1  0\n",
      "  2 -1 -1  0  1 -1  0  0 -1 -1 -1 -1 -1 -1 -1 -1 -1 -1 -1 -1 -1  0  0  0  0\n",
      "  0  0  0  0 -1  0  0  0  0  0  0  0  0  0 -1 -1 -1 -1  0 -1 -1 -1 -1 -1 -1\n",
      " -1  0 -1  0  0  0  2 -1  0  0 -1  0  0  0  2 -1 -1  1 -1  0  0  0  0  0  0\n",
      "  0  0  0  0  0  3  3 -1  1  2  2 -1  0 -1  0 -1  0  0  0  0  0  0  0  0  0\n",
      "  0  0  0  0  0  0  0 -1  2 -1 -1 -1 -1 -1 -1 -1 -1  0  3  2 -1  0 -1 -1 -1\n",
      "  1  0  0  3  0 -1 -1 -1  0  2 -1  0 -1 -1 -1  3 -1 -1 -1 -1 -1 -1 -1  0  3\n",
      " -1 -1 -1  3  2  3 -1 -1  2 -1 -1 -1  3 -1 -1 -1 -1 -1 -1 -1 -1 -1 -1 -1  0\n",
      "  0  1  2 -1 -1  0  0  1  0  0  0  0  0 -1 -1  1 -1  1 -1 -1 -1  0  0  0 -1\n",
      "  2  0  1  0  0  0  0  0  0  0  0  0  0  0 -1  2  0 -1  2  2  3  2  0  0  3\n",
      "  0 -1 -1  0 -1 -1  0  0  0  0  0 -1 -1  0 -1 -1  0 -1  0 -1  0  0 -1  0 -1\n",
      " -1  0  0  0  0  0  0 -1 -1 -1 -1 -1  0  0 -1 -1  2 -1 -1 -1  3 -1 -1 -1 -1\n",
      " -1  2 -1  3 -1  3 -1  1 -1  3 -1 -1  0 -1 -1  3 -1  2 -1 -1 -1  0 -1 -1 -1\n",
      " -1  0 -1  0  0  0 -1  1  0  1 -1 -1  0 -1  1  0  0  2 -1  0  0  0  0  0 -1\n",
      " -1  0 -1 -1  0  0 -1 -1  0  2  0  0  2 -1  0  0  0 -1  3  3 -1 -1 -1  0  2\n",
      " -1 -1 -1  0  2 -1  0  0  0 -1  0  0  0 -1  0  0  0 -1 -1 -1 -1 -1  0  0  0\n",
      "  0  0 -1  0 -1 -1  0  0]\n"
     ]
    }
   ],
   "source": [
    "dbscan = DBSCAN(eps=0.4, min_samples=10)\n",
    "dbscan.fit(word_vectors)\n",
    "print dbscan.labels_\n",
    "\n",
    "colors = []\n",
    "for l in dbscan.labels_:\n",
    "    colors.append(get_colors(l))"
   ]
  },
  {
   "cell_type": "markdown",
   "metadata": {},
   "source": [
    "# SCATTER PLOT"
   ]
  },
  {
   "cell_type": "code",
   "execution_count": 84,
   "metadata": {
    "collapsed": true
   },
   "outputs": [],
   "source": [
    "import plotly\n",
    "import plotly.plotly as py\n",
    "import plotly.graph_objs as go"
   ]
  },
  {
   "cell_type": "code",
   "execution_count": 89,
   "metadata": {
    "collapsed": false
   },
   "outputs": [],
   "source": [
    "x_coord = lowdim__wordvecs[:,0]\n",
    "y_coord = lowdim__wordvecs[:,1]"
   ]
  },
  {
   "cell_type": "code",
   "execution_count": 197,
   "metadata": {
    "collapsed": false,
    "scrolled": false
   },
   "outputs": [
    {
     "data": {
      "text/html": [
       "<iframe id=\"igraph\" scrolling=\"no\" style=\"border:none;\"seamless=\"seamless\" src=\"https://plot.ly/~chrispol/41.embed\" height=\"525px\" width=\"100%\"></iframe>"
      ],
      "text/plain": [
       "<plotly.tools.PlotlyDisplay object>"
      ]
     },
     "execution_count": 197,
     "metadata": {},
     "output_type": "execute_result"
    }
   ],
   "source": [
    "py.sign_in('chrispol', 'yvg1d17o5q')\n",
    "\n",
    "# Create a trace\n",
    "trace = go.Scattergl(\n",
    "    x = x_coord, #\n",
    "    y = y_coord, #\n",
    "    mode = 'markers',\n",
    "    text = word_labels, #\n",
    "    marker = dict(\n",
    "        color = colors,\n",
    "        line = dict(width = 1)\n",
    "    )\n",
    ")\n",
    "\n",
    "data = [trace]\n",
    "\n",
    "# Plot and embed in ipython notebook!\n",
    "py.iplot(data, filename='Word Vectors - Scatter plot')"
   ]
  }
 ],
 "metadata": {
  "kernelspec": {
   "display_name": "Python 2",
   "language": "python",
   "name": "python2"
  },
  "language_info": {
   "codemirror_mode": {
    "name": "ipython",
    "version": 2
   },
   "file_extension": ".py",
   "mimetype": "text/x-python",
   "name": "python",
   "nbconvert_exporter": "python",
   "pygments_lexer": "ipython2",
   "version": "2.7.11"
  }
 },
 "nbformat": 4,
 "nbformat_minor": 0
}
