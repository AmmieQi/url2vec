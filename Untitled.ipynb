{
 "cells": [
  {
   "cell_type": "code",
   "execution_count": 1,
   "metadata": {
    "collapsed": true
   },
   "outputs": [],
   "source": [
    "import os\n",
    "import numpy as np\n",
    "import pandas as pd\n",
    "\n",
    "from url_sequences.sequence_manager import *\n",
    "from url_sequences.sequence_plotter import *\n",
    "\n",
    "from sklearn.feature_extraction.text import TfidfVectorizer\n",
    "from sklearn.metrics.pairwise import cosine_similarity\n",
    "from sklearn.cluster import KMeans\n",
    "\n",
    "from sklearn.manifold import TSNE\n",
    "from sklearn.manifold import MDS\n",
    "\n",
    "from __future__ import print_function\n",
    "import plotly.plotly as py\n",
    "from plotly.graph_objs import *\n",
    "import plotly.graph_objs as go"
   ]
  },
  {
   "cell_type": "code",
   "execution_count": 2,
   "metadata": {
    "collapsed": true
   },
   "outputs": [],
   "source": [
    "nocostraint_path = os.getcwd() + \"/dataset/new/cs.illinois.eduNoConstraint.words1000.depth.10/\"\n",
    "vertex_nc_path= nocostraint_path + \"vertex.txt\"\n",
    "map_nc_path = nocostraint_path + \"urlsMap.txt\"\n",
    "\n",
    "content_nc_map = get_content_map(vertex_nc_path)\n",
    "url_nc_map = get_urlmap(map_nc_path)\n",
    "\n",
    "# map -> {code: token_list}\n",
    "tokens_nc_map = to_tokens_map(content_nc_map)\n",
    "# map -> {code: stem_list}\n",
    "stems_nc_map = to_stems_map(content_nc_map)\n",
    "\n",
    "# total vocabulary, list of tokens\n",
    "totalvocab_nc_stemmed = get_total_vocab(stems_nc_map)\n",
    "# total vocabulary, list of stems\n",
    "totalvocab_nc_tokenized = get_total_vocab(tokens_nc_map)\n",
    "\n",
    "# document list\n",
    "documents_nc = [content_nc_map[key] for key in content_nc_map]\n",
    "codes_nc = [key for key in content_nc_map]\n",
    "longurls_nc = [url_nc_map[key] for key in content_nc_map]"
   ]
  },
  {
   "cell_type": "code",
   "execution_count": 3,
   "metadata": {
    "collapsed": false
   },
   "outputs": [
    {
     "data": {
      "text/html": [
       "<div>\n",
       "<table border=\"1\" class=\"dataframe\">\n",
       "  <thead>\n",
       "    <tr style=\"text-align: right;\">\n",
       "      <th></th>\n",
       "      <th>words</th>\n",
       "    </tr>\n",
       "  </thead>\n",
       "  <tbody>\n",
       "    <tr>\n",
       "      <th>depart</th>\n",
       "      <td>department</td>\n",
       "    </tr>\n",
       "    <tr>\n",
       "      <th>of</th>\n",
       "      <td>of</td>\n",
       "    </tr>\n",
       "    <tr>\n",
       "      <th>comput</th>\n",
       "      <td>computer</td>\n",
       "    </tr>\n",
       "    <tr>\n",
       "      <th>scienc</th>\n",
       "      <td>science</td>\n",
       "    </tr>\n",
       "    <tr>\n",
       "      <th>at</th>\n",
       "      <td>at</td>\n",
       "    </tr>\n",
       "  </tbody>\n",
       "</table>\n",
       "</div>"
      ],
      "text/plain": [
       "             words\n",
       "depart  department\n",
       "of              of\n",
       "comput    computer\n",
       "scienc     science\n",
       "at              at"
      ]
     },
     "execution_count": 3,
     "metadata": {},
     "output_type": "execute_result"
    }
   ],
   "source": [
    "vocab_nc_frame = pd.DataFrame({'words': totalvocab_nc_tokenized}, index = totalvocab_nc_stemmed)\n",
    "vocab_nc_frame[:5]"
   ]
  },
  {
   "cell_type": "code",
   "execution_count": 4,
   "metadata": {
    "collapsed": true
   },
   "outputs": [],
   "source": [
    "\"\"\" \n",
    "max_df: \n",
    "    this is the maximum frequency within the documents a given feature\n",
    "    can have to be used in the tfi-idf matrix.\n",
    "min_idf:\n",
    "    this could be an integer (e.g. 0.2) and the term would have to be in\n",
    "    at least 20% of the documents to be considered.\n",
    "ngram_range:\n",
    "    (e.g. 1,3) this just means I'll look at unigrams, bigrams and trigrams. \n",
    "\"\"\"\n",
    "tfidf_vectorizer = TfidfVectorizer(\n",
    "    max_df = 0.8,\n",
    "    max_features = 200000,\n",
    "    min_df = 0.1,\n",
    "    stop_words = 'english',\n",
    "    use_idf = True,\n",
    "    tokenizer = tokenize_and_stem,\n",
    "    ngram_range = (1,3)\n",
    ")"
   ]
  },
  {
   "cell_type": "code",
   "execution_count": 5,
   "metadata": {
    "collapsed": true
   },
   "outputs": [],
   "source": [
    "mds = MDS(n_components=2, dissimilarity=\"precomputed\", random_state=1)\n",
    "tsne = TSNE(n_components=2, random_state=1)"
   ]
  },
  {
   "cell_type": "code",
   "execution_count": 6,
   "metadata": {
    "collapsed": false
   },
   "outputs": [
    {
     "name": "stdout",
     "output_type": "stream",
     "text": [
      "(728, 433) 728\n"
     ]
    }
   ],
   "source": [
    "tfidf_matrix_nc = tfidf_vectorizer.fit_transform(documents_nc) \n",
    "\n",
    "# terms without stopwords or duplicates\n",
    "terms_nc = tfidf_vectorizer.get_feature_names()\n",
    "dist_nc = 1 - cosine_similarity(tfidf_matrix_nc)\n",
    "\n",
    "print(tfidf_matrix_nc.shape, len(documents_nc))\n",
    "two_dim_vec_nc = mds.fit_transform(dist_nc)\n",
    "\n",
    "tfidf_matrix_nc_dense = tfidf_matrix_nc.todense()\n",
    "docs_vecs_nc = np.array([tfidf_matrix_nc_dense[i].A1 for i in range(len(tfidf_matrix_nc_dense))])"
   ]
  },
  {
   "cell_type": "code",
   "execution_count": 7,
   "metadata": {
    "collapsed": false
   },
   "outputs": [],
   "source": [
    "from url_sequences.sequence_handler import *\n",
    "sequences_nc = nocostraint_path + \"sequenceIDs.txt\"\n",
    "\n",
    "# because of generator\n",
    "vocab_sequences = get_seq(sequences_nc, 1)\n",
    "train_sequences = get_seq(sequences_nc, 1)"
   ]
  },
  {
   "cell_type": "code",
   "execution_count": 8,
   "metadata": {
    "collapsed": false
   },
   "outputs": [
    {
     "data": {
      "text/plain": [
       "994570"
      ]
     },
     "execution_count": 8,
     "metadata": {},
     "output_type": "execute_result"
    }
   ],
   "source": [
    "from gensim.models import Word2Vec\n",
    "\n",
    "w2v_model = Word2Vec(min_count=1, negative=5, size=48)\n",
    "w2v_model.build_vocab(vocab_sequences)\n",
    "w2v_model.train(train_sequences)"
   ]
  },
  {
   "cell_type": "code",
   "execution_count": 9,
   "metadata": {
    "collapsed": true
   },
   "outputs": [],
   "source": [
    "w2v_vecs_nc = np.array([w2v_model[key] for key in content_nc_map]) \n",
    "docs_vecs_nc = docs_vecs_nc"
   ]
  },
  {
   "cell_type": "code",
   "execution_count": 10,
   "metadata": {
    "collapsed": true
   },
   "outputs": [],
   "source": [
    "tsne50 =  TSNE(n_components=50)\n",
    "docs_vecs_nc_reduced = tsne50.fit_transform(docs_vecs_nc)\n",
    "#docs_vecs_nc_reduced = tsne50.fit_transform(docs_vecs_nc)\n",
    "# vecs = [ np.concatenate((w2v_vecs_lc[i], docs_vecs_lc_reduced[i]), axis=0) for i in range(3)]\n"
   ]
  },
  {
   "cell_type": "code",
   "execution_count": null,
   "metadata": {
    "collapsed": true
   },
   "outputs": [],
   "source": []
  },
  {
   "cell_type": "code",
   "execution_count": null,
   "metadata": {
    "collapsed": true
   },
   "outputs": [],
   "source": []
  }
 ],
 "metadata": {
  "kernelspec": {
   "display_name": "Python 2",
   "language": "python",
   "name": "python2"
  },
  "language_info": {
   "codemirror_mode": {
    "name": "ipython",
    "version": 2
   },
   "file_extension": ".py",
   "mimetype": "text/x-python",
   "name": "python",
   "nbconvert_exporter": "python",
   "pygments_lexer": "ipython2",
   "version": "2.7.11"
  }
 },
 "nbformat": 4,
 "nbformat_minor": 0
}
