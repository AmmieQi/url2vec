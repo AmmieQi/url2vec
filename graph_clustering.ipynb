{
 "cells": [
  {
   "cell_type": "code",
   "execution_count": 2,
   "metadata": {
    "collapsed": true,
    "slideshow": {
     "slide_type": "-"
    }
   },
   "outputs": [],
   "source": [
    "import igraph as ig\n",
    "import plotly.plotly as py\n",
    "from plotly.graph_objs import *\n",
    "from sequence.sequence_manager import *\n",
    "from sequence.sequence_plotter import *"
   ]
  },
  {
   "cell_type": "markdown",
   "metadata": {},
   "source": [
    "<div style=\"text-align:center\"><h1> RANDOM-WALK GRAPH </h1></div>"
   ]
  },
  {
   "cell_type": "code",
   "execution_count": 3,
   "metadata": {
    "collapsed": false
   },
   "outputs": [
    {
     "name": "stdout",
     "output_type": "stream",
     "text": [
      "(760, 16043)\n"
     ]
    }
   ],
   "source": [
    "rw_path = \"/home/chris/Scrivania/url2vec/dataset/depth-100k/seqLen-10/cs.illinois.eduRandomWalk.depth.100000.seqLen.10/\"\n",
    "rw_map_path = rw_path + \"sequencesMapUrl.txt\"\n",
    "rw_seq_path = rw_path + \"sequencesIDs.txt\"\n",
    "\n",
    "rw_sequence_map = get_sequence_map(rw_map_path)\n",
    "rw_sequences = get_sequences(rw_seq_path, 1)\n",
    "\n",
    "rw_graph = create_graph(rw_sequences, rw_sequence_map)\n",
    "print(len(rw_graph.vs), len(rw_graph.es))"
   ]
  },
  {
   "cell_type": "code",
   "execution_count": 6,
   "metadata": {
    "collapsed": false
   },
   "outputs": [
    {
     "name": "stdout",
     "output_type": "stream",
     "text": [
      "760 760\n"
     ]
    }
   ],
   "source": [
    "rw_sequence_map = get_sequence_map(rw_map_path)\n",
    "rw_seq_map = get_seq_map(rw_map_path)\n",
    "# for key in rw_sequence_map:\n",
    "    # print rw_sequence_map[key] == rw_seq_map[key]\n",
    "print len(rw_sequence_map), len(rw_seq_map)"
   ]
  },
  {
   "cell_type": "code",
   "execution_count": 4,
   "metadata": {
    "collapsed": false
   },
   "outputs": [
    {
     "name": "stderr",
     "output_type": "stream",
     "text": [
      "/home/chris/anaconda3/envs/python2/lib/python2.7/site-packages/plotly/plotly/plotly.py:236: UserWarning:\n",
      "\n",
      "Woah there! Look at all those points! Due to browser limitations, the Plotly SVG drawing functions have a hard time graphing more than 500k data points for line charts, or 40k points for other types of charts. Here are some suggestions:\n",
      "(1) Use the `plotly.graph_objs.Scattergl` trace object to generate a WebGl graph.\n",
      "(2) Trying using the image API to return an image instead of a graph URL\n",
      "(3) Use matplotlib\n",
      "(4) See if you can create your visualization with fewer data points\n",
      "\n",
      "If the visualization you're using aggregates points (e.g., box plot, histogram, etc.) you can disregard this warning.\n",
      "\n"
     ]
    },
    {
     "data": {
      "text/html": [
       "<iframe id=\"igraph\" scrolling=\"no\" style=\"border:none;\"seamless=\"seamless\" src=\"https://plot.ly/~chrispol/31.embed\" height=\"1000px\" width=\"1000px\"></iframe>"
      ],
      "text/plain": [
       "<plotly.tools.PlotlyDisplay object>"
      ]
     },
     "execution_count": 4,
     "metadata": {},
     "output_type": "execute_result"
    }
   ],
   "source": [
    "rw_fig = gplot(rw_graph, \"Random walk network\")\n",
    "py.iplot(rw_fig, filename=\"Random walk network\")"
   ]
  },
  {
   "cell_type": "markdown",
   "metadata": {},
   "source": [
    "<div style=\"text-align:center\"><h1> RANDOM-WALK-FROM-HOMEPAGE GRAPH </h1></div>"
   ]
  },
  {
   "cell_type": "code",
   "execution_count": 5,
   "metadata": {
    "collapsed": false
   },
   "outputs": [
    {
     "name": "stdout",
     "output_type": "stream",
     "text": [
      "(603, 6917)\n"
     ]
    }
   ],
   "source": [
    "rwfh_path = \"/home/chris/Scrivania/url2vec/dataset/depth-100k/seqLen-10/cs.illinois.eduRandomWalkFromHomepage.depth.100000.seqLen.10/\"\n",
    "rwfh_map_path = rwfh_path + \"sequencesMapUrl.txt\"\n",
    "rwfh_seq_path = rwfh_path + \"sequencesIDs.txt\"\n",
    "\n",
    "\n",
    "rwfh_sequence_map = get_sequence_map(rwfh_map_path)\n",
    "rwfh_sequences = get_sequences(rwfh_seq_path, 1)\n",
    "\n",
    "rwfh_graph = create_graph(rwfh_sequences, rwfh_sequence_map)\n",
    "print len(rwfh_graph.vs), len(rwfh_graph.es)"
   ]
  },
  {
   "cell_type": "code",
   "execution_count": 34,
   "metadata": {
    "collapsed": false
   },
   "outputs": [
    {
     "data": {
      "text/html": [
       "<iframe id=\"igraph\" scrolling=\"no\" style=\"border:none;\"seamless=\"seamless\" src=\"https://plot.ly/~chrispol/33.embed\" height=\"1000px\" width=\"1000px\"></iframe>"
      ],
      "text/plain": [
       "<plotly.tools.PlotlyDisplay object>"
      ]
     },
     "execution_count": 34,
     "metadata": {},
     "output_type": "execute_result"
    }
   ],
   "source": [
    "rwfh_fig = gplot(rwfh_graph, \"Random walk from Homepage network\")\n",
    "py.iplot(rwfh_fig, filename=\"Random walk from Homepage network\")"
   ]
  },
  {
   "cell_type": "markdown",
   "metadata": {},
   "source": [
    "<div style=\"text-align:center\"><h1> RANDOM-WALK-WITH-LISTS GRAPH </h1></div>"
   ]
  },
  {
   "cell_type": "code",
   "execution_count": 6,
   "metadata": {
    "collapsed": false,
    "scrolled": true
   },
   "outputs": [
    {
     "name": "stdout",
     "output_type": "stream",
     "text": [
      "(908, 9214)\n"
     ]
    }
   ],
   "source": [
    "rwwl_path = \"/home/chris/Scrivania/url2vec/dataset/depth-100k/seqLen-10/cs.illinois.eduRandomWalkLists.depth.100000.seqLen.10/\"\n",
    "rwwl_map_path = rwwl_path + \"sequencesMapUrl.txt\"\n",
    "rwwl_seq_path = rwwl_path + \"sequencesIDs.txt\"\n",
    "\n",
    "\n",
    "rwwl_sequence_map = get_sequence_map(rwwl_map_path)\n",
    "rwwl_sequences = get_sequences(rwwl_seq_path, 1)\n",
    "\n",
    "rwwl_graph = create_graph(rwwl_sequences, rwwl_sequence_map)\n",
    "print len(rwwl_graph.vs), len(rwwl_graph.es)"
   ]
  },
  {
   "cell_type": "code",
   "execution_count": 14,
   "metadata": {
    "collapsed": false
   },
   "outputs": [
    {
     "data": {
      "text/html": [
       "<iframe id=\"igraph\" scrolling=\"no\" style=\"border:none;\"seamless=\"seamless\" src=\"https://plot.ly/~chrispol/35.embed\" height=\"1000px\" width=\"1000px\"></iframe>"
      ],
      "text/plain": [
       "<plotly.tools.PlotlyDisplay object>"
      ]
     },
     "execution_count": 14,
     "metadata": {},
     "output_type": "execute_result"
    }
   ],
   "source": [
    "rwwl_fig = gplot(rwwl_graph, \"Random walk with Lists network\")\n",
    "py.iplot(rwwl_fig, filename=\"Random walk with Lists network\")"
   ]
  },
  {
   "cell_type": "markdown",
   "metadata": {},
   "source": [
    "<div style=\"text-align:center\"><h1> MANUALLY-COLORED-RWWL GRAPH </h1></div>"
   ]
  },
  {
   "cell_type": "code",
   "execution_count": 44,
   "metadata": {
    "collapsed": false
   },
   "outputs": [
    {
     "name": "stdout",
     "output_type": "stream",
     "text": [
      "908\n",
      "9214\n"
     ]
    }
   ],
   "source": [
    "color_rwwl_path = rwwl_path + \"sequencesMapUrl-manually-clusterized.txt\"\n",
    "rwwl_sequences_wc = get_sequences(rwwl_seq_path, 1)\n",
    "rwwl_tuplist = get_sequence_tuple_list(color_rwwl_path)\n",
    "\n",
    "rwwl_graph_wc = create_graph(rwwl_sequences_wc, rwwl_tuplist)\n",
    "print len(rwwl_graph_wc.vs), len(rwwl_graph_wc.es)"
   ]
  },
  {
   "cell_type": "code",
   "execution_count": 10,
   "metadata": {
    "collapsed": false
   },
   "outputs": [
    {
     "data": {
      "text/html": [
       "<iframe id=\"igraph\" scrolling=\"no\" style=\"border:none;\"seamless=\"seamless\" src=\"https://plot.ly/~chrispol/29.embed\" height=\"1000px\" width=\"1000px\"></iframe>"
      ],
      "text/plain": [
       "<plotly.tools.PlotlyDisplay object>"
      ]
     },
     "execution_count": 10,
     "metadata": {},
     "output_type": "execute_result"
    }
   ],
   "source": [
    "rwmc = gplot(rwwl_graph_wc, \"RWWL network - Manually colored\")\n",
    "py.iplot(rwmc, filename=\"RWWL network - Manually colored\")"
   ]
  },
  {
   "cell_type": "markdown",
   "metadata": {},
   "source": [
    "<div style=\"text-align:center\"><h1> CLUSTERING </h1></div>"
   ]
  },
  {
   "cell_type": "code",
   "execution_count": 8,
   "metadata": {
    "collapsed": false
   },
   "outputs": [],
   "source": [
    "vertex_dendogram = rwwl_graph.community_fastgreedy()\n",
    "vertex_clustering = vertex_dendogram.as_clustering(8)"
   ]
  },
  {
   "cell_type": "code",
   "execution_count": 9,
   "metadata": {
    "collapsed": false,
    "scrolled": true
   },
   "outputs": [
    {
     "data": {
      "text/plain": [
       "list"
      ]
     },
     "execution_count": 9,
     "metadata": {},
     "output_type": "execute_result"
    }
   ],
   "source": [
    "type(vertex_clustering.membership)"
   ]
  },
  {
   "cell_type": "code",
   "execution_count": 17,
   "metadata": {
    "collapsed": false
   },
   "outputs": [
    {
     "name": "stdout",
     "output_type": "stream",
     "text": [
      "[164, 308, 145, 93, 56, 78, 61, 3]\n",
      "0.292873015219\n"
     ]
    }
   ],
   "source": [
    "print vertex_clustering.sizes()\n",
    "print vertex_clustering.modularity"
   ]
  },
  {
   "cell_type": "code",
   "execution_count": 18,
   "metadata": {
    "collapsed": false
   },
   "outputs": [],
   "source": [
    "# verde, azzurro, giallo, bianco, arancione, blu, fucsia, viola\n",
    "colors = [\"#76FF03\", \"#00E5FF\", \"#FFFF00\", \"#FFFFFF\", \"#FF8F00\", \"#2979FF\", \"#F50057\", \"#9C27B0\"]\n",
    "\n",
    "for i in range(len(rwwl_graph.vs)):\n",
    "    rwwl_graph.vs[i][\"color\"] = colors[vertex_clustering.membership[i]]\n",
    "    # print rw_graph.vs[i][\"name\"], vertex_clustering.membership[i]"
   ]
  },
  {
   "cell_type": "code",
   "execution_count": 19,
   "metadata": {
    "collapsed": false
   },
   "outputs": [
    {
     "data": {
      "text/html": [
       "<iframe id=\"igraph\" scrolling=\"no\" style=\"border:none;\"seamless=\"seamless\" src=\"https://plot.ly/~chrispol/37.embed\" height=\"1000px\" width=\"1000px\"></iframe>"
      ],
      "text/plain": [
       "<plotly.tools.PlotlyDisplay object>"
      ]
     },
     "execution_count": 19,
     "metadata": {},
     "output_type": "execute_result"
    }
   ],
   "source": [
    "rwwl_clust_fig = gplot(rwwl_graph, \"Random walk with lists - Modularity clustering\")\n",
    "py.iplot(rwwl_clust_fig, filename=\"Random walk with lists - Modularity clustering\")"
   ]
  },
  {
   "cell_type": "markdown",
   "metadata": {},
   "source": [
    "<div style=\"text-align:center\"><h1> SINGLE CLUSTER </h1></div>"
   ]
  },
  {
   "cell_type": "code",
   "execution_count": 24,
   "metadata": {
    "collapsed": false,
    "scrolled": false
   },
   "outputs": [
    {
     "data": {
      "text/html": [
       "<iframe id=\"igraph\" scrolling=\"no\" style=\"border:none;\"seamless=\"seamless\" src=\"https://plot.ly/~chrispol/39.embed\" height=\"1000px\" width=\"1000px\"></iframe>"
      ],
      "text/plain": [
       "<plotly.tools.PlotlyDisplay object>"
      ]
     },
     "execution_count": 24,
     "metadata": {},
     "output_type": "execute_result"
    }
   ],
   "source": [
    "second_clust_subgraph = vertex_clustering.subgraph(1)\n",
    "second_clust_fig = gplot(second_clust_subgraph, \"Single cluster\")\n",
    "\n",
    "py.iplot(second_clust_fig, filename=\"Single cluster\")"
   ]
  },
  {
   "cell_type": "code",
   "execution_count": 26,
   "metadata": {
    "collapsed": false,
    "scrolled": true
   },
   "outputs": [
    {
     "name": "stdout",
     "output_type": "stream",
     "text": [
      "https://cs.illinois.edu/giving/\n",
      "https://cs.illinois.edu/research/\n",
      "https://cs.illinois.edu/faculty-positions/\n",
      "https://cs.illinois.edu/staff-positions/\n",
      "https://cs.illinois.edu/alumni/\n",
      "https://cs.illinois.edu/directory/staff/\n",
      "https://cs.illinois.edu/directory/offices-and-contacts/\n",
      "https://cs.illinois.edu/research/artificial-intelligence/\n",
      "https://cs.illinois.edu/research/bioinformatics-and-computational-biology/\n",
      "https://cs.illinois.edu/research/systems-and-networking/\n",
      "https://cs.illinois.edu/research/database-and-information-systems/\n",
      "https://cs.illinois.edu/research/graphics-visualization-and-human-computer-interaction/\n",
      "https://cs.illinois.edu/directory/profile/jch/\n",
      "https://cs.illinois.edu/directory/profile/daf/\n",
      "https://cs.illinois.edu/news/student-startup-lumenous-brings-projection-mapping-out-arena/\n",
      "https://cs.illinois.edu/directory/profile/kirlik/\n",
      "https://cs.illinois.edu/research/architecture-compilers-and-parallel-computing/\n",
      "https://cs.illinois.edu/directory/profile/padua/\n",
      "https://cs.illinois.edu/research/programming-languages-formal-methods-and-software-engineering/\n",
      "https://cs.illinois.edu/directory/profile/meseguer/\n",
      "https://cs.illinois.edu/directory/profile/wlchapma/\n",
      "https://cs.illinois.edu/courses/profile/CS554/\n",
      "https://cs.illinois.edu/directory/offices-and-contacts/academic-advising-office/\n",
      "https://cs.illinois.edu/directory/profile/jscole/\n",
      "https://cs.illinois.edu/courses/profile/CS426/\n",
      "https://cs.illinois.edu/courses/profile/CS210/\n",
      "https://cs.illinois.edu/courses/profile/CS425/\n",
      "https://cs.illinois.edu/directory/profile/mitras/\n",
      "https://cs.illinois.edu/directory/faculty/\n",
      "https://cs.illinois.edu/directory/profile/rkiyer/\n",
      "https://cs.illinois.edu/research/theory-and-algorithms/\n",
      "https://cs.illinois.edu/courses/profile/CS491/\n",
      "https://cs.illinois.edu/directory/faculty/profile/warnow/\n",
      "https://cs.illinois.edu/directory/profile/winslett/\n",
      "https://cs.illinois.edu/news/illinois-college-engineering-announces-siebel-scholars-class-2013/\n",
      "https://cs.illinois.edu/research/scientific-computing/\n",
      "https://cs.illinois.edu/courses/profile/CS498/\n",
      "https://cs.illinois.edu/directory/profile/mmp/\n",
      "https://cs.illinois.edu/courses/profile/CS591FM/\n",
      "https://cs.illinois.edu/directory/offices-and-contacts/office-department-head/\n",
      "https://cs.illinois.edu/directory/profile/heath/\n",
      "https://cs.illinois.edu/directory/staff/profile/jlsmith6/\n",
      "https://cs.illinois.edu/directory/staff/profile/erink/\n",
      "https://cs.illinois.edu/courses/profile/CS413/\n",
      "https://cs.illinois.edu/courses/profile/CS440/\n",
      "https://cs.illinois.edu/directory/staff/profile/mwellens/\n",
      "https://cs.illinois.edu/courses/profile/CS481/\n",
      "https://cs.illinois.edu/courses/profile/CS105/\n",
      "https://cs.illinois.edu/directory/profile/mhellwig/\n",
      "https://cs.illinois.edu/courses/profile/CS196/\n",
      "https://cs.illinois.edu/directory/faculty/profile/agha/\n",
      "https://cs.illinois.edu/courses/profile/CS465/\n",
      "https://cs.illinois.edu/directory/faculty/profile/mssammon/\n",
      "https://cs.illinois.edu/directory/offices-and-contacts/faculty-support/\n",
      "https://cs.illinois.edu/people/faculty/luke-olson/\n",
      "https://cs.illinois.edu/courses/profile/CS477/\n",
      "https://cs.illinois.edu/courses/profile/CS498BL1/\n",
      "https://cs.illinois.edu/courses/profile/CS461/\n",
      "https://cs.illinois.edu/directory/profile/nhv/\n",
      "https://cs.illinois.edu/directory/offices-and-contacts/advancement-office/\n",
      "https://cs.illinois.edu/directory/faculty/profile/pitt/\n",
      "https://cs.illinois.edu/courses/profile/CS476/\n",
      "https://cs.illinois.edu/directory/profile/klara/\n",
      "https://cs.illinois.edu/directory/faculty/profile/sariel/\n",
      "https://cs.illinois.edu/directory/faculty/profile/slazebni/\n",
      "https://cs.illinois.edu/directory/profile/whs/\n",
      "https://cs.illinois.edu/courses/profile/CS412/\n",
      "https://cs.illinois.edu/courses/profile/CS591SE/\n",
      "https://cs.illinois.edu/directory/faculty/profile/rutenbar/\n",
      "https://cs.illinois.edu/directory/profile/indy/\n",
      "https://cs.illinois.edu/courses/profile/CS429/\n",
      "https://cs.illinois.edu/directory/profile/mrebl/\n",
      "https://cs.illinois.edu/directory/profile/ayong/\n",
      "https://cs.illinois.edu/directory/profile/agha/\n",
      "https://cs.illinois.edu/courses/profile/CS439/\n",
      "https://cs.illinois.edu/courses/profile/CS431/\n",
      "https://cs.illinois.edu/directory/staff/profile/trishd/\n",
      "https://cs.illinois.edu/directory/staff/profile/smherzog/\n",
      "https://cs.illinois.edu/courses/profile/CS498AB2/\n",
      "https://cs.illinois.edu/courses/profile/CS591/\n",
      "https://cs.illinois.edu/directory/profile/kkarahal/\n",
      "https://cs.illinois.edu/news/illinois-faculty-developing-mobile-learning-community/\n",
      "https://cs.illinois.edu/directory/profile/slazebni/\n",
      "https://cs.illinois.edu/directory/staff/profile/kbogle/\n",
      "https://cs.illinois.edu/directory/staff/profile/cjfoster/\n",
      "https://cs.illinois.edu/directory/staff/profile/hlzike/\n",
      "https://cs.illinois.edu/directory/staff/profile/jeffe/\n",
      "https://cs.illinois.edu/courses/profile/CS418/\n",
      "https://cs.illinois.edu/directory/staff/profile/aoboyle/\n",
      "https://cs.illinois.edu/directory/staff/profile/rutenbar/\n",
      "https://cs.illinois.edu/directory/faculty/profile/padua/\n",
      "https://cs.illinois.edu/directory/staff/profile/thurlwel/\n",
      "https://cs.illinois.edu/directory/profile/vadve/\n",
      "https://cs.illinois.edu/directory/staff/profile/sibin/\n",
      "https://cs.illinois.edu/directory/faculty/profile/kirlik/\n",
      "https://cs.illinois.edu/directory/profile/pbg/\n",
      "https://cs.illinois.edu/directory/profile/taoxie/\n",
      "https://cs.illinois.edu/courses/profile/CS438/\n",
      "https://cs.illinois.edu/directory/profile/akolla/\n",
      "https://cs.illinois.edu/directory/faculty/profile/mrebl/\n",
      "https://cs.illinois.edu/directory/staff/profile/jdg5/\n",
      "https://cs.illinois.edu/courses/profile/CS199/\n",
      "https://cs.illinois.edu/directory/faculty/profile/indy/\n",
      "https://cs.illinois.edu/courses/profile/CS421/\n",
      "https://cs.illinois.edu/directory/profile/egunter/\n",
      "https://cs.illinois.edu/directory/faculty/profile/kale/\n",
      "https://cs.illinois.edu/directory/faculty/profile/vmahesh/\n",
      "https://cs.illinois.edu/directory/profile/mdbailey/\n",
      "https://cs.illinois.edu/directory/staff/profile/krunck/\n",
      "https://cs.illinois.edu/courses/profile/CS231/\n",
      "https://cs.illinois.edu/directory/profile/garzaran/\n",
      "https://cs.illinois.edu/directory/faculty/profile/rhc/\n",
      "https://cs.illinois.edu/directory/profile/mcaccamo/\n",
      "https://cs.illinois.edu/directory/offices-and-contacts/business-office/\n",
      "https://cs.illinois.edu/directory/staff/profile/daf/\n",
      "https://cs.illinois.edu/directory/profile/bpbailey/\n",
      "https://cs.illinois.edu/courses/profile/CS527/\n",
      "https://cs.illinois.edu/directory/staff/profile/golliver/\n",
      "https://cs.illinois.edu/directory/staff/profile/colinr/\n",
      "https://cs.illinois.edu/news/five-cs-illinois-graduate-students-among-class-2014-siebel-scholars/\n",
      "https://cs.illinois.edu/directory/profile/cgunter/\n",
      "https://cs.illinois.edu/courses/profile/CS591ACT/\n",
      "https://cs.illinois.edu/courses/profile/CS447/\n",
      "https://cs.illinois.edu/courses/profile/CS446/\n",
      "https://cs.illinois.edu/directory/profile/zaher/\n",
      "https://cs.illinois.edu/directory/profile/croy/\n",
      "https://cs.illinois.edu/directory/staff/profile/chekuri/\n",
      "https://cs.illinois.edu/directory/staff/profile/mssammon/\n",
      "https://cs.illinois.edu/directory/profile/sariel/\n",
      "https://cs.illinois.edu/directory/staff/profile/ebohm/\n",
      "https://cs.illinois.edu/directory/faculty/profile/sinhas/\n",
      "https://cs.illinois.edu/directory/profile/andreask/\n",
      "https://cs.illinois.edu/directory/profile/vmahesh/\n",
      "https://cs.illinois.edu/courses/profile/CS498AL1/\n",
      "https://cs.illinois.edu/directory/profile/chekuri/\n",
      "https://cs.illinois.edu/directory/profile/shaffer1/\n",
      "https://cs.illinois.edu/directory/profile/juliahmr/\n",
      "https://cs.illinois.edu/courses/profile/CS101/\n",
      "https://cs.illinois.edu/directory/profile/mfleck/\n",
      "https://cs.illinois.edu/directory/profile/lrs/\n",
      "https://cs.illinois.edu/directory/profile/wfu/\n",
      "https://cs.illinois.edu/directory/profile/adityagp/\n",
      "https://cs.illinois.edu/directory/profile/pitt/\n",
      "https://cs.illinois.edu/directory/faculty/profile/garzaran/\n",
      "https://cs.illinois.edu/directory/staff/profile/hbagwell/\n",
      "https://cs.illinois.edu/directory/faculty/profile/lrs/\n",
      "https://cs.illinois.edu/directory/faculty/profile/chekuri/\n",
      "https://cs.illinois.edu/directory/faculty/profile/sadve/\n",
      "https://cs.illinois.edu/directory/profile/marsha/\n",
      "https://cs.illinois.edu/research/database-and-information-systems/information-network-academic-research-center/\n",
      "https://cs.illinois.edu/directory/profile/rhc/\n",
      "https://cs.illinois.edu/directory/profile/seth/\n",
      "https://cs.illinois.edu/directory/profile/kesan/\n",
      "https://cs.illinois.edu/courses/profile/CS598/\n",
      "https://cs.illinois.edu/directory/faculty/profile/daf/\n",
      "https://cs.illinois.edu/directory/staff/profile/lschmitt/\n",
      "https://cs.illinois.edu/directory/staff/profile/sunkraut/\n",
      "https://cs.illinois.edu/directory/faculty/profile/marinov/\n",
      "https://cs.illinois.edu/news/five-cs-students-named-siebel-scholars/\n",
      "https://cs.illinois.edu/directory/profile/mwoodley/\n",
      "https://cs.illinois.edu/directory/profile/kcchang/\n",
      "https://cs.illinois.edu/directory/profile/ranjitha/\n",
      "https://cs.illinois.edu/courses/profile//CS105/\n",
      "https://cs.illinois.edu/directory/profile/waf/\n",
      "https://cs.illinois.edu/directory/faculty/profile/ranjitha/\n",
      "https://cs.illinois.edu/directory/profile/dhoiem/\n",
      "https://cs.illinois.edu/courses/profile/CS565/\n",
      "https://cs.illinois.edu/directory/profile/tbretl/\n",
      "https://cs.illinois.edu/directory/profile/marinov/\n",
      "https://cs.illinois.edu/directory/staff/profile/jhatton/\n",
      "https://cs.illinois.edu/directory/faculty/profile/bpbailey/\n",
      "https://cs.illinois.edu/directory/profile/mattox/\n",
      "https://cs.illinois.edu/directory/staff/profile/erichorn/\n",
      "https://cs.illinois.edu/directory/staff/profile/serhodes/\n",
      "https://cs.illinois.edu/directory/faculty/profile/torrella/\n",
      "https://cs.illinois.edu/directory/staff/profile/dcheek/\n",
      "https://cs.illinois.edu/directory/profile/grosu/\n",
      "https://cs.illinois.edu/directory/faculty/profile/zilles/\n",
      "https://cs.illinois.edu/directory/faculty/profile/mfleck/\n",
      "https://cs.illinois.edu/directory/faculty/profile/wtkramer/\n",
      "https://cs.illinois.edu/directory/staff/profile/kudaliga/\n",
      "https://cs.illinois.edu/directory/profile/mnb/\n",
      "https://cs.illinois.edu/directory/profile/r-sowers/\n",
      "https://cs.illinois.edu/courses/profile/CS591HCI/\n",
      "https://cs.illinois.edu/directory/profile/fischerp/\n",
      "https://cs.illinois.edu/directory/faculty/profile/hs1/\n",
      "https://cs.illinois.edu/directory/profile/rhk/\n",
      "https://cs.illinois.edu/directory/faculty/profile/andreask/\n",
      "https://cs.illinois.edu/directory/staff/profile/tduggan/\n",
      "https://cs.illinois.edu/directory/faculty/profile/czhai/\n",
      "https://cs.illinois.edu/directory/staff/profile/hender/\n",
      "https://cs.illinois.edu/news/us-departments-energy-and-homeland-security-establish-major-resilient-smart-grid-program-univer/\n",
      "https://cs.illinois.edu/directory/profile/campbell/\n",
      "https://cs.illinois.edu/directory/staff/profile/moone/\n",
      "https://cs.illinois.edu/news/upgrading-programming-mobile-cloud/\n",
      "https://cs.illinois.edu/directory/profile/hs1/\n",
      "https://cs.illinois.edu/directory/profile/jhasegaw/\n",
      "https://cs.illinois.edu/directory/faculty/profile/jeffe/\n",
      "https://cs.illinois.edu/directory/faculty/profile/hanj/\n",
      "https://cs.illinois.edu/news/five-cs-illinois-graduate-students-named-siebel-scholars/\n",
      "https://cs.illinois.edu/directory/staff/profile/kstahl/\n",
      "https://cs.illinois.edu/directory/profile/paris/\n",
      "https://cs.illinois.edu/directory/profile/rcunnin2/\n",
      "https://cs.illinois.edu/news/study-recalculates-cost-combination-vaccines/\n",
      "https://cs.illinois.edu/directory/staff/profile/ccoleman/\n",
      "https://cs.illinois.edu/directory/faculty/profile/lukeo/\n",
      "https://cs.illinois.edu/directory/faculty/profile/mmp/\n",
      "https://cs.illinois.edu/directory/profile/bedjeffe/\n",
      "https://cs.illinois.edu/news/torrellas-receive-ieee-computer-society-technical-achievement-award/\n",
      "https://cs.illinois.edu/directory/faculty/profile/jch/\n",
      "https://cs.illinois.edu/directory/faculty/profile/mcaccamo/\n",
      "https://cs.illinois.edu/directory/profile/lukeo/\n",
      "https://cs.illinois.edu/directory/staff/profile/adarnall/\n",
      "https://cs.illinois.edu/directory/staff/profile/mkelley/\n",
      "https://cs.illinois.edu/directory/faculty/profile/meseguer/\n",
      "https://cs.illinois.edu/directory/faculty/profile/taoxie/\n",
      "https://cs.illinois.edu/directory/staff/profile/pitt/\n",
      "https://cs.illinois.edu/directory/staff/profile/kmacgreg/\n",
      "https://cs.illinois.edu/directory/faculty/profile/cgunter/\n",
      "https://cs.illinois.edu/directory/profile/czhai/\n",
      "https://cs.illinois.edu/directory/staff/profile/donnakc/\n",
      "https://cs.illinois.edu/directory/faculty/profile/wfu/\n",
      "https://cs.illinois.edu/directory/faculty/profile/juliahmr/\n",
      "https://cs.illinois.edu/directory/profile/davis68/\n",
      "https://cs.illinois.edu/directory/faculty/profile/jianpeng/\n",
      "https://cs.illinois.edu/directory/profile/jianpeng/\n",
      "https://cs.illinois.edu/news/illinois-researchers-win-nsf-frontier-award-enhance-cybersecurity-clouds-and-mobiles-healthcare/\n",
      "https://cs.illinois.edu/directory/staff/profile/ajdougla/\n",
      "https://cs.illinois.edu/directory/faculty/profile/pbg/\n",
      "https://cs.illinois.edu/news/illinois-college-engineering-announces-siebel-scholars-class-2012/\n",
      "https://cs.illinois.edu/directory/profile/madhu/\n",
      "https://cs.illinois.edu/directory/faculty/profile/paris/\n",
      "https://cs.illinois.edu/directory/faculty/profile/fischerp/\n",
      "https://cs.illinois.edu/directory/staff/profile/ewilson/\n",
      "https://cs.illinois.edu/directory/faculty/profile/caesar/\n",
      "https://cs.illinois.edu/directory/faculty/profile/shj/\n",
      "https://cs.illinois.edu/news/parameswaran-studies-human-loop-data-management/\n",
      "https://cs.illinois.edu/directory/faculty/profile/madhu/\n",
      "https://cs.illinois.edu/directory/faculty/profile/kcchang/\n",
      "https://cs.illinois.edu/directory/faculty/profile/klara/\n",
      "https://cs.illinois.edu/directory/staff/profile/desouzas/\n",
      "https://cs.illinois.edu/directory/staff/profile/smahanna/\n",
      "https://cs.illinois.edu/directory/faculty/profile/wgropp/\n",
      "https://cs.illinois.edu/directory/faculty/profile/kkarahal/\n",
      "https://cs.illinois.edu/directory/staff/profile/jlowens/\n",
      "https://cs.illinois.edu/directory/faculty/profile/akolla/\n",
      "https://cs.illinois.edu/directory/profile/madu/\n",
      "https://cs.illinois.edu/directory/faculty/profile/rhk/\n",
      "https://cs.illinois.edu/directory/faculty/profile/adityagp/\n",
      "https://cs.illinois.edu/directory/profile/danr/\n",
      "https://cs.illinois.edu/news/illinois-cs-part-30-million-homeland-security-research-center/\n",
      "https://cs.illinois.edu/directory/faculty/profile/grosu/\n",
      "https://cs.illinois.edu/news/illinois-receives-900k-automate-safety-road-vehicles/\n",
      "https://cs.illinois.edu/news/prof-karahalios-tests-speech-visualization-autistic-children/\n",
      "https://cs.illinois.edu/news/software-teaches-computers-translate-words-math/\n",
      "https://cs.illinois.edu/directory/faculty/profile/danr/\n",
      "https://cs.illinois.edu/directory/staff/profile/iclay/\n",
      "https://cs.illinois.edu/directory/faculty/profile/zaher/\n",
      "https://cs.illinois.edu/courses/profile/CS493/\n",
      "https://cs.illinois.edu/directory/faculty/profile/snir/\n",
      "https://cs.illinois.edu/directory/faculty/profile/egunter/\n",
      "https://cs.illinois.edu/news/novel-computing-techniques-assist-doctors-identifying-risk-children/\n",
      "https://cs.illinois.edu/directory/faculty/profile/vadve/\n",
      "https://cs.illinois.edu/news/nahrstedt-named-acting-director-coordinated-science-laboratory/\n",
      "https://cs.illinois.edu/news/university-illinois-urbana-champaign-central-new-320-million-digital-lab-manufacturing/\n",
      "https://cs.illinois.edu/directory/profile/jeffe/\n",
      "https://cs.illinois.edu/news/power-big-data/\n",
      "https://cs.illinois.edu/news/godfrey-receives-national-science-foundation-career-award/\n",
      "https://cs.illinois.edu/news/cs-illinois-welcomes-six-new-faculty/\n",
      "https://cs.illinois.edu/directory/staff/profile/rvanhook/\n",
      "https://cs.illinois.edu/news/picture-picture-adding-3d-objects-2d-images/\n",
      "https://cs.illinois.edu/directory/profile/gfrancis/\n",
      "https://cs.illinois.edu/news/researchers-win-best-paper-new-work-browser-extension-vulnerability/\n",
      "https://cs.illinois.edu/prospective-students/undergraduates/undergraduate-scholarships-and-awards/jump-trading-scholars/\n",
      "https://cs.illinois.edu/directory/faculty/profile/dhoiem/\n",
      "https://cs.illinois.edu/directory/faculty/profile/lavalle/\n",
      "https://cs.illinois.edu/courses/profile/CS499/\n",
      "https://cs.illinois.edu/news/parameswaran-receives-dissertation-awards/\n",
      "https://cs.illinois.edu/news/zilles-receives-student-senate-teaching-excellence-award/\n",
      "https://cs.illinois.edu/news/rahman-awarded-vmware-fellowship/\n",
      "https://cs.illinois.edu/news/students-win-best-student-paper-award-soda-10/\n",
      "https://cs.illinois.edu/directory/profile/romney2/\n",
      "https://cs.illinois.edu/news/homeland-security-focus-data-sciences-summer-insitute/\n",
      "https://cs.illinois.edu/news/new-paradigm-enables-more-secure-reliable-control-networks-power-grid/\n",
      "https://cs.illinois.edu/news/illinois-college-engineering-announces-siebel-scholars-class-2011/\n",
      "https://cs.illinois.edu/directory/profile/nirobles/\n",
      "https://cs.illinois.edu/news/creating-peer-peer-video-demand-systems/\n",
      "https://cs.illinois.edu/directory/profile/yershova/\n",
      "https://cs.illinois.edu/news/prof-zhai-receives-ibm-faculty-award/\n",
      "https://cs.illinois.edu/news/gropp-receives-siagsc-career-prize/\n",
      "https://cs.illinois.edu/news/snir-chosen-lead-mathematics-and-computer-science-division-argonne/\n",
      "https://cs.illinois.edu/directory/profile/gambill/\n",
      "https://cs.illinois.edu/news/nahrstedt-appointed-cra%E2%80%99s-computing-community-consortium-council/\n",
      "https://cs.illinois.edu/news/tarek-abdelzaher-named-willet-scholar/\n",
      "https://cs.illinois.edu/news/lifetime-achievement-real-time/\n",
      "https://cs.illinois.edu/news/phd-student-wins-fellowship-speech-visualization-tool-children-asd/\n",
      "https://cs.illinois.edu/directory/profile/vcs/\n",
      "https://cs.illinois.edu/news/sundaram-studies-collective-behavior-social-networks/\n",
      "https://cs.illinois.edu/news/roth-named-fellow-association-computational-linguistics/\n",
      "https://cs.illinois.edu/directory/path/rhk/\n",
      "https://cs.illinois.edu/news/nahrstedt-be-inducted-german-national-academy-sciences-leopoldina/\n",
      "https://cs.illinois.edu/news/best-paper-award-work-natural-language-processing/\n",
      "https://cs.illinois.edu/news/green-gps-saves-fuel-drivers/\n",
      "https://cs.illinois.edu/directory/profile/wah/\n",
      "https://cs.illinois.edu/news/researchers-win-best-paper-work-trust-metrics-information-networks/\n",
      "https://cs.illinois.edu/news/entrepreneurial-focused-course-seeks-expand-ui-led-revolutions-distributed-computing/\n",
      "https://cs.illinois.edu/directory/path/daf/\n",
      "https://cs.illinois.edu/news/chang-making-access-online-information-far-more-transparent/\n"
     ]
    }
   ],
   "source": [
    "for v in second_clust_subgraph.vs:\n",
    "    print v[\"name\"]"
   ]
  }
 ],
 "metadata": {
  "kernelspec": {
   "display_name": "Python 2",
   "language": "python",
   "name": "python2"
  },
  "language_info": {
   "codemirror_mode": {
    "name": "ipython",
    "version": 2
   },
   "file_extension": ".py",
   "mimetype": "text/x-python",
   "name": "python",
   "nbconvert_exporter": "python",
   "pygments_lexer": "ipython2",
   "version": "2.7.11"
  }
 },
 "nbformat": 4,
 "nbformat_minor": 0
}
