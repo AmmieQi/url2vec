{
 "cells": [
  {
   "cell_type": "code",
   "execution_count": 2,
   "metadata": {
    "collapsed": false
   },
   "outputs": [],
   "source": [
    "import os\n",
    "import numpy\n",
    "import sys\n",
    "sys.path.append(os.path.abspath(\"..\"))\n",
    "from urlembed.util.seqmanager import *"
   ]
  },
  {
   "cell_type": "code",
   "execution_count": 3,
   "metadata": {
    "collapsed": false
   },
   "outputs": [
    {
     "data": {
      "text/plain": [
       "'nocostraint_path = os.getcwd() + \"/../dataset/new/cs.illinois.edu.ListConstraint.words1000.depth10/\"\\nrmfile  = \"/home/chris/workspace/jupyter-notebook/url2vec/dataset/manual-membership/urlToMembership.txt\"\\n\\nvertex_path      = nocostraint_path + \"vertex.txt\"\\ncodecontent_map  = get_content_map(vertex_path)\\n\\nmap_path         = nocostraint_path + \"urlsMap.txt\"\\ncodeurl_map      = get_urlmap(map_path)\\n\\nsequences        = nocostraint_path + \"sequenceIDs.txt\"\\nseq              = get_seq(sequences)\\n\\nrm = RealMembership(rmfile)\\nground_truth = [int(rm.get_membership(codeurl_map[code])) for code in codeurl_map]'"
      ]
     },
     "execution_count": 3,
     "metadata": {},
     "output_type": "execute_result"
    }
   ],
   "source": [
    "\"\"\"nocostraint_path = os.getcwd() + \"/../dataset/new/cs.illinois.edu.ListConstraint.words1000.depth10/\"\n",
    "rmfile  = \"/home/chris/workspace/jupyter-notebook/url2vec/dataset/manual-membership/urlToMembership.txt\"\n",
    "\n",
    "vertex_path      = nocostraint_path + \"vertex.txt\"\n",
    "codecontent_map  = get_content_map(vertex_path)\n",
    "\n",
    "map_path         = nocostraint_path + \"urlsMap.txt\"\n",
    "codeurl_map      = get_urlmap(map_path)\n",
    "\n",
    "sequences        = nocostraint_path + \"sequenceIDs.txt\"\n",
    "seq              = get_seq(sequences)\n",
    "\n",
    "rm = RealMembership(rmfile)\n",
    "ground_truth = [int(rm.get_membership(codeurl_map[code])) for code in codeurl_map]\"\"\""
   ]
  },
  {
   "cell_type": "code",
   "execution_count": 4,
   "metadata": {
    "collapsed": false
   },
   "outputs": [],
   "source": [
    "nocostraint_path = os.getcwd() + \"/../dataset/new/cs.illinois.edu.ListConstraint.words1000.depth10/\"\n",
    "rmfile  = \"/home/chris/workspace/jupyter-notebook/url2vec/dataset/manual-membership/urlToMembership.txt\"\n",
    "\n",
    "vertex_path      = nocostraint_path + \"vertex.txt\"\n",
    "codecontent_map2  = get_content_map(vertex_path)\n"
   ]
  },
  {
   "cell_type": "code",
   "execution_count": 14,
   "metadata": {
    "collapsed": true
   },
   "outputs": [],
   "source": [
    "def get_confusion_tableOLD(real_membership_list, clusters_found_labels):\n",
    "    assert isinstance(real_membership_list[0], int), \"Type is not int\"\n",
    "    assert isinstance(clusters_found_labels[0], int), \"Type is not int\"\n",
    "    \n",
    "    # matrix(num_of real_clusters x clusters_found)\n",
    "    conf_table = np.zeros((len(set(real_membership_list)), len(set(clusters_found_labels))), dtype=\"int8\")\n",
    "    real_clusters_set = set(real_membership_list)\n",
    "    \n",
    "    real_clust_map = {}\n",
    "    index = 0\n",
    "    for c in real_clusters_set:\n",
    "        if not c in real_clust_map:\n",
    "            real_clust_map[c] = index\n",
    "            index += 1\n",
    "    \n",
    "    for current_clust in real_clust_map.keys():\n",
    "        for i in range(len(clusters_found_labels)):\n",
    "            if real_clust_map[real_membership_list[i]] == current_clust:\n",
    "                cluster_found = clusters_found_labels[i]\n",
    "                conf_table[current_clust, cluster_found] = conf_table[current_clust, cluster_found] + 1\n",
    "    return conf_table"
   ]
  },
  {
   "cell_type": "code",
   "execution_count": 9,
   "metadata": {
    "collapsed": false
   },
   "outputs": [
    {
     "data": {
      "text/plain": [
       "{'a': 1, 'b': 1, 'c': 1, 'd': 1, 'e': 1}"
      ]
     },
     "execution_count": 9,
     "metadata": {},
     "output_type": "execute_result"
    }
   ],
   "source": [
    "lista = [\"a\", \"b\", \"c\", \"d\", \"e\"]\n",
    "setti = set(lista)\n",
    "i = 0\n",
    "d = dict.fromkeys(setti, i+1)\n",
    "d"
   ]
  },
  {
   "cell_type": "code",
   "execution_count": 10,
   "metadata": {
    "collapsed": true
   },
   "outputs": [],
   "source": [
    "import numpy as np\n",
    "\n",
    "def get_confusion_table(ground_truth, predicted_labels):\n",
    "    assert len(ground_truth) == len(predicted_labels), \"Invalid input arguments\"\n",
    "    assert len(ground_truth) > 0, \"Invalid input arguments\"\n",
    "    assert isinstance(ground_truth[0], int), \"Type is not int\"\n",
    "    assert isinstance(predicted_labels[0], int), \"Type is not int\"\n",
    "\n",
    "    # matrix(ground_truth x predicted_labels)\n",
    "    conf_table = np.zeros((len(set(ground_truth)), len(set(predicted_labels))))\n",
    "    real_clust = list(set(ground_truth))\n",
    "    \n",
    "    # it's needed because ground truth can have discontinuous cluster set\n",
    "    clust_to_index = { real_clust[i]: i for i in range(len(real_clust)) }\n",
    "\n",
    "    for real_clust in clust_to_index.values():\n",
    "        for i in range(len(predicted_labels)):\n",
    "            if clust_to_index[ground_truth[i]] == real_clust:\n",
    "                cluster_found = predicted_labels[i]\n",
    "                conf_table[real_clust, cluster_found] = conf_table[real_clust, cluster_found] + 1\n",
    "    return conf_table\n"
   ]
  },
  {
   "cell_type": "code",
   "execution_count": 21,
   "metadata": {
    "collapsed": false
   },
   "outputs": [
    {
     "name": "stdout",
     "output_type": "stream",
     "text": [
      "set([0, 1, 3, 4, 5]) set([0, 1, 2, 3, 4, 5, -1])\n"
     ]
    },
    {
     "data": {
      "text/html": [
       "<div>\n",
       "<table border=\"1\" class=\"dataframe\">\n",
       "  <thead>\n",
       "    <tr style=\"text-align: right;\">\n",
       "      <th></th>\n",
       "      <th>0</th>\n",
       "      <th>1</th>\n",
       "      <th>2</th>\n",
       "      <th>3</th>\n",
       "      <th>4</th>\n",
       "      <th>5</th>\n",
       "      <th>-1</th>\n",
       "    </tr>\n",
       "  </thead>\n",
       "  <tbody>\n",
       "    <tr>\n",
       "      <th>0</th>\n",
       "      <td>1</td>\n",
       "      <td>0</td>\n",
       "      <td>0</td>\n",
       "      <td>1</td>\n",
       "      <td>0</td>\n",
       "      <td>0</td>\n",
       "      <td>0</td>\n",
       "    </tr>\n",
       "    <tr>\n",
       "      <th>1</th>\n",
       "      <td>0</td>\n",
       "      <td>0</td>\n",
       "      <td>0</td>\n",
       "      <td>0</td>\n",
       "      <td>0</td>\n",
       "      <td>1</td>\n",
       "      <td>1</td>\n",
       "    </tr>\n",
       "    <tr>\n",
       "      <th>3</th>\n",
       "      <td>0</td>\n",
       "      <td>0</td>\n",
       "      <td>1</td>\n",
       "      <td>0</td>\n",
       "      <td>0</td>\n",
       "      <td>0</td>\n",
       "      <td>0</td>\n",
       "    </tr>\n",
       "    <tr>\n",
       "      <th>4</th>\n",
       "      <td>0</td>\n",
       "      <td>1</td>\n",
       "      <td>0</td>\n",
       "      <td>0</td>\n",
       "      <td>0</td>\n",
       "      <td>0</td>\n",
       "      <td>1</td>\n",
       "    </tr>\n",
       "    <tr>\n",
       "      <th>5</th>\n",
       "      <td>0</td>\n",
       "      <td>0</td>\n",
       "      <td>0</td>\n",
       "      <td>1</td>\n",
       "      <td>1</td>\n",
       "      <td>2</td>\n",
       "      <td>0</td>\n",
       "    </tr>\n",
       "  </tbody>\n",
       "</table>\n",
       "</div>"
      ],
      "text/plain": [
       "    0   1   2   3   4   5  -1\n",
       "0   1   0   0   1   0   0   0\n",
       "1   0   0   0   0   0   1   1\n",
       "3   0   0   1   0   0   0   0\n",
       "4   0   1   0   0   0   0   1\n",
       "5   0   0   0   1   1   2   0"
      ]
     },
     "execution_count": 21,
     "metadata": {},
     "output_type": "execute_result"
    }
   ],
   "source": [
    "import pandas as pd\n",
    "gt = [0, 0, 3, 5, 5, 4,  1, 1, 5,  4, 5]\n",
    "pl = [3, 0, 2, 5, 4, 1, -1, 5, 3, -1, 5]\n",
    "print set(gt), set(pl)\n",
    "\n",
    "conf_table = pd.DataFrame(get_confusion_table(gt, pl), index=set(gt), columns=set(pl) )\n",
    "\n",
    "conf_table"
   ]
  }
 ],
 "metadata": {
  "kernelspec": {
   "display_name": "Python 2",
   "language": "python",
   "name": "python2"
  },
  "language_info": {
   "codemirror_mode": {
    "name": "ipython",
    "version": 2
   },
   "file_extension": ".py",
   "mimetype": "text/x-python",
   "name": "python",
   "nbconvert_exporter": "python",
   "pygments_lexer": "ipython2",
   "version": "2.7.11"
  }
 },
 "nbformat": 4,
 "nbformat_minor": 0
}
