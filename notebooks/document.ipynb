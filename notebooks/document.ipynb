{
 "cells": [
  {
   "cell_type": "markdown",
   "metadata": {},
   "source": [
    "# Document Clustering"
   ]
  },
  {
   "cell_type": "code",
   "execution_count": 2,
   "metadata": {
    "collapsed": false
   },
   "outputs": [],
   "source": [
    "import os\n",
    "import numpy as np\n",
    "import pandas as pd\n",
    "import sys\n",
    "sys.path.append(os.path.abspath(\"..\"))\n",
    "\n",
    "import plotly.plotly as py\n",
    "from plotly.graph_objs import *\n",
    "from urlembed.util.plotter import *\n",
    "from urlembed.util.seqmanager import *\n",
    "\n",
    "from sklearn import metrics\n",
    "from hdbscan import HDBSCAN\n",
    "from sklearn.manifold import TSNE\n",
    "from sklearn.cluster import KMeans\n",
    "from sklearn.cluster import DBSCAN\n",
    "from __future__ import print_function\n",
    "from nltk.stem.snowball import SnowballStemmer\n",
    "from sklearn.metrics.pairwise import cosine_similarity\n",
    "from sklearn.feature_extraction.text import TfidfVectorizer"
   ]
  },
  {
   "cell_type": "markdown",
   "metadata": {},
   "source": [
    "---"
   ]
  },
  {
   "cell_type": "markdown",
   "metadata": {},
   "source": [
    "# TF-IDF matrix"
   ]
  },
  {
   "cell_type": "markdown",
   "metadata": {},
   "source": [
    "Here is defined **term frequency - inverse document frequency** (tf-idf) vectorizer parameters and then convert the documents (web pages) list into a tf-idf matrix.\n",
    "\n",
    "To get a Tf-idf matrix, first count word occurrences by document. This is transformed into a **document-term matrix** (dtm). This is also just called a term frequency matrix.\n",
    "Then apply the term frequency-inverse document frequency weighting: words that occur frequently within a document but not frequently within the corpus receive a higher weighting as these words are assumed to contain more meaning in relation to the document.\n",
    "\n",
    "A couple things to note about the parameters defined below:\n",
    "\n",
    "**max_df**: this is the maximum frequency within the documents a given feature can have to be used in the tfi-idf matrix. If the term is in greater than 80% of the documents it probably cares little meanining\n",
    "\n",
    "**min_idf**: this could be an integer (e.g. 5) and the term would have to be in at least 5 of the documents to be considered. Here I pass 0.1; the term must be in at least 10% of the document.\n",
    "\n",
    "**ngram_range**: this just means I'll look at unigrams, bigrams and trigrams."
   ]
  },
  {
   "cell_type": "markdown",
   "metadata": {},
   "source": [
    "#### Document-Term Matrix\n",
    "\n",
    "![Alt text](http://www.codeproject.com/KB/WPF/NNMFSearchResultClusterin/table.jpg \"Very nice\")"
   ]
  },
  {
   "cell_type": "code",
   "execution_count": 3,
   "metadata": {
    "collapsed": false,
    "scrolled": true
   },
   "outputs": [],
   "source": [
    "tfidf_vectorizer = TfidfVectorizer(\n",
    "    max_df = 0.8,\n",
    "    max_features = 200000,\n",
    "    min_df = 0.1,\n",
    "    stop_words = 'english',\n",
    "    use_idf = True,\n",
    "    tokenizer = tokenize_and_stem,\n",
    "    ngram_range = (1,3)\n",
    ")"
   ]
  },
  {
   "cell_type": "markdown",
   "metadata": {},
   "source": [
    "The crawling proccess has been done in two different ways:\n",
    "\n",
    "- **No costraint**: the crawler follows a random outlink from all of the outlinks in a given page\n",
    "- **List costraint**: the crawler follows a random outlink but only from the outlinks in \"lists\""
   ]
  },
  {
   "cell_type": "markdown",
   "metadata": {},
   "source": [
    "# No-costraint documents"
   ]
  },
  {
   "cell_type": "code",
   "execution_count": 4,
   "metadata": {
    "collapsed": false,
    "scrolled": false
   },
   "outputs": [],
   "source": [
    "nocostraint_path = os.getcwd() + \"/../dataset/cs.illinois.edu_NoConstraint.words1000.depth10/\"\n",
    "vertex_nc_path   = nocostraint_path + \"vertex.txt\"\n",
    "map_nc_path      = nocostraint_path + \"urlsMap.txt\"\n",
    "\n",
    "codecontent_map_nc = get_content_map(vertex_nc_path)\n",
    "urlmap_nc          = get_urlmap(map_nc_path)\n",
    "\n",
    "documents_nc = [codecontent_map_nc[key] for key in codecontent_map_nc]\n",
    "codes_nc     = [key for key in codecontent_map_nc]\n",
    "urls_nc      = [urlmap_nc[key] for key in codecontent_map_nc]"
   ]
  },
  {
   "cell_type": "markdown",
   "metadata": {},
   "source": [
    "#### Cosine-Similarity\n",
    "Cosine similarity is measured against the tf-idf matrix and can be used to generate a measure of similarity between each document and the other documents in the corpus.\n",
    "\n",
    "Subtracting it from 1 provides cosine distance which I will use for plotting on a euclidean (2-dimensional) plane."
   ]
  },
  {
   "cell_type": "code",
   "execution_count": 5,
   "metadata": {
    "collapsed": false
   },
   "outputs": [
    {
     "name": "stdout",
     "output_type": "stream",
     "text": [
      "              \n",
      "documents  728\n",
      "terms      433\n",
      "\n",
      "\n",
      "\n"
     ]
    }
   ],
   "source": [
    "tfidf_matrix_nc = tfidf_vectorizer.fit_transform(documents_nc)\n",
    "dist_nc = 1 - cosine_similarity(tfidf_matrix_nc)\n",
    "\n",
    "print(pd.DataFrame({\"documents\":tfidf_matrix_nc.shape[0], \"terms\":tfidf_matrix_nc.shape[1]}, index=[\"\"]).T)\n",
    "print(\"\\n\\n\")"
   ]
  },
  {
   "cell_type": "markdown",
   "metadata": {},
   "source": [
    "## Clustering on No-costraint documents\n",
    "#### K-Means"
   ]
  },
  {
   "cell_type": "code",
   "execution_count": 7,
   "metadata": {
    "collapsed": false
   },
   "outputs": [
    {
     "data": {
      "text/html": [
       "<div>\n",
       "<table border=\"1\" class=\"dataframe\">\n",
       "  <thead>\n",
       "    <tr style=\"text-align: right;\">\n",
       "      <th></th>\n",
       "      <th>document</th>\n",
       "      <th>code</th>\n",
       "    </tr>\n",
       "  </thead>\n",
       "  <tbody>\n",
       "    <tr>\n",
       "      <th>5</th>\n",
       "      <td>john deere scholarship in computer science dep...</td>\n",
       "      <td>344</td>\n",
       "    </tr>\n",
       "    <tr>\n",
       "      <th>5</th>\n",
       "      <td>jump trading scholars department of computer s...</td>\n",
       "      <td>345</td>\n",
       "    </tr>\n",
       "    <tr>\n",
       "      <th>5</th>\n",
       "      <td>rockwell collins scholarship department of com...</td>\n",
       "      <td>346</td>\n",
       "    </tr>\n",
       "    <tr>\n",
       "      <th>5</th>\n",
       "      <td>spot trading scholarship department of compute...</td>\n",
       "      <td>347</td>\n",
       "    </tr>\n",
       "    <tr>\n",
       "      <th>5</th>\n",
       "      <td>illinois cyber security scholars program icssp...</td>\n",
       "      <td>340</td>\n",
       "    </tr>\n",
       "  </tbody>\n",
       "</table>\n",
       "</div>"
      ],
      "text/plain": [
       "                                            document code\n",
       "5  john deere scholarship in computer science dep...  344\n",
       "5  jump trading scholars department of computer s...  345\n",
       "5  rockwell collins scholarship department of com...  346\n",
       "5  spot trading scholarship department of compute...  347\n",
       "5  illinois cyber security scholars program icssp...  340"
      ]
     },
     "execution_count": 7,
     "metadata": {},
     "output_type": "execute_result"
    }
   ],
   "source": [
    "kmeans = KMeans(n_clusters=15)\n",
    "kmeans_labels_nc = kmeans.fit_predict(tfidf_matrix_nc)\n",
    "\n",
    "docs_nc = { \n",
    "    'code': codes_nc,\n",
    "    'document': documents_nc\n",
    "}\n",
    "frame_nc = pd.DataFrame(docs_nc, index=[kmeans_labels_nc] , columns=['document', 'code'])\n",
    "\n",
    "frame_nc[:5]"
   ]
  },
  {
   "cell_type": "markdown",
   "metadata": {},
   "source": [
    "#### Topic modeling\n",
    "Some fancy indexing and sorting on each cluster to identify which are the top n words that are nearest to the cluster centroid. This gives an idea of the main topic of each the cluster."
   ]
  },
  {
   "cell_type": "code",
   "execution_count": 42,
   "metadata": {
    "collapsed": false,
    "scrolled": false
   },
   "outputs": [
    {
     "data": {
      "text/html": [
       "<div>\n",
       "<table border=\"1\" class=\"dataframe\">\n",
       "  <thead>\n",
       "    <tr style=\"text-align: right;\">\n",
       "      <th></th>\n",
       "      <th>1</th>\n",
       "      <th>2</th>\n",
       "      <th>3</th>\n",
       "      <th>4</th>\n",
       "      <th>5</th>\n",
       "      <th>6</th>\n",
       "      <th>7</th>\n",
       "    </tr>\n",
       "  </thead>\n",
       "  <tbody>\n",
       "    <tr>\n",
       "      <th>Cluster 0 - Top Words</th>\n",
       "      <td>ph</td>\n",
       "      <td>ph</td>\n",
       "      <td>requirement</td>\n",
       "      <td>ms</td>\n",
       "      <td>graduate</td>\n",
       "      <td>form</td>\n",
       "      <td>d</td>\n",
       "    </tr>\n",
       "    <tr>\n",
       "      <th>Cluster 1 - Top Words</th>\n",
       "      <td>primary</td>\n",
       "      <td>primary</td>\n",
       "      <td>primary</td>\n",
       "      <td>research</td>\n",
       "      <td>professor</td>\n",
       "      <td>research</td>\n",
       "      <td>public</td>\n",
       "    </tr>\n",
       "    <tr>\n",
       "      <th>Cluster 2 - Top Words</th>\n",
       "      <td>said</td>\n",
       "      <td>s</td>\n",
       "      <td>work</td>\n",
       "      <td>using</td>\n",
       "      <td>developed</td>\n",
       "      <td>team</td>\n",
       "      <td>moone</td>\n",
       "    </tr>\n",
       "    <tr>\n",
       "      <th>Cluster 3 - Top Words</th>\n",
       "      <td>applications</td>\n",
       "      <td>programs</td>\n",
       "      <td>graduate</td>\n",
       "      <td>ms</td>\n",
       "      <td>fellowship</td>\n",
       "      <td>degrees</td>\n",
       "      <td>campus</td>\n",
       "    </tr>\n",
       "    <tr>\n",
       "      <th>Cluster 4 - Top Words</th>\n",
       "      <td>b</td>\n",
       "      <td>c</td>\n",
       "      <td>sci</td>\n",
       "      <td>r</td>\n",
       "      <td>comp</td>\n",
       "      <td>center</td>\n",
       "      <td>center</td>\n",
       "    </tr>\n",
       "    <tr>\n",
       "      <th>Cluster 5 - Top Words</th>\n",
       "      <td>description</td>\n",
       "      <td>topics</td>\n",
       "      <td>sections</td>\n",
       "      <td>courses</td>\n",
       "      <td>curriculum</td>\n",
       "      <td>instructors</td>\n",
       "      <td>day</td>\n",
       "    </tr>\n",
       "    <tr>\n",
       "      <th>Cluster 6 - Top Words</th>\n",
       "      <td>undergraduate</td>\n",
       "      <td>undergraduate</td>\n",
       "      <td>programs</td>\n",
       "      <td>illinois</td>\n",
       "      <td>edu</td>\n",
       "      <td>students</td>\n",
       "      <td>advising</td>\n",
       "    </tr>\n",
       "    <tr>\n",
       "      <th>Cluster 7 - Top Words</th>\n",
       "      <td>honors</td>\n",
       "      <td>public</td>\n",
       "      <td>honors</td>\n",
       "      <td>contact</td>\n",
       "      <td>contact</td>\n",
       "      <td>office</td>\n",
       "      <td>research</td>\n",
       "    </tr>\n",
       "    <tr>\n",
       "      <th>Cluster 8 - Top Words</th>\n",
       "      <td>store</td>\n",
       "      <td>courses</td>\n",
       "      <td>store</td>\n",
       "      <td>curriculum</td>\n",
       "      <td>cs</td>\n",
       "      <td>courses</td>\n",
       "      <td>home</td>\n",
       "    </tr>\n",
       "    <tr>\n",
       "      <th>Cluster 9 - Top Words</th>\n",
       "      <td>security</td>\n",
       "      <td>data</td>\n",
       "      <td>networks</td>\n",
       "      <td>information</td>\n",
       "      <td>s</td>\n",
       "      <td>work</td>\n",
       "      <td>new</td>\n",
       "    </tr>\n",
       "    <tr>\n",
       "      <th>Cluster 10 - Top Words</th>\n",
       "      <td>parallel</td>\n",
       "      <td>performance</td>\n",
       "      <td>parallel</td>\n",
       "      <td>programs</td>\n",
       "      <td>professor</td>\n",
       "      <td>models</td>\n",
       "      <td>high</td>\n",
       "    </tr>\n",
       "    <tr>\n",
       "      <th>Cluster 11 - Top Words</th>\n",
       "      <td>edu</td>\n",
       "      <td>illinois</td>\n",
       "      <td>edu</td>\n",
       "      <td>siebel</td>\n",
       "      <td>center</td>\n",
       "      <td>center</td>\n",
       "      <td>comp</td>\n",
       "    </tr>\n",
       "    <tr>\n",
       "      <th>Cluster 12 - Top Words</th>\n",
       "      <td>awards</td>\n",
       "      <td>member</td>\n",
       "      <td>s</td>\n",
       "      <td>service</td>\n",
       "      <td>siebel</td>\n",
       "      <td>outstanding</td>\n",
       "      <td>papers</td>\n",
       "    </tr>\n",
       "    <tr>\n",
       "      <th>Cluster 13 - Top Words</th>\n",
       "      <td>siebel</td>\n",
       "      <td>s</td>\n",
       "      <td>programs</td>\n",
       "      <td>center</td>\n",
       "      <td>work</td>\n",
       "      <td>advanced</td>\n",
       "      <td>siebel</td>\n",
       "    </tr>\n",
       "    <tr>\n",
       "      <th>Cluster 14 - Top Words</th>\n",
       "      <td>moone</td>\n",
       "      <td>media</td>\n",
       "      <td>awards</td>\n",
       "      <td>edu</td>\n",
       "      <td>illinois</td>\n",
       "      <td>s</td>\n",
       "      <td>work</td>\n",
       "    </tr>\n",
       "  </tbody>\n",
       "</table>\n",
       "</div>"
      ],
      "text/plain": [
       "                                    1              2            3  \\\n",
       "Cluster 0 - Top Words              ph             ph  requirement   \n",
       "Cluster 1 - Top Words         primary        primary      primary   \n",
       "Cluster 2 - Top Words            said              s         work   \n",
       "Cluster 3 - Top Words    applications       programs     graduate   \n",
       "Cluster 4 - Top Words               b              c          sci   \n",
       "Cluster 5 - Top Words     description         topics     sections   \n",
       "Cluster 6 - Top Words   undergraduate  undergraduate     programs   \n",
       "Cluster 7 - Top Words          honors         public       honors   \n",
       "Cluster 8 - Top Words           store        courses        store   \n",
       "Cluster 9 - Top Words        security           data     networks   \n",
       "Cluster 10 - Top Words       parallel    performance     parallel   \n",
       "Cluster 11 - Top Words            edu       illinois          edu   \n",
       "Cluster 12 - Top Words         awards         member            s   \n",
       "Cluster 13 - Top Words         siebel              s     programs   \n",
       "Cluster 14 - Top Words          moone          media       awards   \n",
       "\n",
       "                                  4           5            6         7  \n",
       "Cluster 0 - Top Words            ms    graduate         form         d  \n",
       "Cluster 1 - Top Words      research   professor     research    public  \n",
       "Cluster 2 - Top Words         using   developed         team     moone  \n",
       "Cluster 3 - Top Words            ms  fellowship      degrees    campus  \n",
       "Cluster 4 - Top Words             r        comp       center    center  \n",
       "Cluster 5 - Top Words       courses  curriculum  instructors       day  \n",
       "Cluster 6 - Top Words      illinois         edu     students  advising  \n",
       "Cluster 7 - Top Words       contact     contact       office  research  \n",
       "Cluster 8 - Top Words    curriculum          cs      courses      home  \n",
       "Cluster 9 - Top Words   information           s         work       new  \n",
       "Cluster 10 - Top Words     programs   professor       models      high  \n",
       "Cluster 11 - Top Words       siebel      center       center      comp  \n",
       "Cluster 12 - Top Words      service      siebel  outstanding    papers  \n",
       "Cluster 13 - Top Words       center        work     advanced    siebel  \n",
       "Cluster 14 - Top Words          edu    illinois            s      work  "
      ]
     },
     "execution_count": 42,
     "metadata": {},
     "output_type": "execute_result"
    }
   ],
   "source": [
    "# map -> {code: token_list}\n",
    "tokens_nc_map = to_tokens_map(codecontent_map_nc)\n",
    "# map -> {code: stem_list}\n",
    "stems_nc_map = to_stems_map(codecontent_map_nc)\n",
    "\n",
    "# total vocabulary, list of tokens\n",
    "totalvocab_nc_stemmed = [stem for key in codecontent_map_nc for stem in stems_nc_map[key]]\n",
    "# total vocabulary, list of stems\n",
    "totalvocab_nc_tokenized = [stem for key in codecontent_map_nc for stem in tokens_nc_map[key]]\n",
    "\n",
    "vocab_nc_frame = pd.DataFrame({'words': totalvocab_nc_tokenized}, index = totalvocab_nc_stemmed)\n",
    "terms_nc = tfidf_vectorizer.get_feature_names()\n",
    "\n",
    "# sort cluster centers by proximity to centroid\n",
    "order_centroids_nc = kmeans.cluster_centers_.argsort()[:,::-1]\n",
    "\n",
    "num_clusters_nc = len(set(kmeans_labels_nc))\n",
    "words_matrix_nc = [None] * num_clusters_nc\n",
    "top_n = 7\n",
    "\n",
    "for i in range(num_clusters_nc):\n",
    "    cluster_chart = [vocab_nc_frame.ix[terms_nc[ind].split(' ')].values.tolist()[0][0] for ind in order_centroids_nc[i,:top_n]]\n",
    "    words_matrix_nc[i] = cluster_chart\n",
    "    \n",
    "pd.DataFrame(\n",
    "    words_matrix_nc, \n",
    "    index = [\"Cluster \" + str(i) + \" - Top Words\" for i in range(num_clusters_nc)],\n",
    "    columns = list(range(1, top_n+1))\n",
    ")"
   ]
  },
  {
   "cell_type": "markdown",
   "metadata": {},
   "source": [
    "### K-Means Plot"
   ]
  },
  {
   "cell_type": "code",
   "execution_count": 35,
   "metadata": {
    "collapsed": false,
    "scrolled": false
   },
   "outputs": [],
   "source": [
    "tsne = TSNE(n_components=2, random_state=1)\n",
    "twodim_docs_nc = tsne.fit_transform(dist_nc)\n",
    "# tfidf_matrix_dense_nc = tfidf_matrix_nc.todense()\n",
    "# docs_vecs_nc = np.array([tfidf_matrix_dense_nc[i].A1 for i in range(len(tfidf_matrix_dense_nc))])\n",
    "clusters_colors_nc = [ get_color(i) for i in kmeans_labels_nc]\n",
    "\n",
    "kmeans_data = scatter_plot(twodim_docs_nc, word_labels=urls_nc, colors=clusters_colors_nc)\n",
    "py.iplot(kmeans_data, filename=\"K-Means t-SNE nocostraint - Doc Clustering\")"
   ]
  },
  {
   "cell_type": "markdown",
   "metadata": {},
   "source": [
    "---"
   ]
  },
  {
   "cell_type": "markdown",
   "metadata": {},
   "source": [
    "# List-costraint documents"
   ]
  },
  {
   "cell_type": "code",
   "execution_count": 36,
   "metadata": {
    "collapsed": true
   },
   "outputs": [],
   "source": [
    "listcostraint_path = os.getcwd() + \"/../dataset/cs.illinois.edu_ListConstraint.words1000.depth10/\"\n",
    "vertex_lc_path     = listcostraint_path + \"vertex.txt\"\n",
    "map_lc_path        = listcostraint_path + \"urlsMap.txt\"\n",
    "\n",
    "codecontent_map_lc = get_content_map(vertex_lc_path)\n",
    "urlmap_lc = get_urlmap(map_lc_path)\n",
    "\n",
    "# document list\n",
    "documents_lc = [codecontent_map_lc[key] for key in codecontent_map_lc]\n",
    "codes_lc     = [key for key in codecontent_map_lc]\n",
    "urls_lc      = [urlmap_lc[key] for key in codecontent_map_lc]"
   ]
  },
  {
   "cell_type": "markdown",
   "metadata": {},
   "source": [
    "#### Cosine-Similarity\n",
    "Cosine similarity is measured against the tf-idf matrix and can be used to generate a measure of similarity between each document and the other documents in the corpus.\n",
    "\n",
    "Subtracting it from 1 provides cosine distance which I will use for plotting on a euclidean (2-dimensional) plane."
   ]
  },
  {
   "cell_type": "code",
   "execution_count": 38,
   "metadata": {
    "collapsed": false
   },
   "outputs": [
    {
     "name": "stdout",
     "output_type": "stream",
     "text": [
      "               \n",
      "documents  1022\n",
      "terms       370\n",
      "\n",
      "\n",
      "\n"
     ]
    }
   ],
   "source": [
    "tfidf_matrix_lc = tfidf_vectorizer.fit_transform(documents_lc)\n",
    "\n",
    "dist_lc = 1 - cosine_similarity(tfidf_matrix_lc)\n",
    "\n",
    "print(pd.DataFrame({\"documents\":tfidf_matrix_lc.shape[0], \"terms\":tfidf_matrix_lc.shape[1]}, index=[\"\"]).T)\n",
    "print(\"\\n\\n\")"
   ]
  },
  {
   "cell_type": "markdown",
   "metadata": {},
   "source": [
    "## Clustering on List-costraint documents\n",
    "#### K-Means"
   ]
  },
  {
   "cell_type": "code",
   "execution_count": 39,
   "metadata": {
    "collapsed": false
   },
   "outputs": [
    {
     "data": {
      "text/html": [
       "<div>\n",
       "<table border=\"1\" class=\"dataframe\">\n",
       "  <thead>\n",
       "    <tr style=\"text-align: right;\">\n",
       "      <th></th>\n",
       "      <th>document</th>\n",
       "      <th>code</th>\n",
       "    </tr>\n",
       "  </thead>\n",
       "  <tbody>\n",
       "    <tr>\n",
       "      <th>7</th>\n",
       "      <td>engineering at illinois my cs illinois educomp...</td>\n",
       "      <td>344</td>\n",
       "    </tr>\n",
       "    <tr>\n",
       "      <th>7</th>\n",
       "      <td>engineering at illinois my cs illinois educomp...</td>\n",
       "      <td>345</td>\n",
       "    </tr>\n",
       "    <tr>\n",
       "      <th>1</th>\n",
       "      <td>engineering at illinois my cs illinois educomp...</td>\n",
       "      <td>346</td>\n",
       "    </tr>\n",
       "    <tr>\n",
       "      <th>8</th>\n",
       "      <td>engineering at illinois my cs illinois educomp...</td>\n",
       "      <td>347</td>\n",
       "    </tr>\n",
       "    <tr>\n",
       "      <th>11</th>\n",
       "      <td>engineering at illinois my cs illinois educomp...</td>\n",
       "      <td>340</td>\n",
       "    </tr>\n",
       "  </tbody>\n",
       "</table>\n",
       "</div>"
      ],
      "text/plain": [
       "                                             document code\n",
       "7   engineering at illinois my cs illinois educomp...  344\n",
       "7   engineering at illinois my cs illinois educomp...  345\n",
       "1   engineering at illinois my cs illinois educomp...  346\n",
       "8   engineering at illinois my cs illinois educomp...  347\n",
       "11  engineering at illinois my cs illinois educomp...  340"
      ]
     },
     "execution_count": 39,
     "metadata": {},
     "output_type": "execute_result"
    }
   ],
   "source": [
    "kmeans = KMeans(n_clusters=15)\n",
    "kmeans_labels_lc = kmeans.fit_predict(tfidf_matrix_lc)\n",
    "docs_lc = {\n",
    "    'code': codes_lc,\n",
    "    'document': documents_lc\n",
    "}\n",
    "\n",
    "frame_lc = pd.DataFrame(docs_lc, index = [kmeans_labels_lc] , columns = ['document', 'code'])\n",
    "frame_lc[:5]"
   ]
  },
  {
   "cell_type": "markdown",
   "metadata": {},
   "source": [
    "#### Topic modeling\n",
    "Some fancy indexing and sorting on each cluster to identify which are the top n words that are nearest to the cluster centroid. This gives an idea of the main topic of each the cluster."
   ]
  },
  {
   "cell_type": "code",
   "execution_count": 43,
   "metadata": {
    "collapsed": false
   },
   "outputs": [
    {
     "data": {
      "text/html": [
       "<div>\n",
       "<table border=\"1\" class=\"dataframe\">\n",
       "  <thead>\n",
       "    <tr style=\"text-align: right;\">\n",
       "      <th></th>\n",
       "      <th>1</th>\n",
       "      <th>2</th>\n",
       "      <th>3</th>\n",
       "      <th>4</th>\n",
       "      <th>5</th>\n",
       "      <th>6</th>\n",
       "      <th>7</th>\n",
       "    </tr>\n",
       "  </thead>\n",
       "  <tbody>\n",
       "    <tr>\n",
       "      <th>Cluster 0 - Top Words</th>\n",
       "      <td>ph</td>\n",
       "      <td>ph</td>\n",
       "      <td>required</td>\n",
       "      <td>ms</td>\n",
       "      <td>graduate</td>\n",
       "      <td>form</td>\n",
       "      <td>d</td>\n",
       "    </tr>\n",
       "    <tr>\n",
       "      <th>Cluster 1 - Top Words</th>\n",
       "      <td>primary</td>\n",
       "      <td>primary</td>\n",
       "      <td>primary</td>\n",
       "      <td>research</td>\n",
       "      <td>professor</td>\n",
       "      <td>research</td>\n",
       "      <td>publications</td>\n",
       "    </tr>\n",
       "    <tr>\n",
       "      <th>Cluster 2 - Top Words</th>\n",
       "      <td>said</td>\n",
       "      <td>s</td>\n",
       "      <td>working</td>\n",
       "      <td>used</td>\n",
       "      <td>development</td>\n",
       "      <td>team</td>\n",
       "      <td>moone</td>\n",
       "    </tr>\n",
       "    <tr>\n",
       "      <th>Cluster 3 - Top Words</th>\n",
       "      <td>applications</td>\n",
       "      <td>programming</td>\n",
       "      <td>graduate</td>\n",
       "      <td>ms</td>\n",
       "      <td>fellowship</td>\n",
       "      <td>degree</td>\n",
       "      <td>campus</td>\n",
       "    </tr>\n",
       "    <tr>\n",
       "      <th>Cluster 4 - Top Words</th>\n",
       "      <td>b</td>\n",
       "      <td>c</td>\n",
       "      <td>sci</td>\n",
       "      <td>r</td>\n",
       "      <td>comp</td>\n",
       "      <td>center</td>\n",
       "      <td>center</td>\n",
       "    </tr>\n",
       "    <tr>\n",
       "      <th>Cluster 5 - Top Words</th>\n",
       "      <td>description</td>\n",
       "      <td>topic</td>\n",
       "      <td>section</td>\n",
       "      <td>courses</td>\n",
       "      <td>curriculum</td>\n",
       "      <td>instructor</td>\n",
       "      <td>day</td>\n",
       "    </tr>\n",
       "    <tr>\n",
       "      <th>Cluster 6 - Top Words</th>\n",
       "      <td>undergraduate</td>\n",
       "      <td>undergraduate</td>\n",
       "      <td>programming</td>\n",
       "      <td>illinois</td>\n",
       "      <td>edu</td>\n",
       "      <td>students</td>\n",
       "      <td>advising</td>\n",
       "    </tr>\n",
       "    <tr>\n",
       "      <th>Cluster 7 - Top Words</th>\n",
       "      <td>honors</td>\n",
       "      <td>publications</td>\n",
       "      <td>honors</td>\n",
       "      <td>contacts</td>\n",
       "      <td>contacts</td>\n",
       "      <td>offices</td>\n",
       "      <td>research</td>\n",
       "    </tr>\n",
       "    <tr>\n",
       "      <th>Cluster 8 - Top Words</th>\n",
       "      <td>store</td>\n",
       "      <td>courses</td>\n",
       "      <td>store</td>\n",
       "      <td>curriculum</td>\n",
       "      <td>cs</td>\n",
       "      <td>courses</td>\n",
       "      <td>home</td>\n",
       "    </tr>\n",
       "    <tr>\n",
       "      <th>Cluster 9 - Top Words</th>\n",
       "      <td>security</td>\n",
       "      <td>data</td>\n",
       "      <td>networking</td>\n",
       "      <td>information</td>\n",
       "      <td>s</td>\n",
       "      <td>working</td>\n",
       "      <td>new</td>\n",
       "    </tr>\n",
       "    <tr>\n",
       "      <th>Cluster 10 - Top Words</th>\n",
       "      <td>parallel</td>\n",
       "      <td>performance</td>\n",
       "      <td>parallel</td>\n",
       "      <td>programming</td>\n",
       "      <td>professor</td>\n",
       "      <td>modeling</td>\n",
       "      <td>high</td>\n",
       "    </tr>\n",
       "    <tr>\n",
       "      <th>Cluster 11 - Top Words</th>\n",
       "      <td>edu</td>\n",
       "      <td>illinois</td>\n",
       "      <td>edu</td>\n",
       "      <td>siebel</td>\n",
       "      <td>center</td>\n",
       "      <td>center</td>\n",
       "      <td>comp</td>\n",
       "    </tr>\n",
       "    <tr>\n",
       "      <th>Cluster 12 - Top Words</th>\n",
       "      <td>awarded</td>\n",
       "      <td>members</td>\n",
       "      <td>s</td>\n",
       "      <td>service</td>\n",
       "      <td>siebel</td>\n",
       "      <td>outstanding</td>\n",
       "      <td>papers</td>\n",
       "    </tr>\n",
       "    <tr>\n",
       "      <th>Cluster 13 - Top Words</th>\n",
       "      <td>siebel</td>\n",
       "      <td>s</td>\n",
       "      <td>programming</td>\n",
       "      <td>center</td>\n",
       "      <td>working</td>\n",
       "      <td>advanced</td>\n",
       "      <td>siebel</td>\n",
       "    </tr>\n",
       "    <tr>\n",
       "      <th>Cluster 14 - Top Words</th>\n",
       "      <td>moone</td>\n",
       "      <td>media</td>\n",
       "      <td>awarded</td>\n",
       "      <td>edu</td>\n",
       "      <td>illinois</td>\n",
       "      <td>s</td>\n",
       "      <td>working</td>\n",
       "    </tr>\n",
       "  </tbody>\n",
       "</table>\n",
       "</div>"
      ],
      "text/plain": [
       "                                    1              2            3  \\\n",
       "Cluster 0 - Top Words              ph             ph     required   \n",
       "Cluster 1 - Top Words         primary        primary      primary   \n",
       "Cluster 2 - Top Words            said              s      working   \n",
       "Cluster 3 - Top Words    applications    programming     graduate   \n",
       "Cluster 4 - Top Words               b              c          sci   \n",
       "Cluster 5 - Top Words     description          topic      section   \n",
       "Cluster 6 - Top Words   undergraduate  undergraduate  programming   \n",
       "Cluster 7 - Top Words          honors   publications       honors   \n",
       "Cluster 8 - Top Words           store        courses        store   \n",
       "Cluster 9 - Top Words        security           data   networking   \n",
       "Cluster 10 - Top Words       parallel    performance     parallel   \n",
       "Cluster 11 - Top Words            edu       illinois          edu   \n",
       "Cluster 12 - Top Words        awarded        members            s   \n",
       "Cluster 13 - Top Words         siebel              s  programming   \n",
       "Cluster 14 - Top Words          moone          media      awarded   \n",
       "\n",
       "                                  4            5            6             7  \n",
       "Cluster 0 - Top Words            ms     graduate         form             d  \n",
       "Cluster 1 - Top Words      research    professor     research  publications  \n",
       "Cluster 2 - Top Words          used  development         team         moone  \n",
       "Cluster 3 - Top Words            ms   fellowship       degree        campus  \n",
       "Cluster 4 - Top Words             r         comp       center        center  \n",
       "Cluster 5 - Top Words       courses   curriculum   instructor           day  \n",
       "Cluster 6 - Top Words      illinois          edu     students      advising  \n",
       "Cluster 7 - Top Words      contacts     contacts      offices      research  \n",
       "Cluster 8 - Top Words    curriculum           cs      courses          home  \n",
       "Cluster 9 - Top Words   information            s      working           new  \n",
       "Cluster 10 - Top Words  programming    professor     modeling          high  \n",
       "Cluster 11 - Top Words       siebel       center       center          comp  \n",
       "Cluster 12 - Top Words      service       siebel  outstanding        papers  \n",
       "Cluster 13 - Top Words       center      working     advanced        siebel  \n",
       "Cluster 14 - Top Words          edu     illinois            s       working  "
      ]
     },
     "execution_count": 43,
     "metadata": {},
     "output_type": "execute_result"
    }
   ],
   "source": [
    "# map -> {code: token_list}\n",
    "tokens_lc_map = to_tokens_map(codecontent_map_lc)\n",
    "# map -> {code: stem_list}\n",
    "stems_lc_map = to_stems_map(codecontent_map_lc)\n",
    "\n",
    "# total vocabulary, list of tokens\n",
    "totalvocab_lc_stemmed = [stem for key in codecontent_map_lc for stem in stems_lc_map[key]]\n",
    "# total vocabulary, list of stems\n",
    "totalvocab_lc_tokenized = [stem for key in codecontent_map_lc for stem in tokens_lc_map[key]]\n",
    "\n",
    "vocab_lc_frame = pd.DataFrame({'words': totalvocab_lc_tokenized}, index = totalvocab_lc_stemmed)\n",
    "terms_lc = tfidf_vectorizer.get_feature_names()\n",
    "\n",
    "# sort cluster centers by proximity to centroid\n",
    "order_centroids_lc = kmeans.cluster_centers_.argsort()[:, ::-1]\n",
    "\n",
    "num_clusters_lc = len(set(kmeans_labels_lc))\n",
    "words_matrix_lc = [None] * num_clusters_lc\n",
    "top_n = 7\n",
    "\n",
    "for i in range(num_clusters_lc):\n",
    "    cluster_chart = [vocab_lc_frame.ix[terms_lc[ind].split(' ')].values.tolist()[0][0] for ind in order_centroids_lc[i,:top_n]]\n",
    "    words_matrix_lc[i] = cluster_chart\n",
    "    \n",
    "pd.DataFrame(\n",
    "    words_matrix_lc, \n",
    "    index = [\"Cluster \" + str(i) + \" - Top Words\" for i in range(num_clusters_lc)],\n",
    "    columns = list(range(1, top_n+1))\n",
    ")"
   ]
  },
  {
   "cell_type": "markdown",
   "metadata": {},
   "source": [
    "### K-Means Plot"
   ]
  },
  {
   "cell_type": "code",
   "execution_count": 44,
   "metadata": {
    "collapsed": false,
    "scrolled": false
   },
   "outputs": [],
   "source": [
    "tfidf_matrix_lc_dense = tfidf_matrix_lc.todense()\n",
    "docs_vecs_lc = np.array([tfidf_matrix_lc_dense[i].A1 for i in range(len(tfidf_matrix_lc_dense))])\n",
    "\n",
    "clusters_colors_lc = [ get_color(i) for i in kmeans_labels_lc]\n",
    "\n",
    "twodim_docs_lc = tsne.fit_transform(dist_lc)\n",
    "\n",
    "k_tsne_data_lc = scatter_plot(twodim_docs_lc, word_labels=urls_lc, colors=clusters_colors_lc)\n",
    "py.iplot(k_tsne_data_lc, filename=\"K-Means listcostraint - Doc Clustering\")"
   ]
  },
  {
   "cell_type": "markdown",
   "metadata": {},
   "source": [
    "---"
   ]
  },
  {
   "cell_type": "markdown",
   "metadata": {},
   "source": [
    "# EVALUATION"
   ]
  },
  {
   "cell_type": "markdown",
   "metadata": {},
   "source": [
    "### GROUND TRUTH"
   ]
  },
  {
   "cell_type": "code",
   "execution_count": 47,
   "metadata": {
    "collapsed": false
   },
   "outputs": [
    {
     "name": "stdout",
     "output_type": "stream",
     "text": [
      "Clusters found manually: 14\n",
      "[0, 1, 2, 3, 4, 6, 8, 10, 11, 12, 13, 14, 15, -1]\n",
      "\n",
      "Clusters found manually: 13\n",
      "[0, 1, 2, 3, 4, 6, 8, 10, 12, 13, 14, 15, -1]\n",
      "\n",
      "\n",
      "\n"
     ]
    }
   ],
   "source": [
    "gt = GroundTruth(os.getcwd() + \"/../dataset/ground_truth/urlToMembership.txt\")\n",
    "ground_truth_lc = [int(gt.get_groundtruth(urlmap_lc[key])) for key in codecontent_map_lc]\n",
    "\n",
    "gt = GroundTruth(os.getcwd() + \"/../dataset/ground_truth/urlToMembership.txt\")\n",
    "ground_truth_nc = [int(gt.get_groundtruth(urlmap_nc[key])) for key in codecontent_map_nc]\n",
    "\n",
    "print(\"Clusters found manually:\", len(set(ground_truth_nc)))\n",
    "print([label for label in set(ground_truth_nc)])\n",
    "print()\n",
    "print(\"Clusters found manually:\", len(set(ground_truth_lc)))\n",
    "print([label for label in set(ground_truth_lc)])\n",
    "print(\"\\n\\n\")"
   ]
  },
  {
   "cell_type": "markdown",
   "metadata": {},
   "source": [
    "## DBSCAN and HDBSCAN nocostraint"
   ]
  },
  {
   "cell_type": "code",
   "execution_count": 48,
   "metadata": {
    "collapsed": false,
    "scrolled": false
   },
   "outputs": [
    {
     "name": "stdout",
     "output_type": "stream",
     "text": [
      "Clusters found with DBSCAN: 16\n",
      "[0, 1, 2, 3, 4, 5, 6, 7, 8, 9, 10, 11, 12, 13, 14, -1]\n",
      "\n",
      "\n",
      "Clusters found with HDBSCAN: 15\n",
      "[0, 1, 2, 3, 4, 5, 6, 7, 8, 9, 10, 11, 12, 13, -1]\n",
      "\n",
      "\n",
      "\n"
     ]
    }
   ],
   "source": [
    "dbscan = DBSCAN(eps=0.9, min_samples=4)\n",
    "dbscan_labels_nc = dbscan.fit_predict(tfidf_matrix_nc)\n",
    "\n",
    "print(\"Clusters found with DBSCAN:\", len(set(dbscan_labels_nc)))\n",
    "print ([label for label in set(dbscan_labels_nc)])\n",
    "print(\"\\n\")\n",
    "\n",
    "hdbscan = HDBSCAN(min_cluster_size=4)\n",
    "hdbscan_labels_nc = hdbscan.fit_predict(tfidf_matrix_nc)\n",
    "\n",
    "print(\"Clusters found with HDBSCAN:\", len(set(hdbscan_labels_nc)))\n",
    "print([label for label in set(hdbscan_labels_nc)])\n",
    "print(\"\\n\\n\")"
   ]
  },
  {
   "cell_type": "markdown",
   "metadata": {},
   "source": [
    "## DBSCAN and HDBSCAN listcostraint"
   ]
  },
  {
   "cell_type": "code",
   "execution_count": 49,
   "metadata": {
    "collapsed": false
   },
   "outputs": [
    {
     "name": "stdout",
     "output_type": "stream",
     "text": [
      "Clusters found with DBSCAN: 14\n",
      "[0, 1, 2, 3, 4, 5, 6, 7, 8, 9, 10, 11, 12, -1]\n",
      "\n",
      "\n",
      "Clusters found with HDBSCAN: 13\n",
      "[0, 1, 2, 3, 4, 5, 6, 7, 8, 9, 10, 11, -1]\n",
      "\n",
      "\n",
      "\n"
     ]
    }
   ],
   "source": [
    "dbscan = DBSCAN(eps=0.7, min_samples=4)\n",
    "dbscan_labels_lc = dbscan.fit_predict(tfidf_matrix_lc)\n",
    "\n",
    "print(\"Clusters found with DBSCAN:\", len(set(dbscan_labels_lc)))\n",
    "print ([label for label in set(dbscan_labels_lc)])\n",
    "print(\"\\n\")\n",
    "\n",
    "hdbscan = HDBSCAN(min_cluster_size=7)\n",
    "hdbscan_labels_lc = hdbscan.fit_predict(tfidf_matrix_lc)\n",
    "\n",
    "print(\"Clusters found with HDBSCAN:\", len(set(hdbscan_labels_lc)))\n",
    "print([label for label in set(hdbscan_labels_lc)])\n",
    "print(\"\\n\\n\")"
   ]
  },
  {
   "cell_type": "markdown",
   "metadata": {},
   "source": [
    "## Metrics"
   ]
  },
  {
   "cell_type": "code",
   "execution_count": 72,
   "metadata": {
    "collapsed": false
   },
   "outputs": [
    {
     "data": {
      "text/html": [
       "<div>\n",
       "<table border=\"1\" class=\"dataframe\">\n",
       "  <thead>\n",
       "    <tr style=\"text-align: right;\">\n",
       "      <th></th>\n",
       "      <th>Homogeneity</th>\n",
       "      <th>Completeness</th>\n",
       "      <th>V-Measure core</th>\n",
       "      <th>Adjusted Rand index</th>\n",
       "      <th>Mutual Information</th>\n",
       "    </tr>\n",
       "  </thead>\n",
       "  <tbody>\n",
       "    <tr>\n",
       "      <th>NoCostraint - DBSCAN</th>\n",
       "      <td>0.560068</td>\n",
       "      <td>0.596247</td>\n",
       "      <td>0.577592</td>\n",
       "      <td>0.407829</td>\n",
       "      <td>0.534608</td>\n",
       "    </tr>\n",
       "    <tr>\n",
       "      <th>NoCostraint - HDBSCAN</th>\n",
       "      <td>0.515236</td>\n",
       "      <td>0.602887</td>\n",
       "      <td>0.555626</td>\n",
       "      <td>0.386213</td>\n",
       "      <td>0.485780</td>\n",
       "    </tr>\n",
       "    <tr>\n",
       "      <th>NoCostraint - K-MEANS</th>\n",
       "      <td>0.754334</td>\n",
       "      <td>0.572492</td>\n",
       "      <td>0.650952</td>\n",
       "      <td>0.311199</td>\n",
       "      <td>0.548965</td>\n",
       "    </tr>\n",
       "    <tr>\n",
       "      <th>ListCostraint - DBSCAN</th>\n",
       "      <td>0.570969</td>\n",
       "      <td>0.704237</td>\n",
       "      <td>0.630639</td>\n",
       "      <td>0.519670</td>\n",
       "      <td>0.556604</td>\n",
       "    </tr>\n",
       "    <tr>\n",
       "      <th>ListCostraint - HDBSCAN</th>\n",
       "      <td>0.450059</td>\n",
       "      <td>0.510352</td>\n",
       "      <td>0.478313</td>\n",
       "      <td>0.193805</td>\n",
       "      <td>0.429703</td>\n",
       "    </tr>\n",
       "    <tr>\n",
       "      <th>ListCostraint - K-MEANS</th>\n",
       "      <td>0.844222</td>\n",
       "      <td>0.606859</td>\n",
       "      <td>0.706127</td>\n",
       "      <td>0.440011</td>\n",
       "      <td>0.593167</td>\n",
       "    </tr>\n",
       "  </tbody>\n",
       "</table>\n",
       "</div>"
      ],
      "text/plain": [
       "                         Homogeneity  Completeness  V-Measure core  \\\n",
       "NoCostraint - DBSCAN        0.560068      0.596247        0.577592   \n",
       "NoCostraint - HDBSCAN       0.515236      0.602887        0.555626   \n",
       "NoCostraint - K-MEANS       0.754334      0.572492        0.650952   \n",
       "ListCostraint - DBSCAN      0.570969      0.704237        0.630639   \n",
       "ListCostraint - HDBSCAN     0.450059      0.510352        0.478313   \n",
       "ListCostraint - K-MEANS     0.844222      0.606859        0.706127   \n",
       "\n",
       "                         Adjusted Rand index  Mutual Information  \n",
       "NoCostraint - DBSCAN                0.407829            0.534608  \n",
       "NoCostraint - HDBSCAN               0.386213            0.485780  \n",
       "NoCostraint - K-MEANS               0.311199            0.548965  \n",
       "ListCostraint - DBSCAN              0.519670            0.556604  \n",
       "ListCostraint - HDBSCAN             0.193805            0.429703  \n",
       "ListCostraint - K-MEANS             0.440011            0.593167  "
      ]
     },
     "execution_count": 72,
     "metadata": {},
     "output_type": "execute_result"
    }
   ],
   "source": [
    "metrics_df = pd.DataFrame([\n",
    "        [\n",
    "            # dbscan nocostraint\n",
    "            metrics.homogeneity_score(ground_truth_nc, dbscan_labels_nc),\n",
    "            metrics.completeness_score(ground_truth_nc, dbscan_labels_nc),\n",
    "            metrics.v_measure_score(ground_truth_nc, dbscan_labels_nc),\n",
    "            metrics.adjusted_rand_score(ground_truth_nc, dbscan_labels_nc),\n",
    "            metrics.adjusted_mutual_info_score(ground_truth_nc, dbscan_labels_nc)\n",
    "        ],\n",
    "        [\n",
    "            # hdbscan nocostraint\n",
    "            metrics.homogeneity_score(ground_truth_nc, hdbscan_labels_nc),\n",
    "            metrics.completeness_score(ground_truth_nc, hdbscan_labels_nc),\n",
    "            metrics.v_measure_score(ground_truth_nc, hdbscan_labels_nc),\n",
    "            metrics.adjusted_rand_score(ground_truth_nc, hdbscan_labels_nc),\n",
    "            metrics.adjusted_mutual_info_score(ground_truth_nc, hdbscan_labels_nc)\n",
    "        ],\n",
    "        [\n",
    "            # kmeans nocostraint\n",
    "            metrics.homogeneity_score(ground_truth_nc, kmeans_labels_nc),\n",
    "            metrics.completeness_score(ground_truth_nc, kmeans_labels_nc),\n",
    "            metrics.v_measure_score(ground_truth_nc, kmeans_labels_nc),\n",
    "            metrics.adjusted_rand_score(ground_truth_nc, kmeans_labels_nc),\n",
    "            metrics.adjusted_mutual_info_score(ground_truth_nc, kmeans_labels_nc)\n",
    "        ],\n",
    "        [\n",
    "            # dbscan listcostraint\n",
    "            metrics.homogeneity_score(ground_truth_lc, dbscan_labels_lc),\n",
    "            metrics.completeness_score(ground_truth_lc, dbscan_labels_lc),\n",
    "            metrics.v_measure_score(ground_truth_lc, dbscan_labels_lc),\n",
    "            metrics.adjusted_rand_score(ground_truth_lc, dbscan_labels_lc),\n",
    "            metrics.adjusted_mutual_info_score(ground_truth_lc, dbscan_labels_lc)\n",
    "        ],\n",
    "        [\n",
    "            # hdbscan listcostraint\n",
    "            metrics.homogeneity_score(ground_truth_lc, hdbscan_labels_lc),\n",
    "            metrics.completeness_score(ground_truth_lc, hdbscan_labels_lc),\n",
    "            metrics.v_measure_score(ground_truth_lc, hdbscan_labels_lc),\n",
    "            metrics.adjusted_rand_score(ground_truth_lc, hdbscan_labels_lc),\n",
    "            metrics.adjusted_mutual_info_score(ground_truth_lc, hdbscan_labels_lc)\n",
    "        ],\n",
    "        [\n",
    "            # kmeans listcostraint\n",
    "            metrics.homogeneity_score(ground_truth_lc, kmeans_labels_lc),\n",
    "            metrics.completeness_score(ground_truth_lc, kmeans_labels_lc),\n",
    "            metrics.v_measure_score(ground_truth_lc, kmeans_labels_lc),\n",
    "            metrics.adjusted_rand_score(ground_truth_lc, kmeans_labels_lc),\n",
    "            metrics.adjusted_mutual_info_score(ground_truth_lc, kmeans_labels_lc)\n",
    "        ]],\n",
    "        index=[\"NoCostraint - DBSCAN\", \"NoCostraint - HDBSCAN\", \"NoCostraint - K-MEANS\", \"ListCostraint - DBSCAN\", \"ListCostraint - HDBSCAN\", \"ListCostraint - K-MEANS\"],\n",
    "        columns=[\"Homogeneity\", \"Completeness\", \"V-Measure core\", \"Adjusted Rand index\", \"Mutual Information\"])\n",
    "\n",
    "metrics_df"
   ]
  },
  {
   "cell_type": "code",
   "execution_count": null,
   "metadata": {
    "collapsed": true
   },
   "outputs": [],
   "source": []
  },
  {
   "cell_type": "code",
   "execution_count": null,
   "metadata": {
    "collapsed": true
   },
   "outputs": [],
   "source": []
  },
  {
   "cell_type": "markdown",
   "metadata": {},
   "source": [
    "# w2v - tfidf"
   ]
  },
  {
   "cell_type": "code",
   "execution_count": null,
   "metadata": {
    "collapsed": false
   },
   "outputs": [],
   "source": [
    "from url_sequences.sequence_handler import *\n",
    "sequences_lc = listcostraint_path + \"sequenceIDs.txt\"\n",
    "\n",
    "# because of generator\n",
    "vocab_sequences = get_seq(sequences_lc, 1)\n",
    "train_sequences = get_seq(sequences_lc, 1)"
   ]
  },
  {
   "cell_type": "code",
   "execution_count": null,
   "metadata": {
    "collapsed": false
   },
   "outputs": [],
   "source": [
    "from gensim.models import Word2Vec\n",
    "\n",
    "w2v_model = Word2Vec(min_count=1, negative=5, size=48)\n",
    "w2v_model.build_vocab(vocab_sequences)\n",
    "w2v_model.train(train_sequences)"
   ]
  },
  {
   "cell_type": "code",
   "execution_count": null,
   "metadata": {
    "collapsed": false
   },
   "outputs": [],
   "source": [
    "w2v_vecs_lc = np.array([w2v_model[key] for key in content_lc_map]) \n",
    "docs_vecs_lc = docs_vecs_lc"
   ]
  },
  {
   "cell_type": "code",
   "execution_count": null,
   "metadata": {
    "collapsed": false
   },
   "outputs": [],
   "source": [
    "type(docs_vecs_lc)"
   ]
  },
  {
   "cell_type": "code",
   "execution_count": null,
   "metadata": {
    "collapsed": false
   },
   "outputs": [],
   "source": [
    "tsne50 =  TSNE(n_components=50)\n",
    "docs_vecs_lc_reduced = tsne50.fit_transform(docs_vecs_lc)\n",
    "# vecs = [ np.concatenate((w2v_vecs_lc[i], docs_vecs_lc_reduced[i]), axis=0) for i in range(3)]\n"
   ]
  }
 ],
 "metadata": {
  "kernelspec": {
   "display_name": "Python 2",
   "language": "python",
   "name": "python2"
  },
  "language_info": {
   "codemirror_mode": {
    "name": "ipython",
    "version": 2
   },
   "file_extension": ".py",
   "mimetype": "text/x-python",
   "name": "python",
   "nbconvert_exporter": "python",
   "pygments_lexer": "ipython2",
   "version": "2.7.11"
  }
 },
 "nbformat": 4,
 "nbformat_minor": 0
}
