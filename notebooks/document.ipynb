{
 "cells": [
  {
   "cell_type": "code",
   "execution_count": 1,
   "metadata": {
    "collapsed": false
   },
   "outputs": [
    {
     "name": "stdout",
     "output_type": "stream",
     "text": [
      "('Path of real membership file: ', '/home/chris/workspace/jupyter-notebook/url2vec/util/../dataset/manual-membership/urlToMembership.txt')\n"
     ]
    }
   ],
   "source": [
    "import os\n",
    "import numpy as np\n",
    "import pandas as pd\n",
    "import sys\n",
    "sys.path.append(os.path.abspath(\"..\"))\n",
    "\n",
    "import nltk\n",
    "from nltk.stem.snowball import SnowballStemmer\n",
    "\n",
    "from util.sequence_manager import *\n",
    "from util.sequence_plotter import *\n",
    "\n",
    "from sklearn.feature_extraction.text import TfidfVectorizer\n",
    "from sklearn.metrics.pairwise import cosine_similarity\n",
    "from sklearn.cluster import KMeans\n",
    "\n",
    "from sklearn.manifold import TSNE\n",
    "from sklearn.manifold import MDS\n",
    "\n",
    "from __future__ import print_function\n",
    "import plotly.plotly as py\n",
    "from plotly.graph_objs import *\n",
    "import plotly.graph_objs as go"
   ]
  },
  {
   "cell_type": "code",
   "execution_count": null,
   "metadata": {
    "collapsed": true
   },
   "outputs": [],
   "source": [
    "# run below to dowload english stopwords\n",
    "# nltk.download()\n",
    "# english stopwords\n",
    "stopwords = nltk.corpus.stopwords.words('english')\n",
    "# english stemmer\n",
    "# stemmer = SnowballStemmer(\"english\")"
   ]
  },
  {
   "cell_type": "code",
   "execution_count": null,
   "metadata": {
    "collapsed": false,
    "scrolled": false
   },
   "outputs": [],
   "source": [
    "nocostraint_path = os.getcwd() + \"/dataset/new/cs.illinois.eduNoConstraint.words1000.depth.10/\"\n",
    "vertex_nc_path= nocostraint_path + \"vertex.txt\"\n",
    "map_nc_path = nocostraint_path + \"urlsMap.txt\"\n",
    "\n",
    "content_nc_map = get_content_map(vertex_nc_path)\n",
    "url_nc_map = get_urlmap(map_nc_path)\n",
    "\n",
    "# map -> {code: token_list}\n",
    "tokens_nc_map = to_tokens_map(content_nc_map)\n",
    "# map -> {code: stem_list}\n",
    "stems_nc_map = to_stems_map(content_nc_map)\n",
    "\n",
    "# total vocabulary, list of tokens\n",
    "totalvocab_nc_stemmed = get_total_vocab(stems_nc_map)\n",
    "# total vocabulary, list of stems\n",
    "totalvocab_nc_tokenized = get_total_vocab(tokens_nc_map)\n",
    "\n",
    "# document list\n",
    "documents_nc = [content_nc_map[key] for key in content_nc_map]\n",
    "codes_nc = [key for key in content_nc_map]\n",
    "longurls_nc = [url_nc_map[key] for key in content_nc_map]"
   ]
  },
  {
   "cell_type": "code",
   "execution_count": null,
   "metadata": {
    "collapsed": true
   },
   "outputs": [],
   "source": [
    "listcostraint_path = os.getcwd() + \"/dataset/new/cs.illinois.edu.ListConstraint.words1000.depth10/\"\n",
    "vertex_lc_path= listcostraint_path + \"vertex.txt\"\n",
    "map_lc_path = listcostraint_path + \"urlsMap.txt\"\n",
    "\n",
    "content_lc_map = get_content_map(vertex_lc_path)\n",
    "url_lc_map = get_urlmap(map_lc_path)\n",
    "\n",
    "# map -> {code: token_list}\n",
    "tokens_lc_map = to_tokens_map(content_lc_map)\n",
    "# map -> {code: stem_list}\n",
    "stems_lc_map = to_stems_map(content_lc_map)\n",
    "\n",
    "# total vocabulary, list of tokens\n",
    "totalvocab_lc_stemmed = get_total_vocab(stems_lc_map)\n",
    "# total vocabulary, list of stems\n",
    "totalvocab_lc_tokenized = get_total_vocab(tokens_lc_map)\n",
    "\n",
    "# document list\n",
    "documents_lc = [content_lc_map[key] for key in content_lc_map]\n",
    "codes_lc = [key for key in content_lc_map]\n",
    "longurls_lc = [url_lc_map[key] for key in content_lc_map]"
   ]
  },
  {
   "cell_type": "code",
   "execution_count": null,
   "metadata": {
    "collapsed": false,
    "scrolled": false
   },
   "outputs": [],
   "source": [
    "vocab_nc_frame = pd.DataFrame({'words': totalvocab_nc_tokenized}, index = totalvocab_nc_stemmed)\n",
    "vocab_nc_frame[:5]"
   ]
  },
  {
   "cell_type": "code",
   "execution_count": null,
   "metadata": {
    "collapsed": false
   },
   "outputs": [],
   "source": [
    "vocab_lc_frame = pd.DataFrame({'words': totalvocab_lc_tokenized}, index = totalvocab_lc_stemmed)\n",
    "vocab_lc_frame[:5]"
   ]
  },
  {
   "cell_type": "markdown",
   "metadata": {},
   "source": [
    "## Terms Documents Matrix\n",
    "![Alt text](http://www.jiem.org/index.php/jiem/article/viewFile/293/252/2402 \"Very nice\")"
   ]
  },
  {
   "cell_type": "code",
   "execution_count": null,
   "metadata": {
    "collapsed": false,
    "scrolled": true
   },
   "outputs": [],
   "source": [
    "\"\"\" \n",
    "max_df: \n",
    "    this is the maximum frequency within the documents a given feature\n",
    "    can have to be used in the tfi-idf matrix.\n",
    "min_idf:\n",
    "    this could be an integer (e.g. 0.2) and the term would have to be in\n",
    "    at least 20% of the documents to be considered.\n",
    "ngram_range:\n",
    "    (e.g. 1,3) this just means I'll look at unigrams, bigrams and trigrams. \n",
    "\"\"\"\n",
    "tfidf_vectorizer = TfidfVectorizer(\n",
    "    max_df = 0.8,\n",
    "    max_features = 200000,\n",
    "    min_df = 0.1,\n",
    "    stop_words = 'english',\n",
    "    use_idf = True,\n",
    "    tokenizer = tokenize_and_stem,\n",
    "    ngram_range = (1,3)\n",
    ")"
   ]
  },
  {
   "cell_type": "markdown",
   "metadata": {},
   "source": [
    "## K-Means Clustering - No Costraint"
   ]
  },
  {
   "cell_type": "code",
   "execution_count": null,
   "metadata": {
    "collapsed": false
   },
   "outputs": [],
   "source": [
    "tfidf_matrix_nc = tfidf_vectorizer.fit_transform(documents_nc) \n",
    "\n",
    "# terms without stopwords or duplicates\n",
    "terms_nc = tfidf_vectorizer.get_feature_names()\n",
    "\n",
    "# can be used to generate a measure of similarity between each document and the other documents in the corpus\n",
    "dist_nc = 1 - cosine_similarity(tfidf_matrix_nc)\n",
    "\n",
    "print(tfidf_matrix_nc.shape, len(documents_nc))"
   ]
  },
  {
   "cell_type": "code",
   "execution_count": null,
   "metadata": {
    "collapsed": true
   },
   "outputs": [],
   "source": [
    "km = KMeans(n_clusters=15)\n",
    "km.fit(tfidf_matrix_nc)\n",
    "clusters_nc = km.labels_.tolist()"
   ]
  },
  {
   "cell_type": "code",
   "execution_count": null,
   "metadata": {
    "collapsed": false
   },
   "outputs": [],
   "source": [
    "docs_nc = { 'code': codes_nc, 'rank': range(len(documents_nc)), 'document': documents_nc, 'cluster': clusters_nc }\n",
    "frame_nc = pd.DataFrame(docs_nc, index = [clusters_nc] , columns = ['rank', 'document', 'code', 'cluster'])\n",
    "\n",
    "frame_nc[:5]"
   ]
  },
  {
   "cell_type": "code",
   "execution_count": null,
   "metadata": {
    "collapsed": false,
    "scrolled": false
   },
   "outputs": [],
   "source": [
    "# sort cluster centers by proximity to centroid\n",
    "order_centroids = km.cluster_centers_.argsort()[:, ::-1]\n",
    "\n",
    "for i in range(len(set(clusters_nc))):\n",
    "    print(\"Cluster %d words:\" % i, end='')\n",
    "    \n",
    "    for ind in order_centroids[i, :6]: # replace 6 with n words per cluster\n",
    "        print(' %s' % vocab_nc_frame.ix[terms_nc[ind].split(' ')].values.tolist()[0][0].encode('utf-8', 'ignore'), end=',')\n",
    "    print()"
   ]
  },
  {
   "cell_type": "code",
   "execution_count": null,
   "metadata": {
    "collapsed": true
   },
   "outputs": [],
   "source": [
    "mds = MDS(n_components=2, dissimilarity=\"precomputed\", random_state=1)\n",
    "tsne = TSNE(n_components=2, random_state=1)"
   ]
  },
  {
   "cell_type": "markdown",
   "metadata": {},
   "source": [
    "# K-Means Plot - MDS No Costraint"
   ]
  },
  {
   "cell_type": "code",
   "execution_count": null,
   "metadata": {
    "collapsed": false
   },
   "outputs": [],
   "source": [
    "two_dim_vec_nc = mds.fit_transform(dist_nc)\n",
    "\n",
    "tfidf_matrix_nc_dense = tfidf_matrix_nc.todense()\n",
    "docs_vecs_nc = np.array([tfidf_matrix_nc_dense[i].A1 for i in range(len(tfidf_matrix_nc_dense))])\n",
    "\n",
    "clusters_colors_nc = [ get_color(i) for i in clusters_nc]\n",
    "\n",
    "k_data_nc = scatter_plot(two_dim_vec_nc, word_labels=longurls_nc, colors=clusters_colors_nc)\n",
    "py.iplot(k_data_nc, filename=\"K-Means mds-Doc Clustering\")"
   ]
  },
  {
   "cell_type": "markdown",
   "metadata": {},
   "source": [
    "# K-Means Plot - TSNE No Costraint"
   ]
  },
  {
   "cell_type": "code",
   "execution_count": null,
   "metadata": {
    "collapsed": false,
    "scrolled": false
   },
   "outputs": [],
   "source": [
    "two_dim_tsne_vec_nc = tsne.fit_transform(dist_nc)\n",
    "\n",
    "k_tsne_data = scatter_plot(two_dim_tsne_vec_nc, word_labels=longurls_nc, colors=clusters_colors_nc)\n",
    "py.iplot(k_tsne_data, filename=\"K-Means tsne-Doc Clustering\")"
   ]
  },
  {
   "cell_type": "markdown",
   "metadata": {},
   "source": [
    "## K-Means Clustering - List Costraint"
   ]
  },
  {
   "cell_type": "code",
   "execution_count": null,
   "metadata": {
    "collapsed": false
   },
   "outputs": [],
   "source": [
    "tfidf_matrix_lc = tfidf_vectorizer.fit_transform(documents_lc) \n",
    "\n",
    "# terms without stopwords or duplicates\n",
    "terms_lc = tfidf_vectorizer.get_feature_names()\n",
    "\n",
    "# can be used to generate a measure of similarity between each document and the other documents in the corpus\n",
    "dist_lc = 1 - cosine_similarity(tfidf_matrix_lc)\n",
    "\n",
    "print(tfidf_matrix_lc.shape, len(documents_lc))"
   ]
  },
  {
   "cell_type": "code",
   "execution_count": null,
   "metadata": {
    "collapsed": true
   },
   "outputs": [],
   "source": [
    "km_lc = KMeans(n_clusters=15)\n",
    "km_lc.fit(tfidf_matrix_lc)\n",
    "clusters_lc = km_lc.labels_.tolist()"
   ]
  },
  {
   "cell_type": "code",
   "execution_count": null,
   "metadata": {
    "collapsed": false
   },
   "outputs": [],
   "source": [
    "docs_lc = { 'code': codes_lc, 'rank': range(len(documents_lc)), 'document': documents_lc, 'cluster': clusters_lc }\n",
    "frame_lc = pd.DataFrame(docs_lc, index = [clusters_lc] , columns = ['rank', 'document', 'code', 'cluster'])\n",
    "\n",
    "frame_lc[:3]"
   ]
  },
  {
   "cell_type": "code",
   "execution_count": null,
   "metadata": {
    "collapsed": false
   },
   "outputs": [],
   "source": [
    "# sort cluster centers by proximity to centroid\n",
    "order_centroids_lc = km_lc.cluster_centers_.argsort()[:, ::-1]\n",
    "\n",
    "for i in range(len(set(clusters_lc))):\n",
    "    print(\"Cluster %d words:\" % i, end='')\n",
    "    \n",
    "    for ind in order_centroids_lc[i, :6]: # replace 6 with n words per cluster\n",
    "        print(' %s' % vocab_lc_frame.ix[terms_lc[ind].split(' ')].values.tolist()[0][0].encode('utf-8', 'ignore'), end=',')\n",
    "    print()"
   ]
  },
  {
   "cell_type": "markdown",
   "metadata": {},
   "source": [
    "# K-Means Plot - MDS List Costraint"
   ]
  },
  {
   "cell_type": "code",
   "execution_count": null,
   "metadata": {
    "collapsed": false
   },
   "outputs": [],
   "source": [
    "two_dim_vec_lc = mds.fit_transform(dist_lc)\n",
    "\n",
    "tfidf_matrix_lc_dense = tfidf_matrix_lc.todense()\n",
    "docs_vecs_lc = np.array([tfidf_matrix_lc_dense[i].A1 for i in range(len(tfidf_matrix_lc_dense))])\n",
    "\n",
    "clusters_colors_lc = [ get_color(i) for i in clusters_lc]\n",
    "\n",
    "k_data_lc = scatter_plot(two_dim_vec_lc, word_labels=longurls_lc, colors=clusters_colors_lc)\n",
    "py.iplot(k_data_lc, filename=\"K-Means mds-Doc Clustering-List Costraint\")"
   ]
  },
  {
   "cell_type": "markdown",
   "metadata": {},
   "source": [
    "# K-Means Plot - TSNE List Costraint"
   ]
  },
  {
   "cell_type": "code",
   "execution_count": null,
   "metadata": {
    "collapsed": false,
    "scrolled": false
   },
   "outputs": [],
   "source": [
    "two_dim_tsne_vec_lc = tsne.fit_transform(dist_lc)\n",
    "\n",
    "k_tsne_data_lc = scatter_plot(two_dim_tsne_vec_lc, word_labels=longurls_lc, colors=clusters_colors_lc)\n",
    "py.iplot(k_tsne_data_lc, filename=\"K-Means tsne-Doc Clustering-List Costraint\")"
   ]
  },
  {
   "cell_type": "markdown",
   "metadata": {},
   "source": [
    "# w2v - tfidf"
   ]
  },
  {
   "cell_type": "code",
   "execution_count": null,
   "metadata": {
    "collapsed": false
   },
   "outputs": [],
   "source": [
    "from url_sequences.sequence_handler import *\n",
    "sequences_lc = listcostraint_path + \"sequenceIDs.txt\"\n",
    "\n",
    "# because of generator\n",
    "vocab_sequences = get_seq(sequences_lc, 1)\n",
    "train_sequences = get_seq(sequences_lc, 1)"
   ]
  },
  {
   "cell_type": "code",
   "execution_count": null,
   "metadata": {
    "collapsed": false
   },
   "outputs": [],
   "source": [
    "from gensim.models import Word2Vec\n",
    "\n",
    "w2v_model = Word2Vec(min_count=1, negative=5, size=48)\n",
    "w2v_model.build_vocab(vocab_sequences)\n",
    "w2v_model.train(train_sequences)"
   ]
  },
  {
   "cell_type": "code",
   "execution_count": null,
   "metadata": {
    "collapsed": false
   },
   "outputs": [],
   "source": [
    "w2v_vecs_lc = np.array([w2v_model[key] for key in content_lc_map]) \n",
    "docs_vecs_lc = docs_vecs_lc"
   ]
  },
  {
   "cell_type": "code",
   "execution_count": null,
   "metadata": {
    "collapsed": false
   },
   "outputs": [],
   "source": [
    "type(docs_vecs_lc)"
   ]
  },
  {
   "cell_type": "code",
   "execution_count": null,
   "metadata": {
    "collapsed": false
   },
   "outputs": [],
   "source": [
    "tsne50 =  TSNE(n_components=50)\n",
    "docs_vecs_lc_reduced = tsne50.fit_transform(docs_vecs_lc)\n",
    "# vecs = [ np.concatenate((w2v_vecs_lc[i], docs_vecs_lc_reduced[i]), axis=0) for i in range(3)]\n"
   ]
  }
 ],
 "metadata": {
  "kernelspec": {
   "display_name": "Python 2",
   "language": "python",
   "name": "python2"
  },
  "language_info": {
   "codemirror_mode": {
    "name": "ipython",
    "version": 2
   },
   "file_extension": ".py",
   "mimetype": "text/x-python",
   "name": "python",
   "nbconvert_exporter": "python",
   "pygments_lexer": "ipython2",
   "version": "2.7.11"
  }
 },
 "nbformat": 4,
 "nbformat_minor": 0
}
