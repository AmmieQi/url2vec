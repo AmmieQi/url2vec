{
 "cells": [
  {
   "cell_type": "markdown",
   "metadata": {},
   "source": [
    "# url2vec"
   ]
  },
  {
   "cell_type": "code",
   "execution_count": 1,
   "metadata": {
    "collapsed": false
   },
   "outputs": [],
   "source": [
    "import os\n",
    "import numpy as np\n",
    "import pandas as pd\n",
    "import sys\n",
    "sys.path.append(os.path.abspath(\"..\"))\n",
    "from itertools import tee\n",
    "\n",
    "import plotly.plotly as py\n",
    "from hdbscan import HDBSCAN\n",
    "from sklearn.manifold import TSNE\n",
    "from sklearn.cluster import KMeans\n",
    "from url2vec.util.plotter import *\n",
    "from url2vec.model.urlembed import *\n",
    "from url2vec.util.seqmanager import *\n",
    "\n",
    "from __future__ import print_function"
   ]
  },
  {
   "cell_type": "markdown",
   "metadata": {},
   "source": [
    "### Shared settings"
   ]
  },
  {
   "cell_type": "code",
   "execution_count": 2,
   "metadata": {
    "collapsed": false
   },
   "outputs": [],
   "source": [
    "nc_path = os.getcwd() + \"/../dataset/cs.ox.ac.uk/no_constraint/words10000_depth5/\"\n",
    "vertex_path_nc = nc_path + \"vertex.txt\"\n",
    "map_path_nc    = nc_path + \"urlsMap.txt\"\n",
    "walks_path_nc  = nc_path + \"sequenceIDs.txt\"\n",
    "urlsmap_nc     = get_urlmap(map_path_nc)\n",
    "# for fit_predict\n",
    "documents_nc   = get_content_map(vertex_path_nc)\n",
    "walksembedding_nc, walkscombined_nc = tee(get_sequences(walks_path_nc))\n",
    "\n",
    "lc_path = os.getcwd() + \"/../dataset/cs.ox.ac.uk/list_constraint/words10000_depth5/\"\n",
    "vertex_path_lc = lc_path + \"vertex.txt\"\n",
    "map_path_lc    = lc_path + \"urlsMap.txt\"\n",
    "walks_path_lc  = lc_path + \"sequenceIDs.txt\"\n",
    "urlsmap_lc     = get_urlmap(map_path_lc)\n",
    "# for fit_predict\n",
    "documents_lc   = get_content_map(vertex_path_lc)\n",
    "walksembedding_lc, walkscombined_lc = tee(get_sequences(walks_path_lc))\n",
    "\n",
    "ground_truth_path = os.getcwd() + \"/../dataset/cs.ox.ac.uk/ground_truth/urlToMembership.txt\"\n",
    "gt = GroundTruth(ground_truth_path)\n",
    "n_clusters = len(gt.get_labelset())\n",
    "\n",
    "algorithm = KMeans(n_clusters=n_clusters)"
   ]
  },
  {
   "cell_type": "code",
   "execution_count": 3,
   "metadata": {
    "collapsed": false
   },
   "outputs": [
    {
     "data": {
      "text/html": [
       "<div>\n",
       "<table border=\"1\" class=\"dataframe\">\n",
       "  <thead>\n",
       "    <tr style=\"text-align: right;\">\n",
       "      <th></th>\n",
       "      <th>Adj Mutual info</th>\n",
       "      <th>Adj Rand index</th>\n",
       "      <th>Completeness</th>\n",
       "      <th>Homogeneity</th>\n",
       "      <th>Silhouette</th>\n",
       "      <th>V-Measure</th>\n",
       "    </tr>\n",
       "  </thead>\n",
       "  <tbody>\n",
       "    <tr>\n",
       "      <th>Embedding NC</th>\n",
       "      <td>0.282913</td>\n",
       "      <td>0.159389</td>\n",
       "      <td>0.40555</td>\n",
       "      <td>0.303267</td>\n",
       "      <td>0.418228</td>\n",
       "      <td>0.347029</td>\n",
       "    </tr>\n",
       "  </tbody>\n",
       "</table>\n",
       "</div>"
      ],
      "text/plain": [
       "              Adj Mutual info  Adj Rand index  Completeness  Homogeneity  \\\n",
       "Embedding NC         0.282913        0.159389       0.40555     0.303267   \n",
       "\n",
       "              Silhouette  V-Measure  \n",
       "Embedding NC    0.418228   0.347029  "
      ]
     },
     "execution_count": 3,
     "metadata": {},
     "output_type": "execute_result"
    }
   ],
   "source": [
    "embeddingmodel_nc = Url2Vec(\n",
    "    use_embedding=True, # default True\n",
    "    sg=0, # default 0\n",
    "    min_count=1, # default 1\n",
    "    window=10, # default 10\n",
    "    negative=5, # default 5\n",
    "    size=100, # default 100\n",
    "    normalize=True, # default True\n",
    "    use_text=False, # default True\n",
    "    max_df=0.9, # default 0.9\n",
    "    max_features=200000, # default 200000\n",
    "    min_df=0.05, # default 0.05\n",
    "    dim_red=100, # default 100\n",
    "    tfidf=True, # default True\n",
    "    svd=True # default True\n",
    ")\n",
    "embeddinglabel_nc = embeddingmodel_nc.fit_predict(algorithm=algorithm, walks=walksembedding_nc, documents=documents_nc)\n",
    "\n",
    "embeddinggt_nc = [int(gt.get_groundtruth(urlsmap_nc[code], print_missing=False)) for code in embeddingmodel_nc.urls ]\n",
    "embeddingconftable_nc = embeddingmodel_nc.test(embeddinggt_nc)\n",
    "# pd.DataFrame(textconftable_nc, index=set(ground_truth), columns=set(predicted_labels))\n",
    "\n",
    "homogeneity     = embeddingmodel_nc.homogeneity_score()\n",
    "completeness    = embeddingmodel_nc.completeness_score()\n",
    "v_measure       = embeddingmodel_nc.v_measure_score()\n",
    "adj_rand        = embeddingmodel_nc.adjusted_rand_score()\n",
    "adj_mutual_info = embeddingmodel_nc.adjusted_mutual_info_score()\n",
    "silhouette      = embeddingmodel_nc.silhouette_score()\n",
    "\n",
    "embeddingdf_nc = pd.DataFrame({\n",
    "        \"Homogeneity\": homogeneity, \n",
    "        \"Completeness\": completeness, \n",
    "        \"V-Measure\": v_measure, \n",
    "        \"Adj Rand index\": adj_rand, \n",
    "        \"Adj Mutual info\": adj_mutual_info, \n",
    "        \"Silhouette\": silhouette\n",
    "    },\n",
    "    index=[\"Embedding NC\"]\n",
    ")\n",
    "embeddingdf_nc"
   ]
  },
  {
   "cell_type": "code",
   "execution_count": 4,
   "metadata": {
    "collapsed": false
   },
   "outputs": [
    {
     "data": {
      "text/html": [
       "<div>\n",
       "<table border=\"1\" class=\"dataframe\">\n",
       "  <thead>\n",
       "    <tr style=\"text-align: right;\">\n",
       "      <th></th>\n",
       "      <th>Adj Mutual info</th>\n",
       "      <th>Adj Rand index</th>\n",
       "      <th>Completeness</th>\n",
       "      <th>Homogeneity</th>\n",
       "      <th>Silhouette</th>\n",
       "      <th>V-Measure</th>\n",
       "    </tr>\n",
       "  </thead>\n",
       "  <tbody>\n",
       "    <tr>\n",
       "      <th>Combined NC</th>\n",
       "      <td>0.542933</td>\n",
       "      <td>0.376625</td>\n",
       "      <td>0.558137</td>\n",
       "      <td>0.681087</td>\n",
       "      <td>0.189058</td>\n",
       "      <td>0.613513</td>\n",
       "    </tr>\n",
       "  </tbody>\n",
       "</table>\n",
       "</div>"
      ],
      "text/plain": [
       "             Adj Mutual info  Adj Rand index  Completeness  Homogeneity  \\\n",
       "Combined NC         0.542933        0.376625      0.558137     0.681087   \n",
       "\n",
       "             Silhouette  V-Measure  \n",
       "Combined NC    0.189058   0.613513  "
      ]
     },
     "execution_count": 4,
     "metadata": {},
     "output_type": "execute_result"
    }
   ],
   "source": [
    "combinedmodel_nc = Url2Vec(\n",
    "    use_embedding=True, # default True\n",
    "    sg=0, # default 0\n",
    "    min_count=1, # default 1\n",
    "    window=10, # default 10\n",
    "    negative=5, # default 5\n",
    "    size=100, # default 100\n",
    "    normalize=True, # default True\n",
    "    use_text=True, # default True\n",
    "    max_df=0.9, # default 0.9\n",
    "    max_features=200000, # default 200000\n",
    "    min_df=0.05, # default 0.05\n",
    "    dim_red=100, # default 100\n",
    "    tfidf=True, # default True\n",
    "    svd=True # default True\n",
    ")\n",
    "combinedlabel_nc = combinedmodel_nc.fit_predict(algorithm=algorithm, walks=walkscombined_nc, documents=documents_nc)\n",
    "\n",
    "combinedgt_nc = [int(gt.get_groundtruth(urlsmap_nc[code], print_missing=False)) for code in combinedmodel_nc.urls ]\n",
    "combinedconftable_nc = combinedmodel_nc.test(combinedgt_nc)\n",
    "# pd.DataFrame(textconftable_nc, index=set(ground_truth), columns=set(predicted_labels))\n",
    "\n",
    "homogeneity     = combinedmodel_nc.homogeneity_score()\n",
    "completeness    = combinedmodel_nc.completeness_score()\n",
    "v_measure       = combinedmodel_nc.v_measure_score()\n",
    "adj_rand        = combinedmodel_nc.adjusted_rand_score()\n",
    "adj_mutual_info = combinedmodel_nc.adjusted_mutual_info_score()\n",
    "silhouette      = combinedmodel_nc.silhouette_score()\n",
    "\n",
    "combineddf_nc = pd.DataFrame({\n",
    "        \"Homogeneity\": homogeneity, \n",
    "        \"Completeness\": completeness, \n",
    "        \"V-Measure\": v_measure, \n",
    "        \"Adj Rand index\": adj_rand, \n",
    "        \"Adj Mutual info\": adj_mutual_info, \n",
    "        \"Silhouette\": silhouette\n",
    "    },\n",
    "    index=[\"Combined NC\"]\n",
    ")\n",
    "combineddf_nc"
   ]
  },
  {
   "cell_type": "code",
   "execution_count": 7,
   "metadata": {
    "collapsed": false
   },
   "outputs": [
    {
     "data": {
      "text/html": [
       "<div>\n",
       "<table border=\"1\" class=\"dataframe\">\n",
       "  <thead>\n",
       "    <tr style=\"text-align: right;\">\n",
       "      <th></th>\n",
       "      <th>Adj Mutual info</th>\n",
       "      <th>Adj Rand index</th>\n",
       "      <th>Completeness</th>\n",
       "      <th>Homogeneity</th>\n",
       "      <th>Silhouette</th>\n",
       "      <th>V-Measure</th>\n",
       "    </tr>\n",
       "  </thead>\n",
       "  <tbody>\n",
       "    <tr>\n",
       "      <th>Text</th>\n",
       "      <td>0.475319</td>\n",
       "      <td>0.267942</td>\n",
       "      <td>0.491912</td>\n",
       "      <td>0.655591</td>\n",
       "      <td>0.184691</td>\n",
       "      <td>0.562078</td>\n",
       "    </tr>\n",
       "  </tbody>\n",
       "</table>\n",
       "</div>"
      ],
      "text/plain": [
       "      Adj Mutual info  Adj Rand index  Completeness  Homogeneity  Silhouette  \\\n",
       "Text         0.475319        0.267942      0.491912     0.655591    0.184691   \n",
       "\n",
       "      V-Measure  \n",
       "Text   0.562078  "
      ]
     },
     "execution_count": 7,
     "metadata": {},
     "output_type": "execute_result"
    }
   ],
   "source": [
    "textmodel = Url2Vec(\n",
    "    use_embedding=False, # default True\n",
    "    sg=0, # default 0\n",
    "    min_count=1, # default 1\n",
    "    window=10, # default 10\n",
    "    negative=5, # default 5\n",
    "    size=100, # default 100\n",
    "    normalize=False, # default True\n",
    "    use_text=True, # default True\n",
    "    max_df=0.9, # default 0.9\n",
    "    max_features=200000, # default 200000\n",
    "    min_df=0.05, # default 0.05\n",
    "    dim_red=100, # default 100\n",
    "    tfidf=True, # default True\n",
    "    svd=True # default True\n",
    ")\n",
    "textlabel = textmodel.fit_predict(algorithm=algorithm, documents=documents_nc)\n",
    "\n",
    "textgt = [ int(gt.get_groundtruth(urlsmap_nc[code], print_missing=False)) for code in textmodel.urls ]\n",
    "textconftable = textmodel.test(textgt)\n",
    "# pd.DataFrame(textconftable_nc, index=set(ground_truth), columns=set(predicted_labels))\n",
    "\n",
    "homogeneity     = textmodel.homogeneity_score()\n",
    "completeness    = textmodel.completeness_score()\n",
    "v_measure       = textmodel.v_measure_score()\n",
    "adj_rand        = textmodel.adjusted_rand_score()\n",
    "adj_mutual_info = textmodel.adjusted_mutual_info_score()\n",
    "silhouette      = textmodel.silhouette_score()\n",
    "\n",
    "textdf = pd.DataFrame({\n",
    "        \"Homogeneity\": homogeneity, \n",
    "        \"Completeness\": completeness, \n",
    "        \"V-Measure\": v_measure, \n",
    "        \"Adj Rand index\": adj_rand, \n",
    "        \"Adj Mutual info\": adj_mutual_info, \n",
    "        \"Silhouette\": silhouette\n",
    "    },\n",
    "    index=[\"Text\"]\n",
    ")\n",
    "textdf"
   ]
  },
  {
   "cell_type": "code",
   "execution_count": 8,
   "metadata": {
    "collapsed": false
   },
   "outputs": [
    {
     "data": {
      "text/html": [
       "<div>\n",
       "<table border=\"1\" class=\"dataframe\">\n",
       "  <thead>\n",
       "    <tr style=\"text-align: right;\">\n",
       "      <th></th>\n",
       "      <th>Adj Mutual info</th>\n",
       "      <th>Adj Rand index</th>\n",
       "      <th>Completeness</th>\n",
       "      <th>Homogeneity</th>\n",
       "      <th>Silhouette</th>\n",
       "      <th>V-Measure</th>\n",
       "    </tr>\n",
       "  </thead>\n",
       "  <tbody>\n",
       "    <tr>\n",
       "      <th>Embedding LC</th>\n",
       "      <td>0.31323</td>\n",
       "      <td>0.262401</td>\n",
       "      <td>0.431785</td>\n",
       "      <td>0.333863</td>\n",
       "      <td>0.502251</td>\n",
       "      <td>0.376562</td>\n",
       "    </tr>\n",
       "  </tbody>\n",
       "</table>\n",
       "</div>"
      ],
      "text/plain": [
       "              Adj Mutual info  Adj Rand index  Completeness  Homogeneity  \\\n",
       "Embedding LC          0.31323        0.262401      0.431785     0.333863   \n",
       "\n",
       "              Silhouette  V-Measure  \n",
       "Embedding LC    0.502251   0.376562  "
      ]
     },
     "execution_count": 8,
     "metadata": {},
     "output_type": "execute_result"
    }
   ],
   "source": [
    "embeddingmodel_lc = Url2Vec(\n",
    "    use_embedding=True, # default True\n",
    "    sg=0, # default 0\n",
    "    min_count=1, # default 1\n",
    "    window=10, # default 10\n",
    "    negative=5, # default 5\n",
    "    size=100, # default 100\n",
    "    normalize=True, # default True\n",
    "    use_text=False, # default True\n",
    "    max_df=0.9, # default 0.9\n",
    "    max_features=200000, # default 200000\n",
    "    min_df=0.05, # default 0.05\n",
    "    dim_red=100, # default 100\n",
    "    tfidf=True, # default True\n",
    "    svd=True # default True\n",
    ")\n",
    "embeddinglabel_lc = embeddingmodel_lc.fit_predict(algorithm=algorithm, walks=walksembedding_lc, documents=documents_lc)\n",
    "\n",
    "embeddinggt_lc = [int(gt.get_groundtruth(urlsmap_lc[code], print_missing=False)) for code in embeddingmodel_lc.urls ]\n",
    "embeddingconftable_lc = embeddingmodel_lc.test(embeddinggt_lc)\n",
    "# pd.DataFrame(textconftable_nc, index=set(ground_truth), columns=set(predicted_labels))\n",
    "\n",
    "homogeneity     = embeddingmodel_lc.homogeneity_score()\n",
    "completeness    = embeddingmodel_lc.completeness_score()\n",
    "v_measure       = embeddingmodel_lc.v_measure_score()\n",
    "adj_rand        = embeddingmodel_lc.adjusted_rand_score()\n",
    "adj_mutual_info = embeddingmodel_lc.adjusted_mutual_info_score()\n",
    "silhouette      = embeddingmodel_lc.silhouette_score()\n",
    "\n",
    "embeddingdf_lc = pd.DataFrame({\n",
    "        \"Homogeneity\": homogeneity, \n",
    "        \"Completeness\": completeness, \n",
    "        \"V-Measure\": v_measure, \n",
    "        \"Adj Rand index\": adj_rand, \n",
    "        \"Adj Mutual info\": adj_mutual_info, \n",
    "        \"Silhouette\": silhouette\n",
    "    },\n",
    "    index=[\"Embedding LC\"]\n",
    ")\n",
    "embeddingdf_lc"
   ]
  },
  {
   "cell_type": "code",
   "execution_count": 9,
   "metadata": {
    "collapsed": false
   },
   "outputs": [
    {
     "data": {
      "text/html": [
       "<div>\n",
       "<table border=\"1\" class=\"dataframe\">\n",
       "  <thead>\n",
       "    <tr style=\"text-align: right;\">\n",
       "      <th></th>\n",
       "      <th>Adj Mutual info</th>\n",
       "      <th>Adj Rand index</th>\n",
       "      <th>Completeness</th>\n",
       "      <th>Homogeneity</th>\n",
       "      <th>Silhouette</th>\n",
       "      <th>V-Measure</th>\n",
       "    </tr>\n",
       "  </thead>\n",
       "  <tbody>\n",
       "    <tr>\n",
       "      <th>Combined LC</th>\n",
       "      <td>0.474875</td>\n",
       "      <td>0.340146</td>\n",
       "      <td>0.491058</td>\n",
       "      <td>0.691363</td>\n",
       "      <td>0.220455</td>\n",
       "      <td>0.574245</td>\n",
       "    </tr>\n",
       "  </tbody>\n",
       "</table>\n",
       "</div>"
      ],
      "text/plain": [
       "             Adj Mutual info  Adj Rand index  Completeness  Homogeneity  \\\n",
       "Combined LC         0.474875        0.340146      0.491058     0.691363   \n",
       "\n",
       "             Silhouette  V-Measure  \n",
       "Combined LC    0.220455   0.574245  "
      ]
     },
     "execution_count": 9,
     "metadata": {},
     "output_type": "execute_result"
    }
   ],
   "source": [
    "combinedmodel_lc = Url2Vec(\n",
    "    use_embedding=True, # default True\n",
    "    sg=0, # default 0\n",
    "    min_count=1, # default 1\n",
    "    window=10, # default 10\n",
    "    negative=5, # default 5\n",
    "    size=100, # default 100\n",
    "    normalize=True, # default True\n",
    "    use_text=True, # default True\n",
    "    max_df=0.9, # default 0.9\n",
    "    max_features=200000, # default 200000\n",
    "    min_df=0.05, # default 0.05\n",
    "    dim_red=100, # default 100\n",
    "    tfidf=True, # default True\n",
    "    svd=True # default True\n",
    ")\n",
    "combinedlabel_lc = combinedmodel_lc.fit_predict(algorithm=algorithm, walks=walkscombined_lc, documents=documents_lc)\n",
    "\n",
    "combinedgt_lc = [ int(gt.get_groundtruth(urlsmap_lc[code], print_missing=False)) for code in combinedmodel_lc.urls ]\n",
    "combinedconftable_lc = combinedmodel_lc.test(combinedgt_lc)\n",
    "# pd.DataFrame(textconftable_nc, index=set(ground_truth), columns=set(predicted_labels))\n",
    "\n",
    "homogeneity     = combinedmodel_lc.homogeneity_score()\n",
    "completeness    = combinedmodel_lc.completeness_score()\n",
    "v_measure       = combinedmodel_lc.v_measure_score()\n",
    "adj_rand        = combinedmodel_lc.adjusted_rand_score()\n",
    "adj_mutual_info = combinedmodel_lc.adjusted_mutual_info_score()\n",
    "silhouette      = combinedmodel_lc.silhouette_score()\n",
    "\n",
    "combineddf_lc = pd.DataFrame({\n",
    "        \"Homogeneity\": homogeneity, \n",
    "        \"Completeness\": completeness, \n",
    "        \"V-Measure\": v_measure, \n",
    "        \"Adj Rand index\": adj_rand, \n",
    "        \"Adj Mutual info\": adj_mutual_info, \n",
    "        \"Silhouette\": silhouette\n",
    "    },\n",
    "    index=[\"Combined LC\"]\n",
    ")\n",
    "combineddf_lc"
   ]
  },
  {
   "cell_type": "markdown",
   "metadata": {},
   "source": [
    "---"
   ]
  },
  {
   "cell_type": "markdown",
   "metadata": {},
   "source": [
    "---"
   ]
  },
  {
   "cell_type": "markdown",
   "metadata": {},
   "source": [
    "---"
   ]
  },
  {
   "cell_type": "markdown",
   "metadata": {},
   "source": [
    "### Complete results"
   ]
  },
  {
   "cell_type": "code",
   "execution_count": 11,
   "metadata": {
    "collapsed": false
   },
   "outputs": [
    {
     "data": {
      "text/html": [
       "<div>\n",
       "<table border=\"1\" class=\"dataframe\">\n",
       "  <thead>\n",
       "    <tr style=\"text-align: right;\">\n",
       "      <th></th>\n",
       "      <th>Adj Mutual info</th>\n",
       "      <th>Adj Rand index</th>\n",
       "      <th>Completeness</th>\n",
       "      <th>Homogeneity</th>\n",
       "      <th>Silhouette</th>\n",
       "      <th>V-Measure</th>\n",
       "    </tr>\n",
       "  </thead>\n",
       "  <tbody>\n",
       "    <tr>\n",
       "      <th>Embedding NC</th>\n",
       "      <td>0.282913</td>\n",
       "      <td>0.159389</td>\n",
       "      <td>0.405550</td>\n",
       "      <td>0.303267</td>\n",
       "      <td>0.418228</td>\n",
       "      <td>0.347029</td>\n",
       "    </tr>\n",
       "    <tr>\n",
       "      <th>Combined NC</th>\n",
       "      <td>0.542933</td>\n",
       "      <td>0.376625</td>\n",
       "      <td>0.558137</td>\n",
       "      <td>0.681087</td>\n",
       "      <td>0.189058</td>\n",
       "      <td>0.613513</td>\n",
       "    </tr>\n",
       "    <tr>\n",
       "      <th>Text</th>\n",
       "      <td>0.475319</td>\n",
       "      <td>0.267942</td>\n",
       "      <td>0.491912</td>\n",
       "      <td>0.655591</td>\n",
       "      <td>0.184691</td>\n",
       "      <td>0.562078</td>\n",
       "    </tr>\n",
       "    <tr>\n",
       "      <th>Embedding LC</th>\n",
       "      <td>0.313230</td>\n",
       "      <td>0.262401</td>\n",
       "      <td>0.431785</td>\n",
       "      <td>0.333863</td>\n",
       "      <td>0.502251</td>\n",
       "      <td>0.376562</td>\n",
       "    </tr>\n",
       "    <tr>\n",
       "      <th>Combined LC</th>\n",
       "      <td>0.474875</td>\n",
       "      <td>0.340146</td>\n",
       "      <td>0.491058</td>\n",
       "      <td>0.691363</td>\n",
       "      <td>0.220455</td>\n",
       "      <td>0.574245</td>\n",
       "    </tr>\n",
       "  </tbody>\n",
       "</table>\n",
       "</div>"
      ],
      "text/plain": [
       "              Adj Mutual info  Adj Rand index  Completeness  Homogeneity  \\\n",
       "Embedding NC         0.282913        0.159389      0.405550     0.303267   \n",
       "Combined NC          0.542933        0.376625      0.558137     0.681087   \n",
       "Text                 0.475319        0.267942      0.491912     0.655591   \n",
       "Embedding LC         0.313230        0.262401      0.431785     0.333863   \n",
       "Combined LC          0.474875        0.340146      0.491058     0.691363   \n",
       "\n",
       "              Silhouette  V-Measure  \n",
       "Embedding NC    0.418228   0.347029  \n",
       "Combined NC     0.189058   0.613513  \n",
       "Text            0.184691   0.562078  \n",
       "Embedding LC    0.502251   0.376562  \n",
       "Combined LC     0.220455   0.574245  "
      ]
     },
     "execution_count": 11,
     "metadata": {},
     "output_type": "execute_result"
    }
   ],
   "source": [
    "pd.concat([embeddingdf_nc, combineddf_nc, textdf, embeddingdf_lc, combineddf_lc])"
   ]
  }
 ],
 "metadata": {
  "kernelspec": {
   "display_name": "Python 2",
   "language": "python",
   "name": "python2"
  },
  "language_info": {
   "codemirror_mode": {
    "name": "ipython",
    "version": 2
   },
   "file_extension": ".py",
   "mimetype": "text/x-python",
   "name": "python",
   "nbconvert_exporter": "python",
   "pygments_lexer": "ipython2",
   "version": "2.7.11"
  }
 },
 "nbformat": 4,
 "nbformat_minor": 0
}
