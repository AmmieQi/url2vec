{
 "cells": [
  {
   "cell_type": "markdown",
   "metadata": {},
   "source": [
    "# url2vec"
   ]
  },
  {
   "cell_type": "markdown",
   "metadata": {},
   "source": [
    "**class url2vec.model.urlembed.Url2Vec(urls)**\n",
    "\n",
    "The model has to be initialized with a dictionary that associates to every URL a unique code or otherwise from  a list of URLs. The former case is preferable, because for large datasets it drops down training time.\n",
    "\n",
    "\n",
    "---\n",
    "\n",
    "    train(self, algorithm=HDBSCAN(min_cluster_size=7), use_w2v=True, use_tfidf=True, \n",
    "          e_sg=0, e_min_count=1, e_window=10, e_negative=5, e_size=48, sequences=None, \n",
    "          d_max_df=0.9, d_max_features=200000, d_min_df=0.05, d_dim_red=50, d_tfidf=True, \n",
    "          contents=None)\n",
    "        \n",
    "        algorithm: \n",
    "            - default = HDBSCAN(min_cluster_size=7)\n",
    "            - the chosen clustering algorithm. Is invoked the fit_predict of the passed \n",
    "              object(here HDBSCAN) to return the predicted labels.\n",
    "\n",
    "        use_w2v: \n",
    "            - default = True\n",
    "            - with True word2vec is used to cluster the URLs according to their position \n",
    "              in the sequences passed (sequences argument)\n",
    "            \n",
    "        use_tfidf :\n",
    "            - default = True\n",
    "            - with True documents (contents of the URL) are tranformed into \n",
    "              document-term matrix\n",
    "\n",
    "        e_sg:\n",
    "            - default = 0\n",
    "            - word2vec argument, defines the training algorithm for word2vec,\n",
    "              if 0 CBOW is used. With sg=1 skipgram is used\n",
    "\n",
    "        e_min_count:\n",
    "            - default = 1\n",
    "            - word2vec argument, ignore all words with total frequency lower than this\n",
    "\n",
    "        e_window: \n",
    "            - default = 10\n",
    "            - word2vec argument, is the maximum distance between the current and \n",
    "              predicted word within a sentence.\n",
    "\n",
    "        e_negative: \n",
    "            - default = 5\n",
    "            - word2vec argument, if > 0, negative sampling will be used, the int for \n",
    "              negative specifies how many “noise words” should be drawn. If set to 0,\n",
    "              no negative samping is used\n",
    "\n",
    "        e_size: \n",
    "            - default = 48\n",
    "            - word2vec argument, is the dimensionality of the feature vectors\n",
    "\n",
    "        sequences: \n",
    "            - default = None\n",
    "            - word2vec argument, iterable of sentences. Each sentence is a list of words\n",
    "              that will be used for training.\n",
    "\n",
    "        d_max_d: \n",
    "            - default = 0.9\n",
    "            - document argument, this is the maximum frequency within the documents a given\n",
    "              feature can have to be used in the tfi-idf matrix.\n",
    "\n",
    "        d_max_features: \n",
    "            - default = 200000\n",
    "\n",
    "        d_min_df: \n",
    "            - default = 0.05\n",
    "            - document argument, term would have to be in at least 5 of the documents \n",
    "              to be considered.\n",
    "\n",
    "        d_dim_red: \n",
    "            - default = 50\n",
    "            - document argument, is the dimensionality of the feature vectors, reduced\n",
    "              TrunceteSVD (aka LSA)\n",
    "\n",
    "        d_tfidf: \n",
    "            - default = True\n",
    "            - docuement argument, with True term frequency-inverse document frequency \n",
    "              is applied to the document-term matrix obtained (from the contents argument)\n",
    "\n",
    "        contents: \n",
    "            - default = None\n",
    "            - docuement argument. Must be a dict with the URLs as keys and relevant\n",
    "              page content as values\n",
    "\n",
    "---\n",
    "\n",
    "    test(ground_truth, pred_membership=None)\n",
    "        ground_truth:\n",
    "        - given the knowledge of the ground truth, it returns the confusion table \n",
    "          (aka matching matrix)\n",
    "        \n",
    "        pred_membership:\n",
    "            - default = None\n",
    "            - if train is already done the predicted labels are already stored\n",
    "\n",
    "---\n",
    "\n",
    "    homogeneity_score(ground_truth=None, pred_membership=None)\n",
    "        ground_truth:\n",
    "            - default = None\n",
    "            - given the knowledge of the ground truth, it returns the homogeneity score\n",
    "        \n",
    "        pred_membership:\n",
    "            - default = None\n",
    "            - if train is already done the predicted labels are already stored\n",
    "\n",
    "---\n",
    "\n",
    "    completeness_score(ground_truth=None, pred_membership=None)\n",
    "        ground_truth:\n",
    "            - default = None\n",
    "            - given the knowledge of the ground truth, it returns the completeness score\n",
    "        \n",
    "        pred_membership:\n",
    "            - default = None\n",
    "            - if train is already done the predicted labels are already stored\n",
    "            \n",
    "---\n",
    "\n",
    "    v_measure_score(ground_truth=None, pred_membership=None)\n",
    "        ground_truth:\n",
    "            - default = None\n",
    "            - given the knowledge of the ground truth, it returns the V-measure score\n",
    "        \n",
    "        pred_membership:\n",
    "            - default = None\n",
    "            - if train is already done the predicted labels are already stored\n",
    "            \n",
    "---\n",
    "\n",
    "    adjusted_rand_score(ground_truth=None, pred_membership=None)\n",
    "        ground_truth:\n",
    "            - default = None\n",
    "            - given the knowledge of the ground truth, it returns the adjusted Rand index\n",
    "        \n",
    "        pred_membership:\n",
    "            - default = None\n",
    "            - if train is already done the predicted labels are already stored\n",
    "            \n",
    "---\n",
    "\n",
    "    adjusted_mutual_info_score(ground_truth=None, pred_membership=None)\n",
    "        ground_truth:\n",
    "            - default = None\n",
    "            - given the knowledge of the ground truth, it returns the Adjusted Mutual \n",
    "              Information score\n",
    "        \n",
    "        pred_membership:\n",
    "            - default = None\n",
    "            - if train is already done the predicted labels are already stored\n",
    "            \n",
    "---\n",
    "    silhouette_score(pred_membership=None)\n",
    "        pred_membership:\n",
    "            - default = None\n",
    "            - if train is already done the predicted labels are already stored, \n",
    "              it returns the silouhette score\n",
    "            \n",
    "---\n",
    "    two_dim(high_dim_vecs=None)\n",
    "        high_dim_vecs:\n",
    "            - default = None\n",
    "            - if data for training is already provided, this parameter could be ignored,\n",
    "              else this would be the data transformed in a two dimensional array\n",
    "              \n",
    "---\n",
    "    plot_trace(twodim=None, urls=None, pred_membership=None, \n",
    "               user=\"chrispolo\", api_key=\"89nned6csl\"):\n",
    "        twodim:\n",
    "            - default = None\n",
    "            - coordinates of the data points, this could be ignored if data was transformed\n",
    "              with the two_dim() function\n",
    "        urls:\n",
    "            - default = None\n",
    "            - labels of the data points, could be ignored if the data have not changed\n",
    "        pred_membership:\n",
    "            - default = None\n",
    "            - if train is already done the predicted labels are already stored\n",
    "        user:\n",
    "            - default = chrispolo\n",
    "            - currently plots are done with the plotly module, so in order to plot \n",
    "              the model, it must be provided a valid plotly account. The default one\n",
    "              is limited to 50 plot daily\n",
    "        api_key:\n",
    "            - default = 89nned6csl\n",
    "            - currently plots are done with the plotly module, so in order to plot \n",
    "              the model, it must be provided a valid plotly account. The default one\n",
    "              is limited to 50 plot daily\n"
   ]
  },
  {
   "cell_type": "code",
   "execution_count": 1,
   "metadata": {
    "collapsed": false
   },
   "outputs": [],
   "source": [
    "import os\n",
    "import numpy as np\n",
    "import pandas as pd\n",
    "import sys\n",
    "sys.path.append(os.path.abspath(\"..\"))\n",
    "\n",
    "import plotly.plotly as py\n",
    "from hdbscan import HDBSCAN\n",
    "from sklearn.manifold import TSNE\n",
    "from sklearn.cluster import KMeans\n",
    "from url2vec.util.plotter import *\n",
    "from url2vec.model.urlembed import *\n",
    "from url2vec.util.seqmanager import *\n",
    "\n",
    "from __future__ import print_function"
   ]
  },
  {
   "cell_type": "markdown",
   "metadata": {},
   "source": [
    "### Loading files\n",
    "Here we're loading all the files previously crawled.\n",
    "\n",
    "See the [Dataset README](https://github.com/chrisPiemonte/url2vec/tree/master/dataset \"Dataset\") for further information.\n",
    "\n",
    "Here we're creating a dict that associates a code to every URL (**codecontent_map**), a generator (**sequences**) that yields a sequence at each iteration and a list of \"cluster membership\" (**ground_truth**) for each URL passed, in order of how the dict would be iterated."
   ]
  },
  {
   "cell_type": "code",
   "execution_count": 6,
   "metadata": {
    "collapsed": false
   },
   "outputs": [
    {
     "data": {
      "text/plain": [
       "728"
      ]
     },
     "execution_count": 6,
     "metadata": {},
     "output_type": "execute_result"
    }
   ],
   "source": [
    "dir_path = os.getcwd() + \"/../dataset/cs.illinois.edu/no_constraint/words1000_depth10/\"\n",
    "\n",
    "vertex_path      = dir_path + \"vertex.txt\"\n",
    "codecontent_map  = get_content_map(vertex_path)\n",
    "\n",
    "map_path         = dir_path + \"urlsMap.txt\"\n",
    "codeurl_map      = get_urlmap(map_path)\n",
    "\n",
    "sequences_path   = dir_path + \"sequenceIDs.txt\"\n",
    "sequences        = get_sequences(sequences_path)\n",
    "\n",
    "gt = GroundTruth(os.getcwd() + \"/../dataset/cs.illinois.edu/ground_truth/urlToMembership.txt\")\n",
    "ground_truth = [ int(gt.get_groundtruth(codeurl_map[code])) for code in codeurl_map ]\n",
    "len(ground_truth)"
   ]
  },
  {
   "cell_type": "markdown",
   "metadata": {},
   "source": [
    "#### Training\n",
    "A simple case would be like this:\n",
    "\n",
    "Her we're passing only the sequences and the page contents, and left unchanged the remaining parameters.\n",
    "By doing the training in this way, the model maps each URL to a combined vector, derived from a 48-dimensional array from the word2vec model and a 50-dimensional array from the tf-idf matrix.\n",
    "\n",
    "In this manner we are considering both the page content of a URL and the its feature vector from the word2vec algorithm."
   ]
  },
  {
   "cell_type": "code",
   "execution_count": 7,
   "metadata": {
    "collapsed": false
   },
   "outputs": [
    {
     "name": "stderr",
     "output_type": "stream",
     "text": [
      "WARNING:gensim.models.word2vec:supplied example count (99999) did not equal expected count (499995)\n"
     ]
    },
    {
     "data": {
      "text/plain": [
       "728"
      ]
     },
     "execution_count": 7,
     "metadata": {},
     "output_type": "execute_result"
    }
   ],
   "source": [
    "model = Url2Vec(codeurl_map)\n",
    "predicted_labels = model.train(sequences=sequences, contents=codecontent_map)\n",
    "len(predicted_labels)"
   ]
  },
  {
   "cell_type": "markdown",
   "metadata": {},
   "source": [
    "Now we have the predicted labels, clustered with the HDBSCAN algorithm (default):"
   ]
  },
  {
   "cell_type": "code",
   "execution_count": 8,
   "metadata": {
    "collapsed": false
   },
   "outputs": [
    {
     "name": "stdout",
     "output_type": "stream",
     "text": [
      "Clusters found with HDBSCAN: 11\n",
      "set([0, 1, 2, 3, 4, 5, 6, 7, 8, 9, -1]) \n",
      "\n",
      "[4, 4, 4, 4, 4, 4, 4, 4, 4, 4, 5, 5, 5, 5, 5]\n",
      "\n",
      "\n",
      "\n"
     ]
    }
   ],
   "source": [
    "print(\"Clusters found with HDBSCAN:\", len(set(predicted_labels)))\n",
    "print(set(predicted_labels), \"\\n\")\n",
    "print(predicted_labels[:15])\n",
    "\n",
    "print(\"\\n\\n\")"
   ]
  },
  {
   "cell_type": "markdown",
   "metadata": {},
   "source": [
    "#### Confusion table\n",
    "Now we can have the confusion table by passing the ground truth:"
   ]
  },
  {
   "cell_type": "code",
   "execution_count": 9,
   "metadata": {
    "collapsed": false,
    "scrolled": false
   },
   "outputs": [
    {
     "data": {
      "text/html": [
       "<div>\n",
       "<table border=\"1\" class=\"dataframe\">\n",
       "  <thead>\n",
       "    <tr style=\"text-align: right;\">\n",
       "      <th></th>\n",
       "      <th>0</th>\n",
       "      <th>1</th>\n",
       "      <th>2</th>\n",
       "      <th>3</th>\n",
       "      <th>4</th>\n",
       "      <th>5</th>\n",
       "      <th>6</th>\n",
       "      <th>7</th>\n",
       "      <th>8</th>\n",
       "      <th>9</th>\n",
       "      <th>-1</th>\n",
       "    </tr>\n",
       "  </thead>\n",
       "  <tbody>\n",
       "    <tr>\n",
       "      <th>0</th>\n",
       "      <td>0</td>\n",
       "      <td>0</td>\n",
       "      <td>0</td>\n",
       "      <td>0</td>\n",
       "      <td>0</td>\n",
       "      <td>18</td>\n",
       "      <td>0</td>\n",
       "      <td>0</td>\n",
       "      <td>0</td>\n",
       "      <td>0</td>\n",
       "      <td>0</td>\n",
       "    </tr>\n",
       "    <tr>\n",
       "      <th>1</th>\n",
       "      <td>0</td>\n",
       "      <td>0</td>\n",
       "      <td>0</td>\n",
       "      <td>0</td>\n",
       "      <td>0</td>\n",
       "      <td>10</td>\n",
       "      <td>0</td>\n",
       "      <td>0</td>\n",
       "      <td>0</td>\n",
       "      <td>0</td>\n",
       "      <td>2</td>\n",
       "    </tr>\n",
       "    <tr>\n",
       "      <th>2</th>\n",
       "      <td>0</td>\n",
       "      <td>0</td>\n",
       "      <td>0</td>\n",
       "      <td>0</td>\n",
       "      <td>0</td>\n",
       "      <td>0</td>\n",
       "      <td>47</td>\n",
       "      <td>0</td>\n",
       "      <td>0</td>\n",
       "      <td>0</td>\n",
       "      <td>0</td>\n",
       "    </tr>\n",
       "    <tr>\n",
       "      <th>3</th>\n",
       "      <td>27</td>\n",
       "      <td>0</td>\n",
       "      <td>0</td>\n",
       "      <td>0</td>\n",
       "      <td>0</td>\n",
       "      <td>0</td>\n",
       "      <td>0</td>\n",
       "      <td>0</td>\n",
       "      <td>0</td>\n",
       "      <td>0</td>\n",
       "      <td>2</td>\n",
       "    </tr>\n",
       "    <tr>\n",
       "      <th>4</th>\n",
       "      <td>0</td>\n",
       "      <td>0</td>\n",
       "      <td>0</td>\n",
       "      <td>0</td>\n",
       "      <td>0</td>\n",
       "      <td>12</td>\n",
       "      <td>0</td>\n",
       "      <td>0</td>\n",
       "      <td>0</td>\n",
       "      <td>0</td>\n",
       "      <td>2</td>\n",
       "    </tr>\n",
       "    <tr>\n",
       "      <th>6</th>\n",
       "      <td>0</td>\n",
       "      <td>0</td>\n",
       "      <td>0</td>\n",
       "      <td>0</td>\n",
       "      <td>0</td>\n",
       "      <td>0</td>\n",
       "      <td>0</td>\n",
       "      <td>0</td>\n",
       "      <td>6</td>\n",
       "      <td>0</td>\n",
       "      <td>0</td>\n",
       "    </tr>\n",
       "    <tr>\n",
       "      <th>8</th>\n",
       "      <td>0</td>\n",
       "      <td>0</td>\n",
       "      <td>0</td>\n",
       "      <td>0</td>\n",
       "      <td>0</td>\n",
       "      <td>69</td>\n",
       "      <td>0</td>\n",
       "      <td>0</td>\n",
       "      <td>0</td>\n",
       "      <td>0</td>\n",
       "      <td>6</td>\n",
       "    </tr>\n",
       "    <tr>\n",
       "      <th>10</th>\n",
       "      <td>0</td>\n",
       "      <td>0</td>\n",
       "      <td>0</td>\n",
       "      <td>0</td>\n",
       "      <td>0</td>\n",
       "      <td>308</td>\n",
       "      <td>0</td>\n",
       "      <td>0</td>\n",
       "      <td>0</td>\n",
       "      <td>8</td>\n",
       "      <td>9</td>\n",
       "    </tr>\n",
       "    <tr>\n",
       "      <th>11</th>\n",
       "      <td>0</td>\n",
       "      <td>0</td>\n",
       "      <td>0</td>\n",
       "      <td>0</td>\n",
       "      <td>0</td>\n",
       "      <td>5</td>\n",
       "      <td>0</td>\n",
       "      <td>0</td>\n",
       "      <td>0</td>\n",
       "      <td>0</td>\n",
       "      <td>2</td>\n",
       "    </tr>\n",
       "    <tr>\n",
       "      <th>12</th>\n",
       "      <td>0</td>\n",
       "      <td>0</td>\n",
       "      <td>0</td>\n",
       "      <td>0</td>\n",
       "      <td>0</td>\n",
       "      <td>19</td>\n",
       "      <td>0</td>\n",
       "      <td>0</td>\n",
       "      <td>0</td>\n",
       "      <td>0</td>\n",
       "      <td>0</td>\n",
       "    </tr>\n",
       "    <tr>\n",
       "      <th>13</th>\n",
       "      <td>0</td>\n",
       "      <td>16</td>\n",
       "      <td>10</td>\n",
       "      <td>40</td>\n",
       "      <td>0</td>\n",
       "      <td>0</td>\n",
       "      <td>0</td>\n",
       "      <td>0</td>\n",
       "      <td>0</td>\n",
       "      <td>0</td>\n",
       "      <td>1</td>\n",
       "    </tr>\n",
       "    <tr>\n",
       "      <th>14</th>\n",
       "      <td>0</td>\n",
       "      <td>0</td>\n",
       "      <td>0</td>\n",
       "      <td>0</td>\n",
       "      <td>34</td>\n",
       "      <td>0</td>\n",
       "      <td>0</td>\n",
       "      <td>0</td>\n",
       "      <td>0</td>\n",
       "      <td>0</td>\n",
       "      <td>13</td>\n",
       "    </tr>\n",
       "    <tr>\n",
       "      <th>15</th>\n",
       "      <td>0</td>\n",
       "      <td>0</td>\n",
       "      <td>0</td>\n",
       "      <td>0</td>\n",
       "      <td>0</td>\n",
       "      <td>1</td>\n",
       "      <td>0</td>\n",
       "      <td>9</td>\n",
       "      <td>0</td>\n",
       "      <td>0</td>\n",
       "      <td>1</td>\n",
       "    </tr>\n",
       "    <tr>\n",
       "      <th>-1</th>\n",
       "      <td>0</td>\n",
       "      <td>0</td>\n",
       "      <td>0</td>\n",
       "      <td>1</td>\n",
       "      <td>0</td>\n",
       "      <td>4</td>\n",
       "      <td>0</td>\n",
       "      <td>1</td>\n",
       "      <td>2</td>\n",
       "      <td>0</td>\n",
       "      <td>43</td>\n",
       "    </tr>\n",
       "  </tbody>\n",
       "</table>\n",
       "</div>"
      ],
      "text/plain": [
       "      0   1   2   3   4    5   6   7   8   9  -1\n",
       " 0    0   0   0   0   0   18   0   0   0   0   0\n",
       " 1    0   0   0   0   0   10   0   0   0   0   2\n",
       " 2    0   0   0   0   0    0  47   0   0   0   0\n",
       " 3   27   0   0   0   0    0   0   0   0   0   2\n",
       " 4    0   0   0   0   0   12   0   0   0   0   2\n",
       " 6    0   0   0   0   0    0   0   0   6   0   0\n",
       " 8    0   0   0   0   0   69   0   0   0   0   6\n",
       " 10   0   0   0   0   0  308   0   0   0   8   9\n",
       " 11   0   0   0   0   0    5   0   0   0   0   2\n",
       " 12   0   0   0   0   0   19   0   0   0   0   0\n",
       " 13   0  16  10  40   0    0   0   0   0   0   1\n",
       " 14   0   0   0   0  34    0   0   0   0   0  13\n",
       " 15   0   0   0   0   0    1   0   9   0   0   1\n",
       "-1    0   0   0   1   0    4   0   1   2   0  43"
      ]
     },
     "execution_count": 9,
     "metadata": {},
     "output_type": "execute_result"
    }
   ],
   "source": [
    "conf_table = model.test(ground_truth)\n",
    "pd.DataFrame(conf_table, index=set(ground_truth), columns=set(predicted_labels))"
   ]
  },
  {
   "cell_type": "markdown",
   "metadata": {},
   "source": [
    "#### Other metrics\n",
    "Or have other evaluation scores:"
   ]
  },
  {
   "cell_type": "code",
   "execution_count": 10,
   "metadata": {
    "collapsed": false,
    "scrolled": false
   },
   "outputs": [
    {
     "data": {
      "text/html": [
       "<div>\n",
       "<table border=\"1\" class=\"dataframe\">\n",
       "  <thead>\n",
       "    <tr style=\"text-align: right;\">\n",
       "      <th></th>\n",
       "      <th>Adj Mutual info</th>\n",
       "      <th>Adj Rand index</th>\n",
       "      <th>Completeness</th>\n",
       "      <th>Homogeneity</th>\n",
       "      <th>Silhouette</th>\n",
       "      <th>V-Measure</th>\n",
       "    </tr>\n",
       "  </thead>\n",
       "  <tbody>\n",
       "    <tr>\n",
       "      <th>Model Scores</th>\n",
       "      <td>0.540545</td>\n",
       "      <td>0.4975</td>\n",
       "      <td>0.758417</td>\n",
       "      <td>0.56089</td>\n",
       "      <td>0.227551</td>\n",
       "      <td>0.644867</td>\n",
       "    </tr>\n",
       "  </tbody>\n",
       "</table>\n",
       "</div>"
      ],
      "text/plain": [
       "              Adj Mutual info  Adj Rand index  Completeness  Homogeneity  \\\n",
       "Model Scores         0.540545          0.4975      0.758417      0.56089   \n",
       "\n",
       "              Silhouette  V-Measure  \n",
       "Model Scores    0.227551   0.644867  "
      ]
     },
     "execution_count": 10,
     "metadata": {},
     "output_type": "execute_result"
    }
   ],
   "source": [
    "homogeneity     = model.homogeneity_score()\n",
    "completeness    = model.completeness_score()\n",
    "v_measure       = model.v_measure_score()\n",
    "adj_rand        = model.adjusted_rand_score()\n",
    "adj_mutual_info = model.adjusted_mutual_info_score()\n",
    "silhouette      = model.silhouette_score()\n",
    "\n",
    "pd.DataFrame({\n",
    "        \"Homogeneity\":homogeneity, \n",
    "        \"Completeness\":completeness, \n",
    "        \"V-Measure\":v_measure, \n",
    "        \"Adj Rand index\":adj_rand, \n",
    "        \"Adj Mutual info\":adj_mutual_info, \n",
    "        \"Silhouette\":silhouette\n",
    "    },\n",
    "    index=[\"Model Scores\"]\n",
    ")"
   ]
  },
  {
   "cell_type": "markdown",
   "metadata": {},
   "source": [
    "We can even get the two-dimensional array of the training for plotting it"
   ]
  },
  {
   "cell_type": "code",
   "execution_count": 11,
   "metadata": {
    "collapsed": false
   },
   "outputs": [
    {
     "data": {
      "text/plain": [
       "array([[ 16.09952356,  20.78320812],\n",
       "       [ 14.71184885,  22.42978845],\n",
       "       [ 15.77536147,  20.9225457 ],\n",
       "       [ 15.01405218,  20.41539341],\n",
       "       [ 16.54074106,  20.23540193]])"
      ]
     },
     "execution_count": 11,
     "metadata": {},
     "output_type": "execute_result"
    }
   ],
   "source": [
    "twodim = model.two_dim()\n",
    "twodim[:5]"
   ]
  },
  {
   "cell_type": "markdown",
   "metadata": {},
   "source": [
    "A wild plot appears:"
   ]
  },
  {
   "cell_type": "code",
   "execution_count": 12,
   "metadata": {
    "collapsed": false
   },
   "outputs": [
    {
     "data": {
      "image/png": "[encoded data removed]",
      "text/plain": [
       "<IPython.core.display.Image object>"
      ]
     },
     "metadata": {},
     "output_type": "display_data"
    }
   ],
   "source": [
    "data = model.plot_trace()\n",
    "\n",
    "py.image.ishow({'data': data})\n",
    "# uncomment this line below (and comment the one above) to have the interactive plot\n",
    "# py.iplot(data)"
   ]
  },
  {
   "cell_type": "markdown",
   "metadata": {},
   "source": [
    "## A more tuned example"
   ]
  },
  {
   "cell_type": "markdown",
   "metadata": {},
   "source": [
    "Ok now, we're loading all the file and creating our data structures all the way again:"
   ]
  },
  {
   "cell_type": "code",
   "execution_count": 15,
   "metadata": {
    "collapsed": false
   },
   "outputs": [
    {
     "data": {
      "text/plain": [
       "728"
      ]
     },
     "execution_count": 15,
     "metadata": {},
     "output_type": "execute_result"
    }
   ],
   "source": [
    "dir_path = os.getcwd() + \"/../dataset/cs.illinois.edu/no_constraint/words1000_depth10/\"\n",
    "\n",
    "vertex_path      = dir_path + \"vertex.txt\"\n",
    "codecontent_map  = get_content_map(vertex_path)\n",
    "\n",
    "map_path         = dir_path + \"urlsMap.txt\"\n",
    "codeurl_map      = get_urlmap(map_path)\n",
    "\n",
    "sequences_path   = dir_path + \"sequenceIDs.txt\"\n",
    "sequences        = get_sequences(sequences_path)\n",
    "\n",
    "gt = GroundTruth(os.getcwd() + \"/../dataset/cs.illinois.edu/ground_truth/urlToMembership.txt\")\n",
    "ground_truth = [ int(gt.get_groundtruth(codeurl_map[code])) for code in codeurl_map ]\n",
    "len(ground_truth)"
   ]
  },
  {
   "cell_type": "markdown",
   "metadata": {},
   "source": [
    "Tuning some parameters:\n",
    "- **algorithm** passed now is KMeans with 15 desired clusters (because of reasons)\n",
    "\n",
    "\n",
    "- **e_sg** = 1 means that we ar using skip-gram for training word2vec model\n",
    "\n",
    "\n",
    "- **e_min_count** = 5, we are ignorig all words with total frequency lower than 5 for training word2vec model\n",
    "\n",
    "\n",
    "- **e_window** = 5, now we're considering a shorter distance (default 10) between a word and its neighboring when learning a feature vector for that word (word2vec)\n",
    "\n",
    "\n",
    "- **e-size** the size of the word2vec feature vectors, or in another point of view, the importance we want to give to the URL embedding approach\n",
    "\n",
    "\n",
    "- **d_dim_red** the size of the feature vectors from the tf-idf matrix(in this case), or else, the importance we want to give to the page content and the words in it.\n",
    "\n",
    "\n",
    "\n",
    "The other parameters are listed but left unchanged. Here are set 36 for word2vec vectors and 64 for tf-idf vectors, so giving more importance to the page content."
   ]
  },
  {
   "cell_type": "code",
   "execution_count": 16,
   "metadata": {
    "collapsed": false
   },
   "outputs": [
    {
     "name": "stderr",
     "output_type": "stream",
     "text": [
      "WARNING:gensim.models.word2vec:supplied example count (99999) did not equal expected count (499995)\n"
     ]
    },
    {
     "data": {
      "text/plain": [
       "728"
      ]
     },
     "execution_count": 16,
     "metadata": {},
     "output_type": "execute_result"
    }
   ],
   "source": [
    "model = Url2Vec(codeurl_map)\n",
    "predicted_labels = model.train(\n",
    "    sequences = sequences, \n",
    "    contents = codecontent_map, \n",
    "    algorithm = KMeans(n_clusters=15), \n",
    "    use_w2v = True, \n",
    "    use_tfidf = True,      \n",
    "    e_sg = 1, \n",
    "    e_min_count = 5, \n",
    "    e_window = 5, \n",
    "    e_negative = 5, \n",
    "    e_size = 36, \n",
    "    d_max_df = 0.9, \n",
    "    d_max_features = 200000, \n",
    "    d_min_df = 0.05, \n",
    "    d_dim_red = 64, \n",
    "    d_tfidf = True\n",
    ")\n",
    "\n",
    "len(predicted_labels)"
   ]
  },
  {
   "cell_type": "markdown",
   "metadata": {},
   "source": [
    "Now we have the predicted labels, clustered with KMeans:"
   ]
  },
  {
   "cell_type": "code",
   "execution_count": 17,
   "metadata": {
    "collapsed": false
   },
   "outputs": [
    {
     "name": "stdout",
     "output_type": "stream",
     "text": [
      "Clusters found with KMeans: 15\n",
      "set([0, 1, 2, 3, 4, 5, 6, 7, 8, 9, 10, 11, 12, 13, 14]) \n",
      "\n",
      "[3, 3, 3, 3, 3, 3, 3, 3, 3, 3, 5, 2, 2, 2, 5]\n",
      "\n",
      "\n",
      "\n"
     ]
    }
   ],
   "source": [
    "print(\"Clusters found with KMeans:\", len(set(predicted_labels)))\n",
    "print(set(predicted_labels), \"\\n\")\n",
    "print(predicted_labels[:15])\n",
    "\n",
    "print(\"\\n\\n\")"
   ]
  },
  {
   "cell_type": "markdown",
   "metadata": {},
   "source": [
    "#### Confusion table\n",
    "Now we can reconsider the confusion table by passing the ground truth:"
   ]
  },
  {
   "cell_type": "code",
   "execution_count": 18,
   "metadata": {
    "collapsed": false
   },
   "outputs": [
    {
     "data": {
      "text/html": [
       "<div>\n",
       "<table border=\"1\" class=\"dataframe\">\n",
       "  <thead>\n",
       "    <tr style=\"text-align: right;\">\n",
       "      <th></th>\n",
       "      <th>0</th>\n",
       "      <th>1</th>\n",
       "      <th>2</th>\n",
       "      <th>3</th>\n",
       "      <th>4</th>\n",
       "      <th>5</th>\n",
       "      <th>6</th>\n",
       "      <th>7</th>\n",
       "      <th>8</th>\n",
       "      <th>9</th>\n",
       "      <th>10</th>\n",
       "      <th>11</th>\n",
       "      <th>12</th>\n",
       "      <th>13</th>\n",
       "      <th>14</th>\n",
       "    </tr>\n",
       "  </thead>\n",
       "  <tbody>\n",
       "    <tr>\n",
       "      <th>0</th>\n",
       "      <td>0</td>\n",
       "      <td>0</td>\n",
       "      <td>0</td>\n",
       "      <td>0</td>\n",
       "      <td>0</td>\n",
       "      <td>0</td>\n",
       "      <td>0</td>\n",
       "      <td>0</td>\n",
       "      <td>0</td>\n",
       "      <td>0</td>\n",
       "      <td>0</td>\n",
       "      <td>18</td>\n",
       "      <td>0</td>\n",
       "      <td>0</td>\n",
       "      <td>0</td>\n",
       "    </tr>\n",
       "    <tr>\n",
       "      <th>1</th>\n",
       "      <td>0</td>\n",
       "      <td>0</td>\n",
       "      <td>0</td>\n",
       "      <td>0</td>\n",
       "      <td>0</td>\n",
       "      <td>0</td>\n",
       "      <td>0</td>\n",
       "      <td>0</td>\n",
       "      <td>0</td>\n",
       "      <td>0</td>\n",
       "      <td>0</td>\n",
       "      <td>12</td>\n",
       "      <td>0</td>\n",
       "      <td>0</td>\n",
       "      <td>0</td>\n",
       "    </tr>\n",
       "    <tr>\n",
       "      <th>2</th>\n",
       "      <td>0</td>\n",
       "      <td>0</td>\n",
       "      <td>0</td>\n",
       "      <td>0</td>\n",
       "      <td>0</td>\n",
       "      <td>0</td>\n",
       "      <td>0</td>\n",
       "      <td>47</td>\n",
       "      <td>0</td>\n",
       "      <td>0</td>\n",
       "      <td>0</td>\n",
       "      <td>0</td>\n",
       "      <td>0</td>\n",
       "      <td>0</td>\n",
       "      <td>0</td>\n",
       "    </tr>\n",
       "    <tr>\n",
       "      <th>3</th>\n",
       "      <td>28</td>\n",
       "      <td>0</td>\n",
       "      <td>0</td>\n",
       "      <td>0</td>\n",
       "      <td>0</td>\n",
       "      <td>0</td>\n",
       "      <td>0</td>\n",
       "      <td>0</td>\n",
       "      <td>0</td>\n",
       "      <td>0</td>\n",
       "      <td>0</td>\n",
       "      <td>0</td>\n",
       "      <td>0</td>\n",
       "      <td>1</td>\n",
       "      <td>0</td>\n",
       "    </tr>\n",
       "    <tr>\n",
       "      <th>4</th>\n",
       "      <td>0</td>\n",
       "      <td>0</td>\n",
       "      <td>0</td>\n",
       "      <td>1</td>\n",
       "      <td>0</td>\n",
       "      <td>0</td>\n",
       "      <td>0</td>\n",
       "      <td>0</td>\n",
       "      <td>0</td>\n",
       "      <td>0</td>\n",
       "      <td>0</td>\n",
       "      <td>0</td>\n",
       "      <td>0</td>\n",
       "      <td>13</td>\n",
       "      <td>0</td>\n",
       "    </tr>\n",
       "    <tr>\n",
       "      <th>6</th>\n",
       "      <td>0</td>\n",
       "      <td>0</td>\n",
       "      <td>0</td>\n",
       "      <td>0</td>\n",
       "      <td>0</td>\n",
       "      <td>0</td>\n",
       "      <td>0</td>\n",
       "      <td>0</td>\n",
       "      <td>0</td>\n",
       "      <td>0</td>\n",
       "      <td>0</td>\n",
       "      <td>0</td>\n",
       "      <td>6</td>\n",
       "      <td>0</td>\n",
       "      <td>0</td>\n",
       "    </tr>\n",
       "    <tr>\n",
       "      <th>8</th>\n",
       "      <td>0</td>\n",
       "      <td>3</td>\n",
       "      <td>1</td>\n",
       "      <td>0</td>\n",
       "      <td>69</td>\n",
       "      <td>0</td>\n",
       "      <td>0</td>\n",
       "      <td>0</td>\n",
       "      <td>0</td>\n",
       "      <td>0</td>\n",
       "      <td>1</td>\n",
       "      <td>0</td>\n",
       "      <td>0</td>\n",
       "      <td>0</td>\n",
       "      <td>1</td>\n",
       "    </tr>\n",
       "    <tr>\n",
       "      <th>10</th>\n",
       "      <td>0</td>\n",
       "      <td>1</td>\n",
       "      <td>68</td>\n",
       "      <td>0</td>\n",
       "      <td>0</td>\n",
       "      <td>222</td>\n",
       "      <td>0</td>\n",
       "      <td>0</td>\n",
       "      <td>0</td>\n",
       "      <td>8</td>\n",
       "      <td>26</td>\n",
       "      <td>0</td>\n",
       "      <td>0</td>\n",
       "      <td>0</td>\n",
       "      <td>0</td>\n",
       "    </tr>\n",
       "    <tr>\n",
       "      <th>11</th>\n",
       "      <td>0</td>\n",
       "      <td>2</td>\n",
       "      <td>0</td>\n",
       "      <td>0</td>\n",
       "      <td>0</td>\n",
       "      <td>5</td>\n",
       "      <td>0</td>\n",
       "      <td>0</td>\n",
       "      <td>0</td>\n",
       "      <td>0</td>\n",
       "      <td>0</td>\n",
       "      <td>0</td>\n",
       "      <td>0</td>\n",
       "      <td>0</td>\n",
       "      <td>0</td>\n",
       "    </tr>\n",
       "    <tr>\n",
       "      <th>12</th>\n",
       "      <td>0</td>\n",
       "      <td>3</td>\n",
       "      <td>2</td>\n",
       "      <td>0</td>\n",
       "      <td>13</td>\n",
       "      <td>1</td>\n",
       "      <td>0</td>\n",
       "      <td>0</td>\n",
       "      <td>0</td>\n",
       "      <td>0</td>\n",
       "      <td>0</td>\n",
       "      <td>0</td>\n",
       "      <td>0</td>\n",
       "      <td>0</td>\n",
       "      <td>0</td>\n",
       "    </tr>\n",
       "    <tr>\n",
       "      <th>13</th>\n",
       "      <td>0</td>\n",
       "      <td>0</td>\n",
       "      <td>0</td>\n",
       "      <td>0</td>\n",
       "      <td>0</td>\n",
       "      <td>0</td>\n",
       "      <td>27</td>\n",
       "      <td>0</td>\n",
       "      <td>40</td>\n",
       "      <td>0</td>\n",
       "      <td>0</td>\n",
       "      <td>0</td>\n",
       "      <td>0</td>\n",
       "      <td>0</td>\n",
       "      <td>0</td>\n",
       "    </tr>\n",
       "    <tr>\n",
       "      <th>14</th>\n",
       "      <td>0</td>\n",
       "      <td>0</td>\n",
       "      <td>0</td>\n",
       "      <td>47</td>\n",
       "      <td>0</td>\n",
       "      <td>0</td>\n",
       "      <td>0</td>\n",
       "      <td>0</td>\n",
       "      <td>0</td>\n",
       "      <td>0</td>\n",
       "      <td>0</td>\n",
       "      <td>0</td>\n",
       "      <td>0</td>\n",
       "      <td>0</td>\n",
       "      <td>0</td>\n",
       "    </tr>\n",
       "    <tr>\n",
       "      <th>15</th>\n",
       "      <td>0</td>\n",
       "      <td>0</td>\n",
       "      <td>0</td>\n",
       "      <td>0</td>\n",
       "      <td>0</td>\n",
       "      <td>0</td>\n",
       "      <td>0</td>\n",
       "      <td>0</td>\n",
       "      <td>0</td>\n",
       "      <td>0</td>\n",
       "      <td>0</td>\n",
       "      <td>0</td>\n",
       "      <td>0</td>\n",
       "      <td>0</td>\n",
       "      <td>11</td>\n",
       "    </tr>\n",
       "    <tr>\n",
       "      <th>-1</th>\n",
       "      <td>0</td>\n",
       "      <td>25</td>\n",
       "      <td>0</td>\n",
       "      <td>1</td>\n",
       "      <td>1</td>\n",
       "      <td>0</td>\n",
       "      <td>1</td>\n",
       "      <td>1</td>\n",
       "      <td>2</td>\n",
       "      <td>0</td>\n",
       "      <td>0</td>\n",
       "      <td>14</td>\n",
       "      <td>2</td>\n",
       "      <td>4</td>\n",
       "      <td>0</td>\n",
       "    </tr>\n",
       "  </tbody>\n",
       "</table>\n",
       "</div>"
      ],
      "text/plain": [
       "     0   1   2   3   4    5   6   7   8   9   10  11  12  13  14\n",
       " 0    0   0   0   0   0    0   0   0   0   0   0  18   0   0   0\n",
       " 1    0   0   0   0   0    0   0   0   0   0   0  12   0   0   0\n",
       " 2    0   0   0   0   0    0   0  47   0   0   0   0   0   0   0\n",
       " 3   28   0   0   0   0    0   0   0   0   0   0   0   0   1   0\n",
       " 4    0   0   0   1   0    0   0   0   0   0   0   0   0  13   0\n",
       " 6    0   0   0   0   0    0   0   0   0   0   0   0   6   0   0\n",
       " 8    0   3   1   0  69    0   0   0   0   0   1   0   0   0   1\n",
       " 10   0   1  68   0   0  222   0   0   0   8  26   0   0   0   0\n",
       " 11   0   2   0   0   0    5   0   0   0   0   0   0   0   0   0\n",
       " 12   0   3   2   0  13    1   0   0   0   0   0   0   0   0   0\n",
       " 13   0   0   0   0   0    0  27   0  40   0   0   0   0   0   0\n",
       " 14   0   0   0  47   0    0   0   0   0   0   0   0   0   0   0\n",
       " 15   0   0   0   0   0    0   0   0   0   0   0   0   0   0  11\n",
       "-1    0  25   0   1   1    0   1   1   2   0   0  14   2   4   0"
      ]
     },
     "execution_count": 18,
     "metadata": {},
     "output_type": "execute_result"
    }
   ],
   "source": [
    "conf_table = model.test(ground_truth)\n",
    "pd.DataFrame(conf_table, index=set(ground_truth), columns=set(predicted_labels))"
   ]
  },
  {
   "cell_type": "markdown",
   "metadata": {},
   "source": [
    "#### Other metrics\n",
    "As well as the other metrics:"
   ]
  },
  {
   "cell_type": "code",
   "execution_count": 19,
   "metadata": {
    "collapsed": false
   },
   "outputs": [
    {
     "data": {
      "text/html": [
       "<div>\n",
       "<table border=\"1\" class=\"dataframe\">\n",
       "  <thead>\n",
       "    <tr style=\"text-align: right;\">\n",
       "      <th></th>\n",
       "      <th>Adj Mutual info</th>\n",
       "      <th>Adj Rand index</th>\n",
       "      <th>Completeness</th>\n",
       "      <th>Homogeneity</th>\n",
       "      <th>Silhouette</th>\n",
       "      <th>V-Measure</th>\n",
       "    </tr>\n",
       "  </thead>\n",
       "  <tbody>\n",
       "    <tr>\n",
       "      <th>Model Scores</th>\n",
       "      <td>0.703457</td>\n",
       "      <td>0.612965</td>\n",
       "      <td>0.719938</td>\n",
       "      <td>0.847555</td>\n",
       "      <td>0.196671</td>\n",
       "      <td>0.778552</td>\n",
       "    </tr>\n",
       "  </tbody>\n",
       "</table>\n",
       "</div>"
      ],
      "text/plain": [
       "              Adj Mutual info  Adj Rand index  Completeness  Homogeneity  \\\n",
       "Model Scores         0.703457        0.612965      0.719938     0.847555   \n",
       "\n",
       "              Silhouette  V-Measure  \n",
       "Model Scores    0.196671   0.778552  "
      ]
     },
     "execution_count": 19,
     "metadata": {},
     "output_type": "execute_result"
    }
   ],
   "source": [
    "homogeneity     = model.homogeneity_score()\n",
    "completeness    = model.completeness_score()\n",
    "v_measure       = model.v_measure_score()\n",
    "adj_rand        = model.adjusted_rand_score()\n",
    "adj_mutual_info = model.adjusted_mutual_info_score()\n",
    "silhouette      = model.silhouette_score()\n",
    "\n",
    "pd.DataFrame({\n",
    "        \"Homogeneity\":homogeneity, \n",
    "        \"Completeness\":completeness, \n",
    "        \"V-Measure\":v_measure, \n",
    "        \"Adj Rand index\":adj_rand, \n",
    "        \"Adj Mutual info\":adj_mutual_info, \n",
    "        \"Silhouette\":silhouette\n",
    "    },\n",
    "    index=[\"Model Scores\"]\n",
    ")"
   ]
  },
  {
   "cell_type": "markdown",
   "metadata": {},
   "source": [
    "And finally we can plot everything:"
   ]
  },
  {
   "cell_type": "code",
   "execution_count": 21,
   "metadata": {
    "collapsed": false,
    "scrolled": false
   },
   "outputs": [
    {
     "data": {
      "text/html": [
       "<iframe id=\"igraph\" scrolling=\"no\" style=\"border:none;\" seamless=\"seamless\" src=\"https://plot.ly/~chrispolo/108.embed\" height=\"525px\" width=\"100%\"></iframe>"
      ],
      "text/plain": [
       "<plotly.tools.PlotlyDisplay object>"
      ]
     },
     "execution_count": 21,
     "metadata": {},
     "output_type": "execute_result"
    }
   ],
   "source": [
    "twodim = model.two_dim()\n",
    "data = model.plot_trace()\n",
    "\n",
    "# py.image.ishow({'data': data})\n",
    "# uncomment this line below (and comment the one above) to have the interactive plot\n",
    "py.iplot(data)"
   ]
  }
 ],
 "metadata": {
  "kernelspec": {
   "display_name": "Python 2",
   "language": "python",
   "name": "python2"
  },
  "language_info": {
   "codemirror_mode": {
    "name": "ipython",
    "version": 2
   },
   "file_extension": ".py",
   "mimetype": "text/x-python",
   "name": "python",
   "nbconvert_exporter": "python",
   "pygments_lexer": "ipython2",
   "version": "2.7.11"
  }
 },
 "nbformat": 4,
 "nbformat_minor": 0
}
