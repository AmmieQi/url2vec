{
 "cells": [
  {
   "cell_type": "code",
   "execution_count": 1,
   "metadata": {
    "collapsed": false,
    "slideshow": {
     "slide_type": "-"
    }
   },
   "outputs": [],
   "source": [
    "import os\n",
    "import igraph as ig\n",
    "import plotly.plotly as py\n",
    "from plotly.graph_objs import *\n",
    "import sys\n",
    "sys.path.append(os.path.abspath(\"..\"))\n",
    "from urlembed.util.seqmanager import *\n",
    "from urlembed.util.plotter import *"
   ]
  },
  {
   "cell_type": "markdown",
   "metadata": {},
   "source": [
    "<div style=\"text-align:center\"><h1> NO-COSTRAINT GRAPH </h1></div>"
   ]
  },
  {
   "cell_type": "code",
   "execution_count": 10,
   "metadata": {
    "collapsed": false
   },
   "outputs": [
    {
     "name": "stdout",
     "output_type": "stream",
     "text": [
      "(807, 16993)\n"
     ]
    }
   ],
   "source": [
    "nocostraint_path        = os.getcwd() + \"/../dataset/new/cs.illinois.eduNoConstraint.words1000.depth.10/\"\n",
    "nocostraint_urlmap_path = nocostraint_path + \"urlsMap.txt\"\n",
    "# rw_seq_path             = nocostraint_path + \"sequenceIDs.txt\"\n",
    "nocostraint_edges_path  = nocostraint_path + \"edges.txt\"\n",
    "\n",
    "urlmap_nocostraint      = get_urlmap(nocostraint_urlmap_path)\n",
    "# rw_sequences            = get_sequences(rw_seq_path, 1)\n",
    "\n",
    "nocostraint_graph = graph_from_file(nocostraint_edges_path, urlmap_nocostraint)\n",
    "print(len(nocostraint_graph.vs), len(nocostraint_graph.es))"
   ]
  },
  {
   "cell_type": "code",
   "execution_count": 12,
   "metadata": {
    "collapsed": false
   },
   "outputs": [
    {
     "name": "stdout",
     "output_type": "stream",
     "text": [
      "(1090, 19742)\n"
     ]
    }
   ],
   "source": [
    "listcostraint_path        = os.getcwd() + \"/../dataset/new/cs.illinois.edu.ListConstraint.words1000.depth10/\"\n",
    "listcostraint_urlmap_path = listcostraint_path + \"urlsMap.txt\"\n",
    "# rw_seq_path             = nocostraint_path + \"sequenceIDs.txt\"\n",
    "listcostraint_edges_path  = listcostraint_path + \"edges.txt\"\n",
    "\n",
    "urlmap_listcostraint      = get_urlmap(listcostraint_urlmap_path)\n",
    "# rw_sequences            = get_sequences(rw_seq_path, 1)\n",
    "\n",
    "listcostraint_graph = graph_from_file(listcostraint_edges_path, urlmap_listcostraint)\n",
    "print(len(listcostraint_graph.vs), len(listcostraint_graph.es))"
   ]
  },
  {
   "cell_type": "code",
   "execution_count": null,
   "metadata": {
    "collapsed": false
   },
   "outputs": [],
   "source": [
    "\"\"\"rw_sequence_map = get_sequence_map(rw_map_path)\n",
    "rw_seq_map = get_seq_map(rw_map_path)\n",
    "# for key in rw_sequence_map:\n",
    "    # print rw_sequence_map[key] == rw_seq_map[key]\n",
    "print len(rw_sequence_map), len(rw_seq_map)\"\"\""
   ]
  },
  {
   "cell_type": "code",
   "execution_count": 13,
   "metadata": {
    "collapsed": false
   },
   "outputs": [
    {
     "name": "stderr",
     "output_type": "stream",
     "text": [
      "/home/chris/anaconda3/envs/python2/lib/python2.7/site-packages/plotly/plotly/plotly.py:236: UserWarning:\n",
      "\n",
      "Woah there! Look at all those points! Due to browser limitations, the Plotly SVG drawing functions have a hard time graphing more than 500k data points for line charts, or 40k points for other types of charts. Here are some suggestions:\n",
      "(1) Use the `plotly.graph_objs.Scattergl` trace object to generate a WebGl graph.\n",
      "(2) Trying using the image API to return an image instead of a graph URL\n",
      "(3) Use matplotlib\n",
      "(4) See if you can create your visualization with fewer data points\n",
      "\n",
      "If the visualization you're using aggregates points (e.g., box plot, histogram, etc.) you can disregard this warning.\n",
      "\n",
      "/home/chris/anaconda3/envs/python2/lib/python2.7/site-packages/plotly/plotly/plotly.py:1416: UserWarning:\n",
      "\n",
      "Estimated Draw Time Slow\n",
      "\n"
     ]
    },
    {
     "name": "stdout",
     "output_type": "stream",
     "text": [
      "The draw time for this plot will be slow for clients without much RAM.\n"
     ]
    },
    {
     "data": {
      "text/html": [
       "<iframe id=\"igraph\" scrolling=\"no\" style=\"border:none;\"seamless=\"seamless\" src=\"https://plot.ly/~chrispolo/44.embed\" height=\"1000px\" width=\"1000px\"></iframe>"
      ],
      "text/plain": [
       "<plotly.tools.PlotlyDisplay object>"
      ]
     },
     "execution_count": 13,
     "metadata": {},
     "output_type": "execute_result"
    }
   ],
   "source": [
    "rw_fig = graph3d_plot(nocostraint_graph, \"No-costraint network\")\n",
    "py.iplot(rw_fig, filename=\"No-costraint network\")"
   ]
  },
  {
   "cell_type": "markdown",
   "metadata": {},
   "source": [
    "<div style=\"text-align:center\"><h1> RANDOM-WALK-FROM-HOMEPAGE GRAPH </h1></div>"
   ]
  },
  {
   "cell_type": "code",
   "execution_count": null,
   "metadata": {
    "collapsed": false
   },
   "outputs": [],
   "source": [
    "rwfh_path = os.getcwd() + \"/dataset/depth-100k/seqLen-10/cs.illinois.eduRandomWalkFromHomepage.depth.100000.seqLen.10/\"\n",
    "rwfh_map_path = rwfh_path + \"sequencesMapUrl.txt\"\n",
    "rwfh_seq_path = rwfh_path + \"sequencesIDs.txt\"\n",
    "\n",
    "\n",
    "rwfh_sequence_map = get_sequence_map(rwfh_map_path)\n",
    "rwfh_sequences = get_sequences(rwfh_seq_path, 1)\n",
    "\n",
    "rwfh_graph = create_graph(rwfh_sequences, rwfh_sequence_map)\n",
    "print len(rwfh_graph.vs), len(rwfh_graph.es)"
   ]
  },
  {
   "cell_type": "code",
   "execution_count": null,
   "metadata": {
    "collapsed": false
   },
   "outputs": [],
   "source": [
    "rwfh_fig = graph_plot(rwfh_graph, \"Random walk from Homepage network\")\n",
    "py.iplot(rwfh_fig, filename=\"Random walk from Homepage network\")"
   ]
  },
  {
   "cell_type": "markdown",
   "metadata": {},
   "source": [
    "<div style=\"text-align:center\"><h1> RANDOM-WALK-WITH-LISTS GRAPH </h1></div>"
   ]
  },
  {
   "cell_type": "code",
   "execution_count": null,
   "metadata": {
    "collapsed": false,
    "scrolled": true
   },
   "outputs": [],
   "source": [
    "rwwl_path = os.getcwd() + \"/dataset/depth-100k/seqLen-10/cs.illinois.eduRandomWalkLists.depth.100000.seqLen.10/\"\n",
    "rwwl_map_path = rwwl_path + \"sequencesMapUrl.txt\"\n",
    "rwwl_seq_path = rwwl_path + \"sequencesIDs.txt\"\n",
    "\n",
    "\n",
    "rwwl_sequence_map = get_sequence_map(rwwl_map_path)\n",
    "rwwl_sequences = get_sequences(rwwl_seq_path, 1)\n",
    "\n",
    "rwwl_graph = create_graph(rwwl_sequences, rwwl_sequence_map)\n",
    "print len(rwwl_graph.vs), len(rwwl_graph.es)"
   ]
  },
  {
   "cell_type": "code",
   "execution_count": null,
   "metadata": {
    "collapsed": false
   },
   "outputs": [],
   "source": [
    "rwwl_fig = graph_plot(rwwl_graph, \"Random walk with Lists network\")\n",
    "py.iplot(rwwl_fig, filename=\"Random walk with Lists network\")"
   ]
  },
  {
   "cell_type": "markdown",
   "metadata": {},
   "source": [
    "<div style=\"text-align:center\"><h1> MANUALLY-COLORED-RWWL GRAPH </h1></div>"
   ]
  },
  {
   "cell_type": "code",
   "execution_count": null,
   "metadata": {
    "collapsed": false
   },
   "outputs": [],
   "source": [
    "color_rwwl_path = rwwl_path + \"sequencesMapUrl-manually-clusterized.txt\"\n",
    "rwwl_sequences_wc = get_sequences(rwwl_seq_path, 1)\n",
    "rwwl_tuplist = get_sequence_tuple_list(color_rwwl_path)\n",
    "\n",
    "rwwl_graph_wc = create_graph(rwwl_sequences_wc, rwwl_tuplist)\n",
    "print len(rwwl_graph_wc.vs), len(rwwl_graph_wc.es)"
   ]
  },
  {
   "cell_type": "code",
   "execution_count": null,
   "metadata": {
    "collapsed": false
   },
   "outputs": [],
   "source": [
    "rwmc = graph_plot(rwwl_graph_wc, \"RWWL network - Manually colored\")\n",
    "py.iplot(rwmc, filename=\"RWWL network - Manually colored\")"
   ]
  },
  {
   "cell_type": "markdown",
   "metadata": {},
   "source": [
    "<div style=\"text-align:center\"><h1> CLUSTERING </h1></div>"
   ]
  },
  {
   "cell_type": "code",
   "execution_count": null,
   "metadata": {
    "collapsed": false
   },
   "outputs": [],
   "source": [
    "vertex_dendogram = rwwl_graph.community_fastgreedy()\n",
    "vertex_clustering = vertex_dendogram.as_clustering(8)\n",
    "\n",
    "type(vertex_clustering.membership)"
   ]
  },
  {
   "cell_type": "code",
   "execution_count": null,
   "metadata": {
    "collapsed": false
   },
   "outputs": [],
   "source": [
    "print vertex_clustering.sizes()\n",
    "print \"modularity: \", vertex_clustering.modularity"
   ]
  },
  {
   "cell_type": "code",
   "execution_count": null,
   "metadata": {
    "collapsed": false
   },
   "outputs": [],
   "source": [
    "print type(vertex_clustering.membership[0])"
   ]
  },
  {
   "cell_type": "code",
   "execution_count": null,
   "metadata": {
    "collapsed": false
   },
   "outputs": [],
   "source": [
    "for i in range(len(rwwl_graph.vs)):\n",
    "    rwwl_graph.vs[i][\"color\"] = get_color(vertex_clustering.membership[i])\n",
    "    # print rw_graph.vs[i][\"name\"], vertex_clustering.membership[i]"
   ]
  },
  {
   "cell_type": "code",
   "execution_count": null,
   "metadata": {
    "collapsed": false
   },
   "outputs": [],
   "source": [
    "rwwl_clust_fig = graph_plot(rwwl_graph, \"Random walk with lists - Modularity clustering\")\n",
    "py.iplot(rwwl_clust_fig, filename=\"Random walk with lists - Modularity clustering\")"
   ]
  },
  {
   "cell_type": "markdown",
   "metadata": {},
   "source": [
    "<div style=\"text-align:center\"><h1> SINGLE CLUSTER </h1></div>"
   ]
  },
  {
   "cell_type": "code",
   "execution_count": null,
   "metadata": {
    "collapsed": false,
    "scrolled": false
   },
   "outputs": [],
   "source": [
    "second_clust_subgraph = vertex_clustering.subgraph(1)\n",
    "second_clust_fig = graph_plot(second_clust_subgraph, \"Single cluster\")\n",
    "\n",
    "py.iplot(second_clust_fig, filename=\"Single cluster\")"
   ]
  },
  {
   "cell_type": "code",
   "execution_count": null,
   "metadata": {
    "collapsed": false,
    "scrolled": true
   },
   "outputs": [],
   "source": [
    "# for v in second_clust_subgraph.vs:\n",
    "    # print v[\"name\"]"
   ]
  }
 ],
 "metadata": {
  "kernelspec": {
   "display_name": "Python 2",
   "language": "python",
   "name": "python2"
  },
  "language_info": {
   "codemirror_mode": {
    "name": "ipython",
    "version": 2
   },
   "file_extension": ".py",
   "mimetype": "text/x-python",
   "name": "python",
   "nbconvert_exporter": "python",
   "pygments_lexer": "ipython2",
   "version": "2.7.11"
  }
 },
 "nbformat": 4,
 "nbformat_minor": 0
}
