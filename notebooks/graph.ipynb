{
 "cells": [
  {
   "cell_type": "code",
   "execution_count": 1,
   "metadata": {
    "collapsed": false,
    "slideshow": {
     "slide_type": "-"
    }
   },
   "outputs": [],
   "source": [
    "import os\n",
    "import igraph as ig\n",
    "import plotly.plotly as py\n",
    "from plotly.graph_objs import *\n",
    "import sys\n",
    "sys.path.append(os.path.abspath(\"..\"))\n",
    "from urlembed.util.seqmanager import *\n",
    "from urlembed.util.plotter import *\n",
    "from __future__ import print_function"
   ]
  },
  {
   "cell_type": "markdown",
   "metadata": {},
   "source": [
    "<div style=\"text-align:center\"><h1> NO-COSTRAINT GRAPH </h1></div>"
   ]
  },
  {
   "cell_type": "code",
   "execution_count": 2,
   "metadata": {
    "collapsed": false
   },
   "outputs": [
    {
     "data": {
      "text/plain": [
       "'g = ig.Graph(directed=True)\\ng.add_vertices(10)\\ng.add_edge(1, 2)\\ng.add_edge(1, 3)\\ng.add_edge(4, 5)\\ng.delete_vertices([0, 8, 9])\\n\\nprint([i.index for i in g.vs])\\nfor i in g.es:\\n    print i.source, i.target'"
      ]
     },
     "execution_count": 2,
     "metadata": {},
     "output_type": "execute_result"
    }
   ],
   "source": [
    "\"\"\"g = ig.Graph(directed=True)\n",
    "g.add_vertices(10)\n",
    "g.add_edge(1, 2)\n",
    "g.add_edge(1, 3)\n",
    "g.add_edge(4, 5)\n",
    "g.delete_vertices([0, 8, 9])\n",
    "\n",
    "print([i.index for i in g.vs])\n",
    "for i in g.es:\n",
    "    print i.source, i.target\"\"\""
   ]
  },
  {
   "cell_type": "code",
   "execution_count": 3,
   "metadata": {
    "collapsed": false
   },
   "outputs": [
    {
     "name": "stdout",
     "output_type": "stream",
     "text": [
      "Number of vertices: 807\n",
      "Number of edges: 16993\n"
     ]
    }
   ],
   "source": [
    "nocostraint_path        = os.getcwd() + \"/../dataset/cs.illinois.edu_NoConstraint.words1000.depth10/\"\n",
    "nocostraint_urlmap_path = nocostraint_path + \"urlsMap.txt\"\n",
    "nocostraint_edges_path  = nocostraint_path + \"edges.txt\"\n",
    "\n",
    "codeurlmap_nocostraint      = get_urlmap(nocostraint_urlmap_path)\n",
    "nocostraint_graph       = graph_from_file(nocostraint_edges_path, codeurlmap_nocostraint)\n",
    "\n",
    "print(\"Number of vertices:\", len(nocostraint_graph.vs))\n",
    "print(\"Number of edges:\",    len(nocostraint_graph.es))"
   ]
  },
  {
   "cell_type": "code",
   "execution_count": 4,
   "metadata": {
    "collapsed": false
   },
   "outputs": [
    {
     "name": "stdout",
     "output_type": "stream",
     "text": [
      "Number of vertices: 1090\n",
      "Number of edges: 19742\n"
     ]
    }
   ],
   "source": [
    "listcostraint_path        = os.getcwd() + \"/../dataset/cs.illinois.edu_ListConstraint.words1000.depth10/\"\n",
    "listcostraint_urlmap_path = listcostraint_path + \"urlsMap.txt\"\n",
    "listcostraint_edges_path  = listcostraint_path + \"edges.txt\"\n",
    "\n",
    "urlmap_listcostraint      = get_urlmap(listcostraint_urlmap_path)\n",
    "listcostraint_graph       = graph_from_file(listcostraint_edges_path, urlmap_listcostraint)\n",
    "\n",
    "print(\"Number of vertices:\", len(listcostraint_graph.vs))\n",
    "print(\"Number of edges:\",    len(listcostraint_graph.es))"
   ]
  },
  {
   "cell_type": "code",
   "execution_count": 13,
   "metadata": {
    "collapsed": false
   },
   "outputs": [],
   "source": [
    "gt = GroundTruth(os.getcwd() + \"/../dataset/ground_truth/urlToMembership.txt\")\n",
    "ground_truth = [int(gt.get_groundtruth(codeurlmap_nocostraint[key])) for key in codeurlmap_nocostraint]"
   ]
  },
  {
   "cell_type": "code",
   "execution_count": 30,
   "metadata": {
    "collapsed": false
   },
   "outputs": [],
   "source": [
    "nocostraint_graph.delete_vertices([vertex.index for vertex in nocostraint_graph.vs if vertex[\"name\"] == \"missing\"])\n",
    "\n",
    "for vertex in nocostraint_graph.vs:\n",
    "    vertex[\"color\"] = get_color(int(gt.get_groundtruth(vertex[\"name\"])))"
   ]
  },
  {
   "cell_type": "code",
   "execution_count": 31,
   "metadata": {
    "collapsed": false,
    "scrolled": false
   },
   "outputs": [
    {
     "name": "stdout",
     "output_type": "stream",
     "text": [
      "The draw time for this plot will be slow for clients without much RAM.\n"
     ]
    },
    {
     "data": {
      "text/html": [
       "<iframe id=\"igraph\" scrolling=\"no\" style=\"border:none;\"seamless=\"seamless\" src=\"https://plot.ly/~chrispolo/44.embed\" height=\"1000px\" width=\"1000px\"></iframe>"
      ],
      "text/plain": [
       "<plotly.tools.PlotlyDisplay object>"
      ]
     },
     "execution_count": 31,
     "metadata": {},
     "output_type": "execute_result"
    }
   ],
   "source": [
    "nocostraint_fig = graph3d_plot(nocostraint_graph, \"No-costraint network\")\n",
    "py.iplot(nocostraint_fig, filename=\"No-costraint network\")"
   ]
  },
  {
   "cell_type": "markdown",
   "metadata": {},
   "source": [
    "<div>\n",
    "    <a href=\"https://plot.ly/~chrispolo/44/\" target=\"_blank\" title=\"No-costraint network\" style=\"display: block; text-align: center;\"><img src=\"https://plot.ly/~chrispolo/44.png\" alt=\"No-costraint network\" style=\"max-width: 100%;width: 1000px;\"  width=\"1000\" onerror=\"this.onerror=null;this.src='https://plot.ly/404.png';\" /></a>\n",
    "    <script data-plotly=\"chrispolo:44\"  src=\"https://plot.ly/embed.js\" async></script>\n",
    "</div>\n"
   ]
  },
  {
   "cell_type": "markdown",
   "metadata": {},
   "source": [
    "<div style=\"text-align:center\"><h1> RANDOM-WALK-FROM-HOMEPAGE GRAPH </h1></div>"
   ]
  },
  {
   "cell_type": "code",
   "execution_count": 7,
   "metadata": {
    "collapsed": false
   },
   "outputs": [
    {
     "ename": "SyntaxError",
     "evalue": "invalid syntax (<ipython-input-7-5f0a94552c4b>, line 10)",
     "output_type": "error",
     "traceback": [
      "\u001b[1;36m  File \u001b[1;32m\"<ipython-input-7-5f0a94552c4b>\"\u001b[1;36m, line \u001b[1;32m10\u001b[0m\n\u001b[1;33m    print len(rwfh_graph.vs), len(rwfh_graph.es)\u001b[0m\n\u001b[1;37m            ^\u001b[0m\n\u001b[1;31mSyntaxError\u001b[0m\u001b[1;31m:\u001b[0m invalid syntax\n"
     ]
    }
   ],
   "source": [
    "rwfh_path = os.getcwd() + \"/dataset/depth-100k/seqLen-10/cs.illinois.eduRandomWalkFromHomepage.depth.100000.seqLen.10/\"\n",
    "rwfh_map_path = rwfh_path + \"sequencesMapUrl.txt\"\n",
    "rwfh_seq_path = rwfh_path + \"sequencesIDs.txt\"\n",
    "\n",
    "\n",
    "rwfh_sequence_map = get_sequence_map(rwfh_map_path)\n",
    "rwfh_sequences = get_sequences(rwfh_seq_path, 1)\n",
    "\n",
    "rwfh_graph = create_graph(rwfh_sequences, rwfh_sequence_map)\n",
    "print len(rwfh_graph.vs), len(rwfh_graph.es)"
   ]
  },
  {
   "cell_type": "code",
   "execution_count": null,
   "metadata": {
    "collapsed": false
   },
   "outputs": [],
   "source": [
    "rwfh_fig = graph_plot(rwfh_graph, \"Random walk from Homepage network\")\n",
    "py.iplot(rwfh_fig, filename=\"Random walk from Homepage network\")"
   ]
  },
  {
   "cell_type": "markdown",
   "metadata": {},
   "source": [
    "<div style=\"text-align:center\"><h1> RANDOM-WALK-WITH-LISTS GRAPH </h1></div>"
   ]
  },
  {
   "cell_type": "code",
   "execution_count": null,
   "metadata": {
    "collapsed": false,
    "scrolled": true
   },
   "outputs": [],
   "source": [
    "rwwl_path = os.getcwd() + \"/dataset/depth-100k/seqLen-10/cs.illinois.eduRandomWalkLists.depth.100000.seqLen.10/\"\n",
    "rwwl_map_path = rwwl_path + \"sequencesMapUrl.txt\"\n",
    "rwwl_seq_path = rwwl_path + \"sequencesIDs.txt\"\n",
    "\n",
    "\n",
    "rwwl_sequence_map = get_sequence_map(rwwl_map_path)\n",
    "rwwl_sequences = get_sequences(rwwl_seq_path, 1)\n",
    "\n",
    "rwwl_graph = create_graph(rwwl_sequences, rwwl_sequence_map)\n",
    "print len(rwwl_graph.vs), len(rwwl_graph.es)"
   ]
  },
  {
   "cell_type": "code",
   "execution_count": null,
   "metadata": {
    "collapsed": false
   },
   "outputs": [],
   "source": [
    "rwwl_fig = graph_plot(rwwl_graph, \"Random walk with Lists network\")\n",
    "py.iplot(rwwl_fig, filename=\"Random walk with Lists network\")"
   ]
  },
  {
   "cell_type": "markdown",
   "metadata": {},
   "source": [
    "<div style=\"text-align:center\"><h1> MANUALLY-COLORED-RWWL GRAPH </h1></div>"
   ]
  },
  {
   "cell_type": "code",
   "execution_count": null,
   "metadata": {
    "collapsed": false
   },
   "outputs": [],
   "source": [
    "color_rwwl_path = rwwl_path + \"sequencesMapUrl-manually-clusterized.txt\"\n",
    "rwwl_sequences_wc = get_sequences(rwwl_seq_path, 1)\n",
    "rwwl_tuplist = get_sequence_tuple_list(color_rwwl_path)\n",
    "\n",
    "rwwl_graph_wc = create_graph(rwwl_sequences_wc, rwwl_tuplist)\n",
    "print len(rwwl_graph_wc.vs), len(rwwl_graph_wc.es)"
   ]
  },
  {
   "cell_type": "code",
   "execution_count": null,
   "metadata": {
    "collapsed": false
   },
   "outputs": [],
   "source": [
    "rwmc = graph_plot(rwwl_graph_wc, \"RWWL network - Manually colored\")\n",
    "py.iplot(rwmc, filename=\"RWWL network - Manually colored\")"
   ]
  },
  {
   "cell_type": "markdown",
   "metadata": {},
   "source": [
    "<div style=\"text-align:center\"><h1> CLUSTERING </h1></div>"
   ]
  },
  {
   "cell_type": "code",
   "execution_count": null,
   "metadata": {
    "collapsed": false
   },
   "outputs": [],
   "source": [
    "vertex_dendogram = rwwl_graph.community_fastgreedy()\n",
    "vertex_clustering = vertex_dendogram.as_clustering(8)\n",
    "\n",
    "type(vertex_clustering.membership)"
   ]
  },
  {
   "cell_type": "code",
   "execution_count": null,
   "metadata": {
    "collapsed": false
   },
   "outputs": [],
   "source": [
    "print vertex_clustering.sizes()\n",
    "print \"modularity: \", vertex_clustering.modularity"
   ]
  },
  {
   "cell_type": "code",
   "execution_count": null,
   "metadata": {
    "collapsed": false
   },
   "outputs": [],
   "source": [
    "print type(vertex_clustering.membership[0])"
   ]
  },
  {
   "cell_type": "code",
   "execution_count": null,
   "metadata": {
    "collapsed": false
   },
   "outputs": [],
   "source": [
    "for i in range(len(rwwl_graph.vs)):\n",
    "    rwwl_graph.vs[i][\"color\"] = get_color(vertex_clustering.membership[i])\n",
    "    # print rw_graph.vs[i][\"name\"], vertex_clustering.membership[i]"
   ]
  },
  {
   "cell_type": "code",
   "execution_count": null,
   "metadata": {
    "collapsed": false
   },
   "outputs": [],
   "source": [
    "rwwl_clust_fig = graph_plot(rwwl_graph, \"Random walk with lists - Modularity clustering\")\n",
    "py.iplot(rwwl_clust_fig, filename=\"Random walk with lists - Modularity clustering\")"
   ]
  },
  {
   "cell_type": "markdown",
   "metadata": {},
   "source": [
    "<div style=\"text-align:center\"><h1> SINGLE CLUSTER </h1></div>"
   ]
  },
  {
   "cell_type": "code",
   "execution_count": null,
   "metadata": {
    "collapsed": false,
    "scrolled": false
   },
   "outputs": [],
   "source": [
    "second_clust_subgraph = vertex_clustering.subgraph(1)\n",
    "second_clust_fig = graph_plot(second_clust_subgraph, \"Single cluster\")\n",
    "\n",
    "py.iplot(second_clust_fig, filename=\"Single cluster\")"
   ]
  },
  {
   "cell_type": "code",
   "execution_count": null,
   "metadata": {
    "collapsed": false,
    "scrolled": true
   },
   "outputs": [],
   "source": [
    "# for v in second_clust_subgraph.vs:\n",
    "    # print v[\"name\"]"
   ]
  }
 ],
 "metadata": {
  "kernelspec": {
   "display_name": "Python 2",
   "language": "python",
   "name": "python2"
  },
  "language_info": {
   "codemirror_mode": {
    "name": "ipython",
    "version": 2
   },
   "file_extension": ".py",
   "mimetype": "text/x-python",
   "name": "python",
   "nbconvert_exporter": "python",
   "pygments_lexer": "ipython2",
   "version": "2.7.11"
  }
 },
 "nbformat": 4,
 "nbformat_minor": 0
}
