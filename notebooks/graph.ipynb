{
 "cells": [
  {
   "cell_type": "markdown",
   "metadata": {},
   "source": [
    "# Graph Clustering"
   ]
  },
  {
   "cell_type": "code",
   "execution_count": 1,
   "metadata": {
    "collapsed": false,
    "slideshow": {
     "slide_type": "-"
    }
   },
   "outputs": [],
   "source": [
    "import os\n",
    "import igraph as ig\n",
    "import pandas as pd\n",
    "import sys\n",
    "sys.path.append(os.path.abspath(\"..\"))\n",
    "\n",
    "import plotly.plotly as py\n",
    "from sklearn import metrics\n",
    "from plotly.graph_objs import *\n",
    "from url2vec.util.plotter import *\n",
    "from url2vec.util.metrics import *\n",
    "from __future__ import print_function\n",
    "from url2vec.util.seqmanager import *"
   ]
  },
  {
   "cell_type": "code",
   "execution_count": 2,
   "metadata": {
    "collapsed": true
   },
   "outputs": [],
   "source": [
    "# cs.illinois.edu    cs.stanford.edu    eecs.mit.edu\n",
    "site = \"cs.stanford.edu\""
   ]
  },
  {
   "cell_type": "markdown",
   "metadata": {},
   "source": [
    "The crawling proccess has been done in two different ways:\n",
    "- **No costraint**: the crawler follows a random outlink from all of the outlinks in a given page\n",
    "- **List costraint**: the crawler follows a random outlink but only from the outlinks in \"lists\""
   ]
  },
  {
   "cell_type": "markdown",
   "metadata": {},
   "source": [
    "---"
   ]
  },
  {
   "cell_type": "markdown",
   "metadata": {},
   "source": [
    "## Graph - no-costraint "
   ]
  },
  {
   "cell_type": "markdown",
   "metadata": {},
   "source": [
    "Here we're loading all the files that the crawler has generated for creating the web graph.\n",
    "\n",
    "See the [Dataset README](https://github.com/chrisPiemonte/url2vec/tree/master/dataset \"Dataset\") for further information."
   ]
  },
  {
   "cell_type": "code",
   "execution_count": 3,
   "metadata": {
    "collapsed": false
   },
   "outputs": [
    {
     "name": "stdout",
     "output_type": "stream",
     "text": [
      "Number of vertices: 1571\n",
      "Number of edges: 99686\n",
      "\n",
      "\n",
      "\n"
     ]
    }
   ],
   "source": [
    "nocostraint_path = os.getcwd() + \"/../dataset/\" + site + \"/no_constraint/words1000_depth10/\"\n",
    "nocostraint_urlmap_path = nocostraint_path + \"urlsMap.txt\"\n",
    "nocostraint_edges_path  = nocostraint_path + \"edges.txt\"\n",
    "\n",
    "codeurlmap_nocostraint  = get_urlmap(nocostraint_urlmap_path)\n",
    "nocostraint_graph       = graph_from_file(nocostraint_edges_path, codeurlmap_nocostraint)\n",
    "\n",
    "print(\"Number of vertices:\", len(nocostraint_graph.vs))\n",
    "print(\"Number of edges:\",    len(nocostraint_graph.es))\n",
    "print(\"\\n\\n\")"
   ]
  },
  {
   "cell_type": "markdown",
   "metadata": {},
   "source": [
    "The test dataset has been manually clustered for evaluation purposes, here some attributes are assigned to the vertices, such as: \n",
    "- **color: based** on the cluster membership of the URL\n",
    "- **true_label**: the cluster membership"
   ]
  },
  {
   "cell_type": "code",
   "execution_count": 4,
   "metadata": {
    "collapsed": false
   },
   "outputs": [],
   "source": [
    "gt = GroundTruth(os.getcwd() + \"/../dataset/\" + site + \"/ground_truth/urlToMembership.txt\")\n",
    "nocostraint_graph.delete_vertices([vertex.index for vertex in nocostraint_graph.vs if vertex[\"name\"] == \"missing\"])\n",
    "\n",
    "for vertex in nocostraint_graph.vs:\n",
    "    vertex[\"color\"] = get_color(int(gt.get_groundtruth(vertex[\"name\"])))\n",
    "    vertex[\"true_label\"] = int(gt.get_groundtruth(vertex[\"name\"]))"
   ]
  },
  {
   "cell_type": "markdown",
   "metadata": {},
   "source": [
    "Plotting the no-costraint graph manually clustered:"
   ]
  },
  {
   "cell_type": "code",
   "execution_count": 5,
   "metadata": {
    "collapsed": false,
    "scrolled": true
   },
   "outputs": [],
   "source": [
    "#nocostraint_fig = graph3d_plot(nocostraint_graph, \"No-costraint Network - Manually clustered\")\n",
    "# py.iplot(nocostraint_fig, filename=\"No-costraint Network - Manually clustered\")"
   ]
  },
  {
   "cell_type": "markdown",
   "metadata": {},
   "source": [
    "<div>\n",
    "    <a href=\"https://plot.ly/~chrispolo/44/\" target=\"_blank\" title=\"No-costraint network\" style=\"display: block; text-align: center;\"><img src=\"https://plot.ly/~chrispolo/44.png\" alt=\"No-costraint network\" style=\"max-width: 100%;width: 1000px;\"  width=\"1000\" onerror=\"this.onerror=null;this.src='https://plot.ly/404.png';\" /></a>\n",
    "    <script data-plotly=\"chrispolo:44\"  src=\"https://plot.ly/embed.js\" async></script>\n",
    "</div>\n"
   ]
  },
  {
   "cell_type": "markdown",
   "metadata": {},
   "source": [
    "### Clustering - No-Costraint Graph"
   ]
  },
  {
   "cell_type": "markdown",
   "metadata": {},
   "source": [
    "Two clustering algorithm are reported:\n",
    "- **fastgreedy**: is a hierarchical approach, but it is bottom-up instead of top-down. It tries to optimize a quality function called modularity in a greedy manner. Initially, every vertex belongs to a separate community, and communities are merged iteratively such that each merge is locally optimal (i.e. yields the largest increase in the current value of modularity). The algorithm stops when it is not possible to increase the modularity any more, so it gives you a grouping as well as a dendrogram. The method is fast and it is the method that is usually tried as a first approximation because it has no parameters to tune. However, it is known to suffer from a resolution limit, i.e. communities below a given size threshold (depending on the number of nodes and edges if I remember correctly) will always be merged with neighboring communities.\n",
    "\n",
    "\n",
    "- **walktrap**: is an approach based on random walks. The general idea is that if you perform random walks on the graph, then the walks are more likely to stay within the same community because there are only a few edges that lead outside a given community. Walktrap runs short random walks of 3-4-5 steps (depending on one of its parameters) and uses the results of these random walks to merge separate communities in a bottom-up manner like fastgreedy.community. Again, you can use the modularity score to select where to cut the dendrogram. It is a bit slower than the fast greedy approach but also a bit more accurate"
   ]
  },
  {
   "cell_type": "code",
   "execution_count": 6,
   "metadata": {
    "collapsed": false,
    "scrolled": true
   },
   "outputs": [
    {
     "name": "stdout",
     "output_type": "stream",
     "text": [
      "Fastgreedy clusters sizes: [519, 496, 62, 19, 3, 6, 5, 29, 55, 3, 10, 2, 18, 86, 141, 4]\n",
      "Walktrap clusters sizes: [1221, 9, 26, 6, 14, 5, 2, 2, 14, 94, 4, 47, 2, 2, 5, 5]\n",
      "\n",
      "\n",
      "\n"
     ]
    }
   ],
   "source": [
    "# fastgreedy \n",
    "fastgreedy_dendogram = nocostraint_graph.community_fastgreedy()\n",
    "fastgreedy_clustering = fastgreedy_dendogram.as_clustering(16)\n",
    "\n",
    "print(\"Fastgreedy clusters sizes:\", fastgreedy_clustering.sizes())\n",
    "\n",
    "# walktrap \n",
    "walktrap_dendogram = nocostraint_graph.community_walktrap(steps=3)\n",
    "walktrap_clustering = walktrap_dendogram.as_clustering(16)\n",
    "\n",
    "print(\"Walktrap clusters sizes:\", walktrap_clustering.sizes())\n",
    "print(\"\\n\\n\")"
   ]
  },
  {
   "cell_type": "markdown",
   "metadata": {},
   "source": [
    "Assigning some attributes to graph vertices for evaluation and visualization purposes"
   ]
  },
  {
   "cell_type": "code",
   "execution_count": 7,
   "metadata": {
    "collapsed": true
   },
   "outputs": [],
   "source": [
    "for i in range(len(walktrap_clustering.membership)):\n",
    "    nocostraint_graph.vs[i][\"color\"] = get_color(walktrap_clustering.membership[i])\n",
    "    nocostraint_graph.vs[i][\"pred_walktrap_label\"] = walktrap_clustering.membership[i]\n",
    "    nocostraint_graph.vs[i][\"pred_fastgreedy_label\"] = fastgreedy_clustering.membership[i]"
   ]
  },
  {
   "cell_type": "markdown",
   "metadata": {},
   "source": [
    "Plotting the no-costraint graph, colored with the walktrap membership:"
   ]
  },
  {
   "cell_type": "code",
   "execution_count": 8,
   "metadata": {
    "collapsed": false,
    "scrolled": false
   },
   "outputs": [],
   "source": [
    "#nocostraint_fig = graph3d_plot(nocostraint_graph, \"No-costraint Network - WalkTrap clustered\")\n",
    "# py.iplot(nocostraint_fig, filename=\"No-costraint Network - WalkTrap clustered\")"
   ]
  },
  {
   "cell_type": "markdown",
   "metadata": {},
   "source": [
    "<div>\n",
    "    <a href=\"https://plot.ly/~chrispolo/46/\" target=\"_blank\" title=\"No-costraint Network - WalkTrap clusterized\" style=\"display: block; text-align: center;\"><img src=\"https://plot.ly/~chrispolo/46.png\" alt=\"No-costraint Network - WalkTrap clusterized\" style=\"max-width: 100%;width: 1000px;\"  width=\"1000\" onerror=\"this.onerror=null;this.src='https://plot.ly/404.png';\" /></a>\n",
    "    <script data-plotly=\"chrispolo:46\"  src=\"https://plot.ly/embed.js\" async></script>\n",
    "</div>\n"
   ]
  },
  {
   "cell_type": "markdown",
   "metadata": {},
   "source": [
    "---"
   ]
  },
  {
   "cell_type": "markdown",
   "metadata": {},
   "source": [
    "## Graph - list-costraint"
   ]
  },
  {
   "cell_type": "markdown",
   "metadata": {},
   "source": [
    "Here we're loading all the files that the crawler has generated for creating the web graph.\n",
    "See the [Dataset](https://github.com/chrisPiemonte/url2vec/tree/master/dataset \"Dataset\") README for further information."
   ]
  },
  {
   "cell_type": "code",
   "execution_count": 9,
   "metadata": {
    "collapsed": false
   },
   "outputs": [
    {
     "name": "stdout",
     "output_type": "stream",
     "text": [
      "Number of vertices: 295\n",
      "Number of edges: 1243\n",
      "\n",
      "\n",
      "\n"
     ]
    }
   ],
   "source": [
    "listcostraint_path        = os.getcwd() + \"/../dataset/\" + site + \"/list_constraint/words1000_depth10/\"\n",
    "listcostraint_urlmap_path = listcostraint_path + \"urlsMap.txt\"\n",
    "listcostraint_edges_path  = listcostraint_path + \"edges.txt\"\n",
    "\n",
    "urlmap_listcostraint      = get_urlmap(listcostraint_urlmap_path)\n",
    "listcostraint_graph       = graph_from_file(listcostraint_edges_path, urlmap_listcostraint)\n",
    "\n",
    "print(\"Number of vertices:\", len(listcostraint_graph.vs))\n",
    "print(\"Number of edges:\",    len(listcostraint_graph.es))\n",
    "print(\"\\n\\n\")"
   ]
  },
  {
   "cell_type": "markdown",
   "metadata": {},
   "source": [
    "The test dataset has been manually clustered for evaluation purposes, here some attributes are assigned to the vertices, such as: \n",
    "- **color: based** on the cluster membership of the URL\n",
    "- **true_label**: the cluster membership"
   ]
  },
  {
   "cell_type": "code",
   "execution_count": 10,
   "metadata": {
    "collapsed": false
   },
   "outputs": [],
   "source": [
    "gt = GroundTruth(os.getcwd() + \"/../dataset/\" + site + \"/ground_truth/urlToMembership.txt\")\n",
    "listcostraint_graph.delete_vertices([vertex.index for vertex in listcostraint_graph.vs if vertex[\"name\"] == \"missing\"])\n",
    "\n",
    "for vertex in listcostraint_graph.vs:\n",
    "    vertex[\"color\"] = get_color(int(gt.get_groundtruth(vertex[\"name\"])))\n",
    "    vertex[\"true_label\"] = int(gt.get_groundtruth(vertex[\"name\"]))"
   ]
  },
  {
   "cell_type": "markdown",
   "metadata": {},
   "source": [
    "Plotting the list-costraint graph manually clustered:"
   ]
  },
  {
   "cell_type": "code",
   "execution_count": 11,
   "metadata": {
    "collapsed": false,
    "scrolled": true
   },
   "outputs": [],
   "source": [
    "listcostraint_fig = graph3d_plot(listcostraint_graph, \"List-costraint Network - Manually clustered\")\n",
    "# py.iplot(listcostraint_fig, filename=\"List-costraint Network - Manually clustered\")"
   ]
  },
  {
   "cell_type": "markdown",
   "metadata": {},
   "source": [
    "<div>\n",
    "    <a href=\"https://plot.ly/~chrispolo/50/\" target=\"_blank\" title=\"List-costraint Network - Manually clusterized\" style=\"display: block; text-align: center;\"><img src=\"https://plot.ly/~chrispolo/50.png\" alt=\"List-costraint Network - Manually clusterized\" style=\"max-width: 100%;width: 1000px;\"  width=\"1000\" onerror=\"this.onerror=null;this.src='https://plot.ly/404.png';\" /></a>\n",
    "    <script data-plotly=\"chrispolo:50\"  src=\"https://plot.ly/embed.js\" async></script>\n",
    "</div>\n"
   ]
  },
  {
   "cell_type": "markdown",
   "metadata": {},
   "source": [
    "### Clustering - List-Costraint Graph"
   ]
  },
  {
   "cell_type": "markdown",
   "metadata": {},
   "source": [
    "Two clustering algorithm are reported:\n",
    "- **fastgreedy**: is a hierarchical approach, but it is bottom-up instead of top-down. It tries to optimize a quality function called modularity in a greedy manner. Initially, every vertex belongs to a separate community, and communities are merged iteratively such that each merge is locally optimal (i.e. yields the largest increase in the current value of modularity). The algorithm stops when it is not possible to increase the modularity any more, so it gives you a grouping as well as a dendrogram. The method is fast and it is the method that is usually tried as a first approximation because it has no parameters to tune. However, it is known to suffer from a resolution limit, i.e. communities below a given size threshold (depending on the number of nodes and edges if I remember correctly) will always be merged with neighboring communities.\n",
    "\n",
    "\n",
    "- **walktrap**: is an approach based on random walks. The general idea is that if you perform random walks on the graph, then the walks are more likely to stay within the same community because there are only a few edges that lead outside a given community. Walktrap runs short random walks of 3-4-5 steps (depending on one of its parameters) and uses the results of these random walks to merge separate communities in a bottom-up manner like fastgreedy.community. Again, you can use the modularity score to select where to cut the dendrogram. It is a bit slower than the fast greedy approach but also a bit more accurate"
   ]
  },
  {
   "cell_type": "code",
   "execution_count": 12,
   "metadata": {
    "collapsed": false
   },
   "outputs": [
    {
     "name": "stdout",
     "output_type": "stream",
     "text": [
      "Fastgreedy clusters sizes: [61, 17, 22, 5, 2, 4, 32, 1, 1, 1, 1, 1, 1, 1, 1, 1]\n",
      "Walktrap clusters sizes: [110, 1, 1, 1, 11, 1, 1, 1, 1, 1, 1, 9, 4, 1, 4, 4]\n",
      "\n",
      "\n",
      "\n"
     ]
    }
   ],
   "source": [
    "fastgreedy_lc_dendogram = listcostraint_graph.community_fastgreedy()\n",
    "fastgreedy_lc_clustering = fastgreedy_lc_dendogram.as_clustering(16)\n",
    "\n",
    "print(\"Fastgreedy clusters sizes:\", fastgreedy_lc_clustering.sizes())\n",
    "\n",
    "walktrap_lc_dendogram = listcostraint_graph.community_walktrap(steps=3)\n",
    "walktrap_lc_clustering = walktrap_lc_dendogram.as_clustering(16)\n",
    "\n",
    "print(\"Walktrap clusters sizes:\", walktrap_lc_clustering.sizes())\n",
    "print(\"\\n\\n\")"
   ]
  },
  {
   "cell_type": "markdown",
   "metadata": {},
   "source": [
    "Assigning some attributes to graph vertices for evaluation and visualization purposes"
   ]
  },
  {
   "cell_type": "code",
   "execution_count": 13,
   "metadata": {
    "collapsed": false
   },
   "outputs": [],
   "source": [
    "for i in range(len(walktrap_lc_clustering.membership)):\n",
    "    listcostraint_graph.vs[i][\"color\"] = get_color(walktrap_lc_clustering.membership[i])\n",
    "    listcostraint_graph.vs[i][\"pred_walktrap_label\"] = walktrap_lc_clustering.membership[i]\n",
    "    listcostraint_graph.vs[i][\"pred_fastgreedy_label\"] = fastgreedy_lc_clustering.membership[i]\n",
    "    \n",
    "for vertex in listcostraint_graph.vs:\n",
    "    if vertex[\"pred_fastgreedy_label\"] == None:\n",
    "        vertex[\"pred_fastgreedy_label\"] = -1"
   ]
  },
  {
   "cell_type": "markdown",
   "metadata": {},
   "source": [
    "Plotting the list-costraint graph, colored with the walktrap membership:"
   ]
  },
  {
   "cell_type": "code",
   "execution_count": 14,
   "metadata": {
    "collapsed": false,
    "scrolled": true
   },
   "outputs": [],
   "source": [
    "listcostraint_fig = graph3d_plot(listcostraint_graph, \"List-costraint Network - WalkTrap clustered\")\n",
    "# py.iplot(listcostraint_fig, filename=\"List-costraint Network - WalkTrap clustered\")"
   ]
  },
  {
   "cell_type": "markdown",
   "metadata": {},
   "source": [
    "<div>\n",
    "    <a href=\"https://plot.ly/~chrispolo/52/\" target=\"_blank\" title=\"List-costraint Network - WalkTrap clusterized\" style=\"display: block; text-align: center;\"><img src=\"https://plot.ly/~chrispolo/52.png\" alt=\"List-costraint Network - WalkTrap clusterized\" style=\"max-width: 100%;width: 1000px;\"  width=\"1000\" onerror=\"this.onerror=null;this.src='https://plot.ly/404.png';\" /></a>\n",
    "    <script data-plotly=\"chrispolo:52\"  src=\"https://plot.ly/embed.js\" async></script>\n",
    "</div>"
   ]
  },
  {
   "cell_type": "markdown",
   "metadata": {},
   "source": [
    "### Evaluation\n",
    "See the [scikit-learn documentaion](http://scikit-learn.org/stable/modules/clustering.html#clustering-performance-evaluation \"ti\") for futher information\n",
    "\n",
    "- **Confusion matrix**: Each column of the matrix represents the instances in a predicted cluster while each row represents the instances in an actual cluster"
   ]
  },
  {
   "cell_type": "markdown",
   "metadata": {},
   "source": [
    "#### Confusion table - Waltrap on No-costraint graph"
   ]
  },
  {
   "cell_type": "code",
   "execution_count": 15,
   "metadata": {
    "collapsed": false,
    "scrolled": false
   },
   "outputs": [
    {
     "data": {
      "text/html": [
       "<div>\n",
       "<table border=\"1\" class=\"dataframe\">\n",
       "  <thead>\n",
       "    <tr style=\"text-align: right;\">\n",
       "      <th></th>\n",
       "      <th>0</th>\n",
       "      <th>1</th>\n",
       "      <th>2</th>\n",
       "      <th>3</th>\n",
       "      <th>4</th>\n",
       "      <th>5</th>\n",
       "      <th>6</th>\n",
       "      <th>7</th>\n",
       "      <th>8</th>\n",
       "      <th>9</th>\n",
       "      <th>10</th>\n",
       "      <th>11</th>\n",
       "      <th>12</th>\n",
       "      <th>13</th>\n",
       "      <th>14</th>\n",
       "      <th>15</th>\n",
       "    </tr>\n",
       "  </thead>\n",
       "  <tbody>\n",
       "    <tr>\n",
       "      <th>0</th>\n",
       "      <td>644</td>\n",
       "      <td>0</td>\n",
       "      <td>0</td>\n",
       "      <td>0</td>\n",
       "      <td>0</td>\n",
       "      <td>0</td>\n",
       "      <td>0</td>\n",
       "      <td>0</td>\n",
       "      <td>0</td>\n",
       "      <td>0</td>\n",
       "      <td>0</td>\n",
       "      <td>0</td>\n",
       "      <td>0</td>\n",
       "      <td>0</td>\n",
       "      <td>0</td>\n",
       "      <td>0</td>\n",
       "    </tr>\n",
       "    <tr>\n",
       "      <th>1</th>\n",
       "      <td>79</td>\n",
       "      <td>0</td>\n",
       "      <td>0</td>\n",
       "      <td>0</td>\n",
       "      <td>0</td>\n",
       "      <td>0</td>\n",
       "      <td>0</td>\n",
       "      <td>0</td>\n",
       "      <td>0</td>\n",
       "      <td>0</td>\n",
       "      <td>0</td>\n",
       "      <td>0</td>\n",
       "      <td>0</td>\n",
       "      <td>0</td>\n",
       "      <td>0</td>\n",
       "      <td>0</td>\n",
       "    </tr>\n",
       "    <tr>\n",
       "      <th>2</th>\n",
       "      <td>28</td>\n",
       "      <td>0</td>\n",
       "      <td>0</td>\n",
       "      <td>0</td>\n",
       "      <td>0</td>\n",
       "      <td>0</td>\n",
       "      <td>0</td>\n",
       "      <td>0</td>\n",
       "      <td>0</td>\n",
       "      <td>0</td>\n",
       "      <td>0</td>\n",
       "      <td>0</td>\n",
       "      <td>0</td>\n",
       "      <td>0</td>\n",
       "      <td>0</td>\n",
       "      <td>0</td>\n",
       "    </tr>\n",
       "    <tr>\n",
       "      <th>3</th>\n",
       "      <td>26</td>\n",
       "      <td>0</td>\n",
       "      <td>0</td>\n",
       "      <td>0</td>\n",
       "      <td>0</td>\n",
       "      <td>0</td>\n",
       "      <td>0</td>\n",
       "      <td>0</td>\n",
       "      <td>0</td>\n",
       "      <td>0</td>\n",
       "      <td>0</td>\n",
       "      <td>0</td>\n",
       "      <td>0</td>\n",
       "      <td>0</td>\n",
       "      <td>0</td>\n",
       "      <td>0</td>\n",
       "    </tr>\n",
       "    <tr>\n",
       "      <th>4</th>\n",
       "      <td>18</td>\n",
       "      <td>0</td>\n",
       "      <td>0</td>\n",
       "      <td>0</td>\n",
       "      <td>0</td>\n",
       "      <td>0</td>\n",
       "      <td>0</td>\n",
       "      <td>0</td>\n",
       "      <td>0</td>\n",
       "      <td>0</td>\n",
       "      <td>0</td>\n",
       "      <td>0</td>\n",
       "      <td>0</td>\n",
       "      <td>0</td>\n",
       "      <td>0</td>\n",
       "      <td>0</td>\n",
       "    </tr>\n",
       "    <tr>\n",
       "      <th>5</th>\n",
       "      <td>28</td>\n",
       "      <td>0</td>\n",
       "      <td>0</td>\n",
       "      <td>0</td>\n",
       "      <td>0</td>\n",
       "      <td>0</td>\n",
       "      <td>0</td>\n",
       "      <td>0</td>\n",
       "      <td>0</td>\n",
       "      <td>0</td>\n",
       "      <td>0</td>\n",
       "      <td>0</td>\n",
       "      <td>0</td>\n",
       "      <td>0</td>\n",
       "      <td>0</td>\n",
       "      <td>0</td>\n",
       "    </tr>\n",
       "    <tr>\n",
       "      <th>6</th>\n",
       "      <td>54</td>\n",
       "      <td>0</td>\n",
       "      <td>0</td>\n",
       "      <td>0</td>\n",
       "      <td>0</td>\n",
       "      <td>0</td>\n",
       "      <td>0</td>\n",
       "      <td>0</td>\n",
       "      <td>0</td>\n",
       "      <td>0</td>\n",
       "      <td>0</td>\n",
       "      <td>0</td>\n",
       "      <td>0</td>\n",
       "      <td>0</td>\n",
       "      <td>0</td>\n",
       "      <td>0</td>\n",
       "    </tr>\n",
       "    <tr>\n",
       "      <th>7</th>\n",
       "      <td>12</td>\n",
       "      <td>0</td>\n",
       "      <td>0</td>\n",
       "      <td>0</td>\n",
       "      <td>0</td>\n",
       "      <td>0</td>\n",
       "      <td>0</td>\n",
       "      <td>0</td>\n",
       "      <td>0</td>\n",
       "      <td>0</td>\n",
       "      <td>0</td>\n",
       "      <td>0</td>\n",
       "      <td>0</td>\n",
       "      <td>0</td>\n",
       "      <td>0</td>\n",
       "      <td>0</td>\n",
       "    </tr>\n",
       "    <tr>\n",
       "      <th>8</th>\n",
       "      <td>32</td>\n",
       "      <td>0</td>\n",
       "      <td>0</td>\n",
       "      <td>0</td>\n",
       "      <td>0</td>\n",
       "      <td>0</td>\n",
       "      <td>0</td>\n",
       "      <td>0</td>\n",
       "      <td>0</td>\n",
       "      <td>0</td>\n",
       "      <td>0</td>\n",
       "      <td>0</td>\n",
       "      <td>0</td>\n",
       "      <td>0</td>\n",
       "      <td>0</td>\n",
       "      <td>0</td>\n",
       "    </tr>\n",
       "    <tr>\n",
       "      <th>9</th>\n",
       "      <td>18</td>\n",
       "      <td>0</td>\n",
       "      <td>0</td>\n",
       "      <td>0</td>\n",
       "      <td>0</td>\n",
       "      <td>0</td>\n",
       "      <td>0</td>\n",
       "      <td>0</td>\n",
       "      <td>0</td>\n",
       "      <td>0</td>\n",
       "      <td>0</td>\n",
       "      <td>0</td>\n",
       "      <td>0</td>\n",
       "      <td>0</td>\n",
       "      <td>0</td>\n",
       "      <td>0</td>\n",
       "    </tr>\n",
       "    <tr>\n",
       "      <th>10</th>\n",
       "      <td>26</td>\n",
       "      <td>0</td>\n",
       "      <td>0</td>\n",
       "      <td>0</td>\n",
       "      <td>0</td>\n",
       "      <td>0</td>\n",
       "      <td>0</td>\n",
       "      <td>0</td>\n",
       "      <td>0</td>\n",
       "      <td>0</td>\n",
       "      <td>0</td>\n",
       "      <td>0</td>\n",
       "      <td>0</td>\n",
       "      <td>0</td>\n",
       "      <td>0</td>\n",
       "      <td>0</td>\n",
       "    </tr>\n",
       "    <tr>\n",
       "      <th>11</th>\n",
       "      <td>45</td>\n",
       "      <td>0</td>\n",
       "      <td>0</td>\n",
       "      <td>0</td>\n",
       "      <td>0</td>\n",
       "      <td>0</td>\n",
       "      <td>0</td>\n",
       "      <td>0</td>\n",
       "      <td>0</td>\n",
       "      <td>0</td>\n",
       "      <td>0</td>\n",
       "      <td>0</td>\n",
       "      <td>0</td>\n",
       "      <td>0</td>\n",
       "      <td>0</td>\n",
       "      <td>4</td>\n",
       "    </tr>\n",
       "    <tr>\n",
       "      <th>12</th>\n",
       "      <td>131</td>\n",
       "      <td>8</td>\n",
       "      <td>24</td>\n",
       "      <td>6</td>\n",
       "      <td>14</td>\n",
       "      <td>5</td>\n",
       "      <td>2</td>\n",
       "      <td>2</td>\n",
       "      <td>2</td>\n",
       "      <td>94</td>\n",
       "      <td>1</td>\n",
       "      <td>47</td>\n",
       "      <td>0</td>\n",
       "      <td>0</td>\n",
       "      <td>5</td>\n",
       "      <td>1</td>\n",
       "    </tr>\n",
       "    <tr>\n",
       "      <th>13</th>\n",
       "      <td>46</td>\n",
       "      <td>0</td>\n",
       "      <td>0</td>\n",
       "      <td>0</td>\n",
       "      <td>0</td>\n",
       "      <td>0</td>\n",
       "      <td>0</td>\n",
       "      <td>0</td>\n",
       "      <td>0</td>\n",
       "      <td>0</td>\n",
       "      <td>0</td>\n",
       "      <td>0</td>\n",
       "      <td>0</td>\n",
       "      <td>0</td>\n",
       "      <td>0</td>\n",
       "      <td>0</td>\n",
       "    </tr>\n",
       "    <tr>\n",
       "      <th>-1</th>\n",
       "      <td>34</td>\n",
       "      <td>1</td>\n",
       "      <td>2</td>\n",
       "      <td>0</td>\n",
       "      <td>0</td>\n",
       "      <td>0</td>\n",
       "      <td>0</td>\n",
       "      <td>0</td>\n",
       "      <td>12</td>\n",
       "      <td>0</td>\n",
       "      <td>3</td>\n",
       "      <td>0</td>\n",
       "      <td>2</td>\n",
       "      <td>2</td>\n",
       "      <td>0</td>\n",
       "      <td>0</td>\n",
       "    </tr>\n",
       "  </tbody>\n",
       "</table>\n",
       "</div>"
      ],
      "text/plain": [
       "      0   1   2   3   4   5   6   7   8   9   10  11  12  13  14  15\n",
       " 0   644   0   0   0   0   0   0   0   0   0   0   0   0   0   0   0\n",
       " 1    79   0   0   0   0   0   0   0   0   0   0   0   0   0   0   0\n",
       " 2    28   0   0   0   0   0   0   0   0   0   0   0   0   0   0   0\n",
       " 3    26   0   0   0   0   0   0   0   0   0   0   0   0   0   0   0\n",
       " 4    18   0   0   0   0   0   0   0   0   0   0   0   0   0   0   0\n",
       " 5    28   0   0   0   0   0   0   0   0   0   0   0   0   0   0   0\n",
       " 6    54   0   0   0   0   0   0   0   0   0   0   0   0   0   0   0\n",
       " 7    12   0   0   0   0   0   0   0   0   0   0   0   0   0   0   0\n",
       " 8    32   0   0   0   0   0   0   0   0   0   0   0   0   0   0   0\n",
       " 9    18   0   0   0   0   0   0   0   0   0   0   0   0   0   0   0\n",
       " 10   26   0   0   0   0   0   0   0   0   0   0   0   0   0   0   0\n",
       " 11   45   0   0   0   0   0   0   0   0   0   0   0   0   0   0   4\n",
       " 12  131   8  24   6  14   5   2   2   2  94   1  47   0   0   5   1\n",
       " 13   46   0   0   0   0   0   0   0   0   0   0   0   0   0   0   0\n",
       "-1    34   1   2   0   0   0   0   0  12   0   3   0   2   2   0   0"
      ]
     },
     "execution_count": 15,
     "metadata": {},
     "output_type": "execute_result"
    }
   ],
   "source": [
    "nocostraint_conftable_df = pd.DataFrame(\n",
    "    get_confusion_table(nocostraint_graph.vs[\"true_label\"], nocostraint_graph.vs[\"pred_walktrap_label\"]),\n",
    "    index=set(nocostraint_graph.vs[\"true_label\"]),\n",
    "    columns=set(nocostraint_graph.vs[\"pred_walktrap_label\"])\n",
    ")\n",
    "\n",
    "nocostraint_conftable_df"
   ]
  },
  {
   "cell_type": "markdown",
   "metadata": {},
   "source": [
    "#### Confusion table - Waltrap on List-costraint graph"
   ]
  },
  {
   "cell_type": "code",
   "execution_count": 16,
   "metadata": {
    "collapsed": false,
    "scrolled": false
   },
   "outputs": [
    {
     "data": {
      "text/html": [
       "<div>\n",
       "<table border=\"1\" class=\"dataframe\">\n",
       "  <thead>\n",
       "    <tr style=\"text-align: right;\">\n",
       "      <th></th>\n",
       "      <th>0</th>\n",
       "      <th>1</th>\n",
       "      <th>2</th>\n",
       "      <th>3</th>\n",
       "      <th>4</th>\n",
       "      <th>5</th>\n",
       "      <th>6</th>\n",
       "      <th>7</th>\n",
       "      <th>8</th>\n",
       "      <th>9</th>\n",
       "      <th>10</th>\n",
       "      <th>11</th>\n",
       "      <th>12</th>\n",
       "      <th>13</th>\n",
       "      <th>14</th>\n",
       "      <th>15</th>\n",
       "    </tr>\n",
       "  </thead>\n",
       "  <tbody>\n",
       "    <tr>\n",
       "      <th>0</th>\n",
       "      <td>6</td>\n",
       "      <td>0</td>\n",
       "      <td>0</td>\n",
       "      <td>0</td>\n",
       "      <td>0</td>\n",
       "      <td>0</td>\n",
       "      <td>0</td>\n",
       "      <td>0</td>\n",
       "      <td>0</td>\n",
       "      <td>0</td>\n",
       "      <td>0</td>\n",
       "      <td>0</td>\n",
       "      <td>0</td>\n",
       "      <td>0</td>\n",
       "      <td>0</td>\n",
       "      <td>0</td>\n",
       "    </tr>\n",
       "    <tr>\n",
       "      <th>1</th>\n",
       "      <td>9</td>\n",
       "      <td>1</td>\n",
       "      <td>0</td>\n",
       "      <td>0</td>\n",
       "      <td>0</td>\n",
       "      <td>0</td>\n",
       "      <td>0</td>\n",
       "      <td>0</td>\n",
       "      <td>0</td>\n",
       "      <td>0</td>\n",
       "      <td>0</td>\n",
       "      <td>0</td>\n",
       "      <td>0</td>\n",
       "      <td>0</td>\n",
       "      <td>0</td>\n",
       "      <td>0</td>\n",
       "    </tr>\n",
       "    <tr>\n",
       "      <th>2</th>\n",
       "      <td>6</td>\n",
       "      <td>0</td>\n",
       "      <td>5</td>\n",
       "      <td>0</td>\n",
       "      <td>0</td>\n",
       "      <td>0</td>\n",
       "      <td>0</td>\n",
       "      <td>0</td>\n",
       "      <td>0</td>\n",
       "      <td>0</td>\n",
       "      <td>0</td>\n",
       "      <td>0</td>\n",
       "      <td>1</td>\n",
       "      <td>1</td>\n",
       "      <td>1</td>\n",
       "      <td>0</td>\n",
       "    </tr>\n",
       "    <tr>\n",
       "      <th>3</th>\n",
       "      <td>0</td>\n",
       "      <td>0</td>\n",
       "      <td>13</td>\n",
       "      <td>0</td>\n",
       "      <td>0</td>\n",
       "      <td>0</td>\n",
       "      <td>0</td>\n",
       "      <td>0</td>\n",
       "      <td>0</td>\n",
       "      <td>0</td>\n",
       "      <td>0</td>\n",
       "      <td>0</td>\n",
       "      <td>0</td>\n",
       "      <td>0</td>\n",
       "      <td>0</td>\n",
       "      <td>0</td>\n",
       "    </tr>\n",
       "    <tr>\n",
       "      <th>4</th>\n",
       "      <td>6</td>\n",
       "      <td>0</td>\n",
       "      <td>1</td>\n",
       "      <td>0</td>\n",
       "      <td>0</td>\n",
       "      <td>2</td>\n",
       "      <td>0</td>\n",
       "      <td>0</td>\n",
       "      <td>0</td>\n",
       "      <td>0</td>\n",
       "      <td>0</td>\n",
       "      <td>0</td>\n",
       "      <td>0</td>\n",
       "      <td>0</td>\n",
       "      <td>0</td>\n",
       "      <td>0</td>\n",
       "    </tr>\n",
       "    <tr>\n",
       "      <th>5</th>\n",
       "      <td>13</td>\n",
       "      <td>0</td>\n",
       "      <td>0</td>\n",
       "      <td>0</td>\n",
       "      <td>0</td>\n",
       "      <td>0</td>\n",
       "      <td>0</td>\n",
       "      <td>0</td>\n",
       "      <td>0</td>\n",
       "      <td>0</td>\n",
       "      <td>0</td>\n",
       "      <td>0</td>\n",
       "      <td>0</td>\n",
       "      <td>0</td>\n",
       "      <td>0</td>\n",
       "      <td>0</td>\n",
       "    </tr>\n",
       "    <tr>\n",
       "      <th>7</th>\n",
       "      <td>1</td>\n",
       "      <td>0</td>\n",
       "      <td>2</td>\n",
       "      <td>0</td>\n",
       "      <td>0</td>\n",
       "      <td>0</td>\n",
       "      <td>0</td>\n",
       "      <td>1</td>\n",
       "      <td>1</td>\n",
       "      <td>1</td>\n",
       "      <td>1</td>\n",
       "      <td>1</td>\n",
       "      <td>0</td>\n",
       "      <td>0</td>\n",
       "      <td>0</td>\n",
       "      <td>0</td>\n",
       "    </tr>\n",
       "    <tr>\n",
       "      <th>8</th>\n",
       "      <td>1</td>\n",
       "      <td>15</td>\n",
       "      <td>0</td>\n",
       "      <td>0</td>\n",
       "      <td>0</td>\n",
       "      <td>0</td>\n",
       "      <td>0</td>\n",
       "      <td>0</td>\n",
       "      <td>0</td>\n",
       "      <td>0</td>\n",
       "      <td>0</td>\n",
       "      <td>0</td>\n",
       "      <td>0</td>\n",
       "      <td>0</td>\n",
       "      <td>0</td>\n",
       "      <td>0</td>\n",
       "    </tr>\n",
       "    <tr>\n",
       "      <th>9</th>\n",
       "      <td>0</td>\n",
       "      <td>0</td>\n",
       "      <td>1</td>\n",
       "      <td>0</td>\n",
       "      <td>0</td>\n",
       "      <td>1</td>\n",
       "      <td>0</td>\n",
       "      <td>0</td>\n",
       "      <td>0</td>\n",
       "      <td>0</td>\n",
       "      <td>0</td>\n",
       "      <td>0</td>\n",
       "      <td>0</td>\n",
       "      <td>0</td>\n",
       "      <td>0</td>\n",
       "      <td>0</td>\n",
       "    </tr>\n",
       "    <tr>\n",
       "      <th>10</th>\n",
       "      <td>1</td>\n",
       "      <td>0</td>\n",
       "      <td>0</td>\n",
       "      <td>0</td>\n",
       "      <td>0</td>\n",
       "      <td>0</td>\n",
       "      <td>0</td>\n",
       "      <td>0</td>\n",
       "      <td>0</td>\n",
       "      <td>0</td>\n",
       "      <td>0</td>\n",
       "      <td>0</td>\n",
       "      <td>0</td>\n",
       "      <td>0</td>\n",
       "      <td>0</td>\n",
       "      <td>0</td>\n",
       "    </tr>\n",
       "    <tr>\n",
       "      <th>11</th>\n",
       "      <td>1</td>\n",
       "      <td>0</td>\n",
       "      <td>0</td>\n",
       "      <td>0</td>\n",
       "      <td>0</td>\n",
       "      <td>0</td>\n",
       "      <td>24</td>\n",
       "      <td>0</td>\n",
       "      <td>0</td>\n",
       "      <td>0</td>\n",
       "      <td>0</td>\n",
       "      <td>0</td>\n",
       "      <td>0</td>\n",
       "      <td>0</td>\n",
       "      <td>0</td>\n",
       "      <td>1</td>\n",
       "    </tr>\n",
       "    <tr>\n",
       "      <th>12</th>\n",
       "      <td>3</td>\n",
       "      <td>0</td>\n",
       "      <td>0</td>\n",
       "      <td>1</td>\n",
       "      <td>1</td>\n",
       "      <td>0</td>\n",
       "      <td>8</td>\n",
       "      <td>0</td>\n",
       "      <td>0</td>\n",
       "      <td>0</td>\n",
       "      <td>0</td>\n",
       "      <td>0</td>\n",
       "      <td>0</td>\n",
       "      <td>0</td>\n",
       "      <td>0</td>\n",
       "      <td>0</td>\n",
       "    </tr>\n",
       "    <tr>\n",
       "      <th>13</th>\n",
       "      <td>11</td>\n",
       "      <td>0</td>\n",
       "      <td>0</td>\n",
       "      <td>1</td>\n",
       "      <td>1</td>\n",
       "      <td>0</td>\n",
       "      <td>0</td>\n",
       "      <td>0</td>\n",
       "      <td>0</td>\n",
       "      <td>0</td>\n",
       "      <td>0</td>\n",
       "      <td>0</td>\n",
       "      <td>0</td>\n",
       "      <td>0</td>\n",
       "      <td>0</td>\n",
       "      <td>0</td>\n",
       "    </tr>\n",
       "    <tr>\n",
       "      <th>-1</th>\n",
       "      <td>3</td>\n",
       "      <td>1</td>\n",
       "      <td>0</td>\n",
       "      <td>3</td>\n",
       "      <td>0</td>\n",
       "      <td>1</td>\n",
       "      <td>0</td>\n",
       "      <td>0</td>\n",
       "      <td>0</td>\n",
       "      <td>0</td>\n",
       "      <td>0</td>\n",
       "      <td>0</td>\n",
       "      <td>0</td>\n",
       "      <td>0</td>\n",
       "      <td>0</td>\n",
       "      <td>0</td>\n",
       "    </tr>\n",
       "  </tbody>\n",
       "</table>\n",
       "</div>"
      ],
      "text/plain": [
       "     0   1   2   3   4   5   6   7   8   9   10  11  12  13  14  15\n",
       " 0    6   0   0   0   0   0   0   0   0   0   0   0   0   0   0   0\n",
       " 1    9   1   0   0   0   0   0   0   0   0   0   0   0   0   0   0\n",
       " 2    6   0   5   0   0   0   0   0   0   0   0   0   1   1   1   0\n",
       " 3    0   0  13   0   0   0   0   0   0   0   0   0   0   0   0   0\n",
       " 4    6   0   1   0   0   2   0   0   0   0   0   0   0   0   0   0\n",
       " 5   13   0   0   0   0   0   0   0   0   0   0   0   0   0   0   0\n",
       " 7    1   0   2   0   0   0   0   1   1   1   1   1   0   0   0   0\n",
       " 8    1  15   0   0   0   0   0   0   0   0   0   0   0   0   0   0\n",
       " 9    0   0   1   0   0   1   0   0   0   0   0   0   0   0   0   0\n",
       " 10   1   0   0   0   0   0   0   0   0   0   0   0   0   0   0   0\n",
       " 11   1   0   0   0   0   0  24   0   0   0   0   0   0   0   0   1\n",
       " 12   3   0   0   1   1   0   8   0   0   0   0   0   0   0   0   0\n",
       " 13  11   0   0   1   1   0   0   0   0   0   0   0   0   0   0   0\n",
       "-1    3   1   0   3   0   1   0   0   0   0   0   0   0   0   0   0"
      ]
     },
     "execution_count": 16,
     "metadata": {},
     "output_type": "execute_result"
    }
   ],
   "source": [
    "listcostraint_conftable_df = pd.DataFrame(get_confusion_table(listcostraint_graph.vs[\"true_label\"], listcostraint_graph.vs[\"pred_fastgreedy_label\"]), \n",
    "             index=set(listcostraint_graph.vs[\"true_label\"]),\n",
    "             columns=set(listcostraint_graph.vs[\"pred_fastgreedy_label\"]))\n",
    "\n",
    "listcostraint_conftable_df"
   ]
  },
  {
   "cell_type": "markdown",
   "metadata": {},
   "source": [
    "### Other metrics:\n",
    "\n",
    "- **Homogeneity**: each cluster contains only members of a single class\n",
    "\n",
    "\n",
    "\n",
    "- **completeness**: all members of a given class are assigned to the same cluster\n",
    "\n",
    "\n",
    "\n",
    "- **V-measure**: The V-measure is actually equivalent to the mutual information (NMI) discussed above normalized by the sum of the label entropies\n",
    "\n",
    "\n",
    "- **Adjusted Rand index**: Given the knowledge of the *ground truth* class assignments *true_label* and our clustering algorithm assignments of the same samples *pred_walktrap_label*, the adjusted Rand index is a function that measures the similarity of the two assignments, ignoring permutations and with chance normalization\n",
    "\n",
    "\n",
    "- **Mutual Information based scores**: Given the knowledge of the ground truth class assignments labels_true and our clustering algorithm assignments of the same samples labels_pred, the Mutual Information is a function that measures the agreement of the two assignments, ignoring permutations. Two different normalized versions of this measure are available, Normalized Mutual Information(NMI) and Adjusted Mutual Information(AMI). NMI is often used in the literature while AMI was proposed more recently and is normalized against chance"
   ]
  },
  {
   "cell_type": "code",
   "execution_count": 17,
   "metadata": {
    "collapsed": false
   },
   "outputs": [
    {
     "data": {
      "text/html": [
       "<div>\n",
       "<table border=\"1\" class=\"dataframe\">\n",
       "  <thead>\n",
       "    <tr style=\"text-align: right;\">\n",
       "      <th></th>\n",
       "      <th>Homogeneity</th>\n",
       "      <th>Completeness</th>\n",
       "      <th>V-Measure core</th>\n",
       "      <th>Adjusted Rand index</th>\n",
       "      <th>Mutual Information</th>\n",
       "    </tr>\n",
       "  </thead>\n",
       "  <tbody>\n",
       "    <tr>\n",
       "      <th>No-costraint WalkTrap</th>\n",
       "      <td>0.162782</td>\n",
       "      <td>0.396719</td>\n",
       "      <td>0.230844</td>\n",
       "      <td>0.112647</td>\n",
       "      <td>0.139982</td>\n",
       "    </tr>\n",
       "    <tr>\n",
       "      <th>No-costraint FastGreedy</th>\n",
       "      <td>0.356798</td>\n",
       "      <td>0.389453</td>\n",
       "      <td>0.372411</td>\n",
       "      <td>0.243845</td>\n",
       "      <td>0.335653</td>\n",
       "    </tr>\n",
       "    <tr>\n",
       "      <th>List-costraint WalkTrap</th>\n",
       "      <td>0.308611</td>\n",
       "      <td>0.631404</td>\n",
       "      <td>0.414586</td>\n",
       "      <td>0.050189</td>\n",
       "      <td>0.191137</td>\n",
       "    </tr>\n",
       "    <tr>\n",
       "      <th>List-costraint FastGreedy</th>\n",
       "      <td>0.485449</td>\n",
       "      <td>0.674039</td>\n",
       "      <td>0.564407</td>\n",
       "      <td>0.299928</td>\n",
       "      <td>0.389166</td>\n",
       "    </tr>\n",
       "  </tbody>\n",
       "</table>\n",
       "</div>"
      ],
      "text/plain": [
       "                           Homogeneity  Completeness  V-Measure core  \\\n",
       "No-costraint WalkTrap         0.162782      0.396719        0.230844   \n",
       "No-costraint FastGreedy       0.356798      0.389453        0.372411   \n",
       "List-costraint WalkTrap       0.308611      0.631404        0.414586   \n",
       "List-costraint FastGreedy     0.485449      0.674039        0.564407   \n",
       "\n",
       "                           Adjusted Rand index  Mutual Information  \n",
       "No-costraint WalkTrap                 0.112647            0.139982  \n",
       "No-costraint FastGreedy               0.243845            0.335653  \n",
       "List-costraint WalkTrap               0.050189            0.191137  \n",
       "List-costraint FastGreedy             0.299928            0.389166  "
      ]
     },
     "execution_count": 17,
     "metadata": {},
     "output_type": "execute_result"
    }
   ],
   "source": [
    "true_label_lc = listcostraint_graph.vs[\"true_label\"]\n",
    "true_label_nc = nocostraint_graph.vs[\"true_label\"]\n",
    "\n",
    "pred_walktrap_label_nc = nocostraint_graph.vs[\"pred_walktrap_label\"]\n",
    "pred_fastgreedy_label_nc = nocostraint_graph.vs[\"pred_fastgreedy_label\"]\n",
    "\n",
    "pred_walktrap_label_lc = listcostraint_graph.vs[\"pred_walktrap_label\"]\n",
    "pred_fastgreedy_label_lc = listcostraint_graph.vs[\"pred_fastgreedy_label\"]\n",
    "\n",
    "metrics_df = pd.DataFrame([\n",
    "        [\n",
    "            metrics.homogeneity_score(true_label_nc, pred_walktrap_label_nc),\n",
    "            metrics.completeness_score(true_label_nc, pred_walktrap_label_nc),\n",
    "            metrics.v_measure_score(true_label_nc, pred_walktrap_label_nc),\n",
    "            metrics.adjusted_rand_score(true_label_nc, pred_walktrap_label_nc),\n",
    "            metrics.adjusted_mutual_info_score(true_label_nc, pred_walktrap_label_nc)\n",
    "        ],\n",
    "        [\n",
    "            metrics.homogeneity_score(true_label_nc, pred_fastgreedy_label_nc),\n",
    "            metrics.completeness_score(true_label_nc, pred_fastgreedy_label_nc),\n",
    "            metrics.v_measure_score(true_label_nc, pred_fastgreedy_label_nc),\n",
    "            metrics.adjusted_rand_score(true_label_nc, pred_fastgreedy_label_nc),\n",
    "            metrics.adjusted_mutual_info_score(true_label_nc, pred_fastgreedy_label_nc)\n",
    "        ],\n",
    "        [\n",
    "            metrics.homogeneity_score(true_label_lc, pred_walktrap_label_lc),\n",
    "            metrics.completeness_score(true_label_lc, pred_walktrap_label_lc),\n",
    "            metrics.v_measure_score(true_label_lc, pred_walktrap_label_lc),\n",
    "            metrics.adjusted_rand_score(true_label_lc, pred_walktrap_label_lc),\n",
    "            metrics.adjusted_mutual_info_score(true_label_lc, pred_walktrap_label_lc)\n",
    "        ],\n",
    "        [\n",
    "            metrics.homogeneity_score(true_label_lc, pred_fastgreedy_label_lc),\n",
    "            metrics.completeness_score(true_label_lc, pred_fastgreedy_label_lc),\n",
    "            metrics.v_measure_score(true_label_lc, pred_fastgreedy_label_lc),\n",
    "            metrics.adjusted_rand_score(true_label_lc, pred_fastgreedy_label_lc),\n",
    "            metrics.adjusted_mutual_info_score(true_label_lc, pred_fastgreedy_label_lc)\n",
    "        ],\n",
    "    ],\n",
    "    index=[\"No-costraint WalkTrap\", \"No-costraint FastGreedy\", \"List-costraint WalkTrap\", \"List-costraint FastGreedy\"],\n",
    "    columns=[\"Homogeneity\", \"Completeness\", \"V-Measure core\", \"Adjusted Rand index\", \"Mutual Information\"])\n",
    "\n",
    "metrics_df"
   ]
  }
 ],
 "metadata": {
  "kernelspec": {
   "display_name": "Python 2",
   "language": "python",
   "name": "python2"
  },
  "language_info": {
   "codemirror_mode": {
    "name": "ipython",
    "version": 2
   },
   "file_extension": ".py",
   "mimetype": "text/x-python",
   "name": "python",
   "nbconvert_exporter": "python",
   "pygments_lexer": "ipython2",
   "version": "2.7.11"
  }
 },
 "nbformat": 4,
 "nbformat_minor": 0
}
