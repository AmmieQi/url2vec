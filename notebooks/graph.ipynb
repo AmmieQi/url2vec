{
 "cells": [
  {
   "cell_type": "code",
   "execution_count": 1,
   "metadata": {
    "collapsed": false,
    "slideshow": {
     "slide_type": "-"
    }
   },
   "outputs": [],
   "source": [
    "import os\n",
    "import igraph as ig\n",
    "\n",
    "import plotly.plotly as py\n",
    "from plotly.graph_objs import *\n",
    "\n",
    "import pandas as pd\n",
    "import sys\n",
    "sys.path.append(os.path.abspath(\"..\"))\n",
    "\n",
    "from urlembed.util.seqmanager import *\n",
    "from urlembed.util.plotter import *\n",
    "from urlembed.util.metrics import *\n",
    "\n",
    "from sklearn import metrics\n",
    "\n",
    "from __future__ import print_function"
   ]
  },
  {
   "cell_type": "markdown",
   "metadata": {},
   "source": [
    "The crawling proccess has been done in two different ways:\n",
    "- **No costraint**: the crawler follows a random outlink from all of the outlinks in a given page\n",
    "- **List costraint**: the crawler follows a random outlink but only from the outlinks in \"lists\""
   ]
  },
  {
   "cell_type": "markdown",
   "metadata": {},
   "source": [
    "<div style=\"text-align:center\"><h1> NO-COSTRAINT GRAPH </h1></div>"
   ]
  },
  {
   "cell_type": "markdown",
   "metadata": {},
   "source": [
    "Here we're loading all the files that the crawler has generated for creating the web graph"
   ]
  },
  {
   "cell_type": "code",
   "execution_count": 2,
   "metadata": {
    "collapsed": false
   },
   "outputs": [
    {
     "name": "stdout",
     "output_type": "stream",
     "text": [
      "Number of vertices: 807\n",
      "Number of edges: 16993\n"
     ]
    }
   ],
   "source": [
    "nocostraint_path        = os.getcwd() + \"/../dataset/cs.illinois.edu_NoConstraint.words1000.depth10/\"\n",
    "nocostraint_urlmap_path = nocostraint_path + \"urlsMap.txt\"\n",
    "nocostraint_edges_path  = nocostraint_path + \"edges.txt\"\n",
    "\n",
    "codeurlmap_nocostraint  = get_urlmap(nocostraint_urlmap_path)\n",
    "nocostraint_graph       = graph_from_file(nocostraint_edges_path, codeurlmap_nocostraint)\n",
    "\n",
    "print(\"Number of vertices:\", len(nocostraint_graph.vs))\n",
    "print(\"Number of edges:\",    len(nocostraint_graph.es))"
   ]
  },
  {
   "cell_type": "markdown",
   "metadata": {},
   "source": [
    "Some python magic"
   ]
  },
  {
   "cell_type": "code",
   "execution_count": 3,
   "metadata": {
    "collapsed": false
   },
   "outputs": [],
   "source": [
    "gt = GroundTruth(os.getcwd() + \"/../dataset/ground_truth/urlToMembership.txt\")\n",
    "nocostraint_graph.delete_vertices([vertex.index for vertex in nocostraint_graph.vs if vertex[\"name\"] == \"missing\"])\n",
    "\n",
    "for vertex in nocostraint_graph.vs:\n",
    "    vertex[\"color\"] = get_color(int(gt.get_groundtruth(vertex[\"name\"])))\n",
    "    vertex[\"true_label\"] = int(gt.get_groundtruth(vertex[\"name\"]))"
   ]
  },
  {
   "cell_type": "code",
   "execution_count": 4,
   "metadata": {
    "collapsed": false,
    "scrolled": true
   },
   "outputs": [
    {
     "name": "stderr",
     "output_type": "stream",
     "text": [
      "/home/chris/anaconda3/envs/python2/lib/python2.7/site-packages/plotly/plotly/plotly.py:236: UserWarning:\n",
      "\n",
      "Woah there! Look at all those points! Due to browser limitations, the Plotly SVG drawing functions have a hard time graphing more than 500k data points for line charts, or 40k points for other types of charts. Here are some suggestions:\n",
      "(1) Use the `plotly.graph_objs.Scattergl` trace object to generate a WebGl graph.\n",
      "(2) Trying using the image API to return an image instead of a graph URL\n",
      "(3) Use matplotlib\n",
      "(4) See if you can create your visualization with fewer data points\n",
      "\n",
      "If the visualization you're using aggregates points (e.g., box plot, histogram, etc.) you can disregard this warning.\n",
      "\n",
      "/home/chris/anaconda3/envs/python2/lib/python2.7/site-packages/plotly/plotly/plotly.py:1416: UserWarning:\n",
      "\n",
      "Estimated Draw Time Slow\n",
      "\n"
     ]
    },
    {
     "name": "stdout",
     "output_type": "stream",
     "text": [
      "The draw time for this plot will be slow for clients without much RAM.\n"
     ]
    },
    {
     "data": {
      "text/html": [
       "<iframe id=\"igraph\" scrolling=\"no\" style=\"border:none;\"seamless=\"seamless\" src=\"https://plot.ly/~chrispolo/48.embed\" height=\"1000px\" width=\"1000px\"></iframe>"
      ],
      "text/plain": [
       "<plotly.tools.PlotlyDisplay object>"
      ]
     },
     "execution_count": 4,
     "metadata": {},
     "output_type": "execute_result"
    }
   ],
   "source": [
    "nocostraint_fig = graph3d_plot(nocostraint_graph, \"No-costraint Network - Manually clustered\")\n",
    "py.iplot(nocostraint_fig, filename=\"No-costraint Network - Manually clustered\")"
   ]
  },
  {
   "cell_type": "markdown",
   "metadata": {},
   "source": [
    "<div>\n",
    "    <a href=\"https://plot.ly/~chrispolo/44/\" target=\"_blank\" title=\"No-costraint network\" style=\"display: block; text-align: center;\"><img src=\"https://plot.ly/~chrispolo/44.png\" alt=\"No-costraint network\" style=\"max-width: 100%;width: 1000px;\"  width=\"1000\" onerror=\"this.onerror=null;this.src='https://plot.ly/404.png';\" /></a>\n",
    "    <script data-plotly=\"chrispolo:44\"  src=\"https://plot.ly/embed.js\" async></script>\n",
    "</div>\n"
   ]
  },
  {
   "cell_type": "markdown",
   "metadata": {},
   "source": [
    "### Clustering on the No-Costraint Graph"
   ]
  },
  {
   "cell_type": "markdown",
   "metadata": {},
   "source": [
    "Two clustering algorithm are reported:\n",
    "- **fastgreedy**: is a hierarchical approach, but it is bottom-up instead of top-down. It tries to optimize a quality function called modularity in a greedy manner. Initially, every vertex belongs to a separate community, and communities are merged iteratively such that each merge is locally optimal (i.e. yields the largest increase in the current value of modularity). The algorithm stops when it is not possible to increase the modularity any more, so it gives you a grouping as well as a dendrogram. The method is fast and it is the method that is usually tried as a first approximation because it has no parameters to tune. However, it is known to suffer from a resolution limit, i.e. communities below a given size threshold (depending on the number of nodes and edges if I remember correctly) will always be merged with neighboring communities.\n",
    "\n",
    "\n",
    "- **walktrap**: is an approach based on random walks. The general idea is that if you perform random walks on the graph, then the walks are more likely to stay within the same community because there are only a few edges that lead outside a given community. Walktrap runs short random walks of 3-4-5 steps (depending on one of its parameters) and uses the results of these random walks to merge separate communities in a bottom-up manner like fastgreedy.community. Again, you can use the modularity score to select where to cut the dendrogram. It is a bit slower than the fast greedy approach but also a bit more accurate"
   ]
  },
  {
   "cell_type": "code",
   "execution_count": 41,
   "metadata": {
    "collapsed": false,
    "scrolled": true
   },
   "outputs": [
    {
     "name": "stdout",
     "output_type": "stream",
     "text": [
      "[449, 54, 50, 96, 68, 1, 1, 1, 1, 1, 1, 1, 1, 1, 1, 1]\n",
      "[82, 261, 141, 1, 71, 32, 13, 30, 3, 54, 32, 4, 1, 1, 1, 1]\n"
     ]
    }
   ],
   "source": [
    "fastgreedy_dendogram = nocostraint_graph.community_fastgreedy()\n",
    "fastgreedy_clustering = fastgreedy_dendogram.as_clustering(16)\n",
    "\n",
    "print(fastgreedy_clustering.sizes())\n",
    "\n",
    "walktrap_dendogram = nocostraint_graph.community_walktrap(steps=3)\n",
    "walktrap_clustering = walktrap_dendogram.as_clustering(16)\n",
    "\n",
    "print(walktrap_clustering.sizes())"
   ]
  },
  {
   "cell_type": "markdown",
   "metadata": {},
   "source": [
    "Assigning some attributes to graph vertices for clustering and visualizing purposes"
   ]
  },
  {
   "cell_type": "code",
   "execution_count": 7,
   "metadata": {
    "collapsed": true
   },
   "outputs": [],
   "source": [
    "for i in range(len(walktrap_clustering.membership)):\n",
    "    nocostraint_graph.vs[i][\"color\"] = get_color(walktrap_clustering.membership[i])\n",
    "    nocostraint_graph.vs[i][\"pred_walktrap_label\"] = walktrap_clustering.membership[i]\n",
    "    nocostraint_graph.vs[i][\"pred_fastgreedy_label\"] = fastgreedy_clustering.membership[i]"
   ]
  },
  {
   "cell_type": "code",
   "execution_count": 8,
   "metadata": {
    "collapsed": false,
    "scrolled": true
   },
   "outputs": [
    {
     "name": "stdout",
     "output_type": "stream",
     "text": [
      "The draw time for this plot will be slow for clients without much RAM.\n"
     ]
    },
    {
     "data": {
      "text/html": [
       "<iframe id=\"igraph\" scrolling=\"no\" style=\"border:none;\"seamless=\"seamless\" src=\"https://plot.ly/~chrispolo/46.embed\" height=\"1000px\" width=\"1000px\"></iframe>"
      ],
      "text/plain": [
       "<plotly.tools.PlotlyDisplay object>"
      ]
     },
     "execution_count": 8,
     "metadata": {},
     "output_type": "execute_result"
    }
   ],
   "source": [
    "nocostraint_fig = graph3d_plot(nocostraint_graph, \"No-costraint Network - WalkTrap clustered\")\n",
    "py.iplot(nocostraint_fig, filename=\"No-costraint Network - WalkTrap clustered\")"
   ]
  },
  {
   "cell_type": "markdown",
   "metadata": {},
   "source": [
    "<div>\n",
    "    <a href=\"https://plot.ly/~chrispolo/46/\" target=\"_blank\" title=\"No-costraint Network - WalkTrap clusterized\" style=\"display: block; text-align: center;\"><img src=\"https://plot.ly/~chrispolo/46.png\" alt=\"No-costraint Network - WalkTrap clusterized\" style=\"max-width: 100%;width: 1000px;\"  width=\"1000\" onerror=\"this.onerror=null;this.src='https://plot.ly/404.png';\" /></a>\n",
    "    <script data-plotly=\"chrispolo:46\"  src=\"https://plot.ly/embed.js\" async></script>\n",
    "</div>\n"
   ]
  },
  {
   "cell_type": "markdown",
   "metadata": {},
   "source": [
    "### Evaluation\n",
    "\n",
    "\n",
    "- **Confusion matrix**: Each column of the matrix represents the instances in a predicted cluster while each row represents the instances in an actual cluster"
   ]
  },
  {
   "cell_type": "code",
   "execution_count": 9,
   "metadata": {
    "collapsed": false,
    "scrolled": false
   },
   "outputs": [
    {
     "data": {
      "text/html": [
       "<div>\n",
       "<table border=\"1\" class=\"dataframe\">\n",
       "  <thead>\n",
       "    <tr style=\"text-align: right;\">\n",
       "      <th></th>\n",
       "      <th>0</th>\n",
       "      <th>1</th>\n",
       "      <th>2</th>\n",
       "      <th>3</th>\n",
       "      <th>4</th>\n",
       "      <th>5</th>\n",
       "      <th>6</th>\n",
       "      <th>7</th>\n",
       "      <th>8</th>\n",
       "      <th>9</th>\n",
       "      <th>10</th>\n",
       "      <th>11</th>\n",
       "      <th>12</th>\n",
       "      <th>13</th>\n",
       "      <th>14</th>\n",
       "      <th>15</th>\n",
       "    </tr>\n",
       "  </thead>\n",
       "  <tbody>\n",
       "    <tr>\n",
       "      <th>0</th>\n",
       "      <td>0</td>\n",
       "      <td>0</td>\n",
       "      <td>0</td>\n",
       "      <td>0</td>\n",
       "      <td>0</td>\n",
       "      <td>0</td>\n",
       "      <td>0</td>\n",
       "      <td>0</td>\n",
       "      <td>0</td>\n",
       "      <td>0</td>\n",
       "      <td>18</td>\n",
       "      <td>0</td>\n",
       "      <td>0</td>\n",
       "      <td>0</td>\n",
       "      <td>0</td>\n",
       "      <td>0</td>\n",
       "    </tr>\n",
       "    <tr>\n",
       "      <th>1</th>\n",
       "      <td>0</td>\n",
       "      <td>0</td>\n",
       "      <td>0</td>\n",
       "      <td>0</td>\n",
       "      <td>0</td>\n",
       "      <td>0</td>\n",
       "      <td>0</td>\n",
       "      <td>0</td>\n",
       "      <td>0</td>\n",
       "      <td>0</td>\n",
       "      <td>12</td>\n",
       "      <td>0</td>\n",
       "      <td>0</td>\n",
       "      <td>0</td>\n",
       "      <td>0</td>\n",
       "      <td>0</td>\n",
       "    </tr>\n",
       "    <tr>\n",
       "      <th>2</th>\n",
       "      <td>47</td>\n",
       "      <td>0</td>\n",
       "      <td>0</td>\n",
       "      <td>0</td>\n",
       "      <td>0</td>\n",
       "      <td>0</td>\n",
       "      <td>0</td>\n",
       "      <td>0</td>\n",
       "      <td>0</td>\n",
       "      <td>0</td>\n",
       "      <td>0</td>\n",
       "      <td>0</td>\n",
       "      <td>0</td>\n",
       "      <td>0</td>\n",
       "      <td>0</td>\n",
       "      <td>0</td>\n",
       "    </tr>\n",
       "    <tr>\n",
       "      <th>3</th>\n",
       "      <td>0</td>\n",
       "      <td>0</td>\n",
       "      <td>0</td>\n",
       "      <td>0</td>\n",
       "      <td>0</td>\n",
       "      <td>29</td>\n",
       "      <td>0</td>\n",
       "      <td>0</td>\n",
       "      <td>0</td>\n",
       "      <td>0</td>\n",
       "      <td>0</td>\n",
       "      <td>0</td>\n",
       "      <td>0</td>\n",
       "      <td>0</td>\n",
       "      <td>0</td>\n",
       "      <td>0</td>\n",
       "    </tr>\n",
       "    <tr>\n",
       "      <th>4</th>\n",
       "      <td>1</td>\n",
       "      <td>0</td>\n",
       "      <td>2</td>\n",
       "      <td>0</td>\n",
       "      <td>0</td>\n",
       "      <td>0</td>\n",
       "      <td>0</td>\n",
       "      <td>0</td>\n",
       "      <td>0</td>\n",
       "      <td>7</td>\n",
       "      <td>0</td>\n",
       "      <td>4</td>\n",
       "      <td>0</td>\n",
       "      <td>0</td>\n",
       "      <td>0</td>\n",
       "      <td>0</td>\n",
       "    </tr>\n",
       "    <tr>\n",
       "      <th>6</th>\n",
       "      <td>0</td>\n",
       "      <td>0</td>\n",
       "      <td>6</td>\n",
       "      <td>0</td>\n",
       "      <td>0</td>\n",
       "      <td>0</td>\n",
       "      <td>0</td>\n",
       "      <td>0</td>\n",
       "      <td>0</td>\n",
       "      <td>0</td>\n",
       "      <td>0</td>\n",
       "      <td>0</td>\n",
       "      <td>0</td>\n",
       "      <td>0</td>\n",
       "      <td>0</td>\n",
       "      <td>0</td>\n",
       "    </tr>\n",
       "    <tr>\n",
       "      <th>8</th>\n",
       "      <td>0</td>\n",
       "      <td>47</td>\n",
       "      <td>13</td>\n",
       "      <td>0</td>\n",
       "      <td>0</td>\n",
       "      <td>0</td>\n",
       "      <td>0</td>\n",
       "      <td>15</td>\n",
       "      <td>0</td>\n",
       "      <td>0</td>\n",
       "      <td>0</td>\n",
       "      <td>0</td>\n",
       "      <td>0</td>\n",
       "      <td>0</td>\n",
       "      <td>0</td>\n",
       "      <td>0</td>\n",
       "    </tr>\n",
       "    <tr>\n",
       "      <th>10</th>\n",
       "      <td>14</td>\n",
       "      <td>197</td>\n",
       "      <td>108</td>\n",
       "      <td>1</td>\n",
       "      <td>0</td>\n",
       "      <td>0</td>\n",
       "      <td>0</td>\n",
       "      <td>4</td>\n",
       "      <td>0</td>\n",
       "      <td>0</td>\n",
       "      <td>1</td>\n",
       "      <td>0</td>\n",
       "      <td>0</td>\n",
       "      <td>0</td>\n",
       "      <td>0</td>\n",
       "      <td>0</td>\n",
       "    </tr>\n",
       "    <tr>\n",
       "      <th>11</th>\n",
       "      <td>0</td>\n",
       "      <td>3</td>\n",
       "      <td>0</td>\n",
       "      <td>0</td>\n",
       "      <td>0</td>\n",
       "      <td>0</td>\n",
       "      <td>0</td>\n",
       "      <td>0</td>\n",
       "      <td>0</td>\n",
       "      <td>0</td>\n",
       "      <td>0</td>\n",
       "      <td>0</td>\n",
       "      <td>1</td>\n",
       "      <td>1</td>\n",
       "      <td>1</td>\n",
       "      <td>1</td>\n",
       "    </tr>\n",
       "    <tr>\n",
       "      <th>12</th>\n",
       "      <td>0</td>\n",
       "      <td>14</td>\n",
       "      <td>5</td>\n",
       "      <td>0</td>\n",
       "      <td>0</td>\n",
       "      <td>0</td>\n",
       "      <td>0</td>\n",
       "      <td>0</td>\n",
       "      <td>0</td>\n",
       "      <td>0</td>\n",
       "      <td>0</td>\n",
       "      <td>0</td>\n",
       "      <td>0</td>\n",
       "      <td>0</td>\n",
       "      <td>0</td>\n",
       "      <td>0</td>\n",
       "    </tr>\n",
       "    <tr>\n",
       "      <th>13</th>\n",
       "      <td>0</td>\n",
       "      <td>0</td>\n",
       "      <td>0</td>\n",
       "      <td>0</td>\n",
       "      <td>67</td>\n",
       "      <td>0</td>\n",
       "      <td>0</td>\n",
       "      <td>0</td>\n",
       "      <td>0</td>\n",
       "      <td>0</td>\n",
       "      <td>0</td>\n",
       "      <td>0</td>\n",
       "      <td>0</td>\n",
       "      <td>0</td>\n",
       "      <td>0</td>\n",
       "      <td>0</td>\n",
       "    </tr>\n",
       "    <tr>\n",
       "      <th>14</th>\n",
       "      <td>0</td>\n",
       "      <td>0</td>\n",
       "      <td>0</td>\n",
       "      <td>0</td>\n",
       "      <td>0</td>\n",
       "      <td>0</td>\n",
       "      <td>0</td>\n",
       "      <td>0</td>\n",
       "      <td>0</td>\n",
       "      <td>47</td>\n",
       "      <td>0</td>\n",
       "      <td>0</td>\n",
       "      <td>0</td>\n",
       "      <td>0</td>\n",
       "      <td>0</td>\n",
       "      <td>0</td>\n",
       "    </tr>\n",
       "    <tr>\n",
       "      <th>15</th>\n",
       "      <td>0</td>\n",
       "      <td>0</td>\n",
       "      <td>0</td>\n",
       "      <td>0</td>\n",
       "      <td>0</td>\n",
       "      <td>0</td>\n",
       "      <td>0</td>\n",
       "      <td>11</td>\n",
       "      <td>0</td>\n",
       "      <td>0</td>\n",
       "      <td>0</td>\n",
       "      <td>0</td>\n",
       "      <td>0</td>\n",
       "      <td>0</td>\n",
       "      <td>0</td>\n",
       "      <td>0</td>\n",
       "    </tr>\n",
       "    <tr>\n",
       "      <th>-1</th>\n",
       "      <td>20</td>\n",
       "      <td>0</td>\n",
       "      <td>7</td>\n",
       "      <td>0</td>\n",
       "      <td>4</td>\n",
       "      <td>3</td>\n",
       "      <td>13</td>\n",
       "      <td>0</td>\n",
       "      <td>3</td>\n",
       "      <td>0</td>\n",
       "      <td>1</td>\n",
       "      <td>0</td>\n",
       "      <td>0</td>\n",
       "      <td>0</td>\n",
       "      <td>0</td>\n",
       "      <td>0</td>\n",
       "    </tr>\n",
       "  </tbody>\n",
       "</table>\n",
       "</div>"
      ],
      "text/plain": [
       "     0    1    2   3   4   5   6   7   8   9   10  11  12  13  14  15\n",
       " 0    0    0    0   0   0   0   0   0   0   0  18   0   0   0   0   0\n",
       " 1    0    0    0   0   0   0   0   0   0   0  12   0   0   0   0   0\n",
       " 2   47    0    0   0   0   0   0   0   0   0   0   0   0   0   0   0\n",
       " 3    0    0    0   0   0  29   0   0   0   0   0   0   0   0   0   0\n",
       " 4    1    0    2   0   0   0   0   0   0   7   0   4   0   0   0   0\n",
       " 6    0    0    6   0   0   0   0   0   0   0   0   0   0   0   0   0\n",
       " 8    0   47   13   0   0   0   0  15   0   0   0   0   0   0   0   0\n",
       " 10  14  197  108   1   0   0   0   4   0   0   1   0   0   0   0   0\n",
       " 11   0    3    0   0   0   0   0   0   0   0   0   0   1   1   1   1\n",
       " 12   0   14    5   0   0   0   0   0   0   0   0   0   0   0   0   0\n",
       " 13   0    0    0   0  67   0   0   0   0   0   0   0   0   0   0   0\n",
       " 14   0    0    0   0   0   0   0   0   0  47   0   0   0   0   0   0\n",
       " 15   0    0    0   0   0   0   0  11   0   0   0   0   0   0   0   0\n",
       "-1   20    0    7   0   4   3  13   0   3   0   1   0   0   0   0   0"
      ]
     },
     "execution_count": 9,
     "metadata": {},
     "output_type": "execute_result"
    }
   ],
   "source": [
    "nocostraint_conftable_df = pd.DataFrame(get_confusion_table(nocostraint_graph.vs[\"true_label\"], nocostraint_graph.vs[\"pred_walktrap_label\"]), \n",
    "             index=set(nocostraint_graph.vs[\"true_label\"]),\n",
    "             columns=set(nocostraint_graph.vs[\"pred_walktrap_label\"]))\n",
    "\n",
    "nocostraint_conftable_df"
   ]
  },
  {
   "cell_type": "markdown",
   "metadata": {},
   "source": [
    "### Other metrics:\n",
    "- **Adjusted Rand index**: Given the knowledge of the *ground truth* class assignments *true_label* and our clustering algorithm assignments of the same samples *pred_walktrap_label*, the adjusted Rand index is a function that measures the similarity of the two assignments, ignoring permutations and with chance normalization\n",
    "\n",
    "\n",
    "- **Mutual Information based scores**: Given the knowledge of the ground truth class assignments labels_true and our clustering algorithm assignments of the same samples labels_pred, the Mutual Information is a function that measures the agreement of the two assignments, ignoring permutations. Two different normalized versions of this measure are available, Normalized Mutual Information(NMI) and Adjusted Mutual Information(AMI). NMI is often used in the literature while AMI was proposed more recently and is normalized against chance\n",
    "\n",
    "\n",
    "- **Homogeneity**: each cluster contains only members of a single class\n",
    "\n",
    "\n",
    "- **completeness**: all members of a given class are assigned to the same cluster\n",
    "\n",
    "\n",
    "- **V-measure**: The V-measure is actually equivalent to the mutual information (NMI) discussed above normalized by the sum of the label entropies"
   ]
  },
  {
   "cell_type": "code",
   "execution_count": 40,
   "metadata": {
    "collapsed": false
   },
   "outputs": [
    {
     "name": "stdout",
     "output_type": "stream",
     "text": [
      "WalkTrap modularity: 0.00369857293816\n",
      "FastGreedy modularity: 0.212391372801\n"
     ]
    },
    {
     "data": {
      "text/html": [
       "<div>\n",
       "<table border=\"1\" class=\"dataframe\">\n",
       "  <thead>\n",
       "    <tr style=\"text-align: right;\">\n",
       "      <th></th>\n",
       "      <th>Homogeneity</th>\n",
       "      <th>Completeness</th>\n",
       "      <th>V-Measure core</th>\n",
       "      <th>Adjusted Rand index</th>\n",
       "      <th>Mutual Information</th>\n",
       "    </tr>\n",
       "  </thead>\n",
       "  <tbody>\n",
       "    <tr>\n",
       "      <th>WalkTrap</th>\n",
       "      <td>0.647093</td>\n",
       "      <td>0.658495</td>\n",
       "      <td>0.652744</td>\n",
       "      <td>0.436288</td>\n",
       "      <td>0.628108</td>\n",
       "    </tr>\n",
       "    <tr>\n",
       "      <th>FastGreedy</th>\n",
       "      <td>0.551864</td>\n",
       "      <td>0.856322</td>\n",
       "      <td>0.671180</td>\n",
       "      <td>0.576429</td>\n",
       "      <td>0.535485</td>\n",
       "    </tr>\n",
       "  </tbody>\n",
       "</table>\n",
       "</div>"
      ],
      "text/plain": [
       "            Homogeneity  Completeness  V-Measure core  Adjusted Rand index  \\\n",
       "WalkTrap       0.647093      0.658495        0.652744             0.436288   \n",
       "FastGreedy     0.551864      0.856322        0.671180             0.576429   \n",
       "\n",
       "            Mutual Information  \n",
       "WalkTrap              0.628108  \n",
       "FastGreedy            0.535485  "
      ]
     },
     "execution_count": 40,
     "metadata": {},
     "output_type": "execute_result"
    }
   ],
   "source": [
    "true_label_nc = nocostraint_graph.vs[\"true_label\"]\n",
    "pred_walktrap_label_nc = nocostraint_graph.vs[\"pred_walktrap_label\"]\n",
    "pred_fastgreedy_label_nc = nocostraint_graph.vs[\"pred_fastgreedy_label\"]\n",
    "\n",
    "nocostraint_metrics_df = pd.DataFrame([\n",
    "        [\n",
    "            metrics.homogeneity_score(true_label_nc, pred_walktrap_label_nc),\n",
    "            metrics.completeness_score(true_label_nc, pred_walktrap_label_nc),\n",
    "            metrics.v_measure_score(true_label_nc, pred_walktrap_label_nc),\n",
    "            metrics.adjusted_rand_score(true_label_nc, pred_walktrap_label_nc),\n",
    "            metrics.adjusted_mutual_info_score(true_label_nc, pred_walktrap_label_nc)\n",
    "        ],\n",
    "        [\n",
    "            metrics.homogeneity_score(true_label_nc, pred_fastgreedy_label_nc),\n",
    "            metrics.completeness_score(true_label_nc, pred_fastgreedy_label_nc),\n",
    "            metrics.v_measure_score(true_label_nc, pred_fastgreedy_label_nc),\n",
    "            metrics.adjusted_rand_score(true_label_nc, pred_fastgreedy_label_nc),\n",
    "            metrics.adjusted_mutual_info_score(true_label_nc, pred_fastgreedy_label_nc)\n",
    "        ]],\n",
    "        index=[\"WalkTrap\", \"FastGreedy\"],\n",
    "        columns=[\"Homogeneity\", \"Completeness\", \"V-Measure core\", \"Adjusted Rand index\", \"Mutual Information\"])\n",
    "\n",
    "print(\"WalkTrap modularity:\", walktrap_clustering.modularity)\n",
    "print(\"FastGreedy modularity:\", fastgreedy_clustering.modularity)\n",
    "nocostraint_metrics_df"
   ]
  },
  {
   "cell_type": "markdown",
   "metadata": {},
   "source": [
    "<div style=\"text-align:center\"><h1> LIST-COSTRAINT GRAPH </h1></div>"
   ]
  },
  {
   "cell_type": "code",
   "execution_count": 11,
   "metadata": {
    "collapsed": false
   },
   "outputs": [
    {
     "name": "stdout",
     "output_type": "stream",
     "text": [
      "Number of vertices: 1090\n",
      "Number of edges: 19742\n"
     ]
    }
   ],
   "source": [
    "listcostraint_path        = os.getcwd() + \"/../dataset/cs.illinois.edu_ListConstraint.words1000.depth10/\"\n",
    "listcostraint_urlmap_path = listcostraint_path + \"urlsMap.txt\"\n",
    "listcostraint_edges_path  = listcostraint_path + \"edges.txt\"\n",
    "\n",
    "urlmap_listcostraint      = get_urlmap(listcostraint_urlmap_path)\n",
    "listcostraint_graph       = graph_from_file(listcostraint_edges_path, urlmap_listcostraint)\n",
    "\n",
    "print(\"Number of vertices:\", len(listcostraint_graph.vs))\n",
    "print(\"Number of edges:\",    len(listcostraint_graph.es))"
   ]
  },
  {
   "cell_type": "code",
   "execution_count": 12,
   "metadata": {
    "collapsed": true
   },
   "outputs": [],
   "source": [
    "gt = GroundTruth(os.getcwd() + \"/../dataset/ground_truth/urlToMembership.txt\")\n",
    "listcostraint_graph.delete_vertices([vertex.index for vertex in listcostraint_graph.vs if vertex[\"name\"] == \"missing\"])\n",
    "\n",
    "for vertex in listcostraint_graph.vs:\n",
    "    vertex[\"color\"] = get_color(int(gt.get_groundtruth(vertex[\"name\"])))\n",
    "    vertex[\"true_label\"] = int(gt.get_groundtruth(vertex[\"name\"]))"
   ]
  },
  {
   "cell_type": "code",
   "execution_count": 13,
   "metadata": {
    "collapsed": false,
    "scrolled": true
   },
   "outputs": [
    {
     "name": "stdout",
     "output_type": "stream",
     "text": [
      "The draw time for this plot will be slow for clients without much RAM.\n"
     ]
    },
    {
     "data": {
      "text/html": [
       "<iframe id=\"igraph\" scrolling=\"no\" style=\"border:none;\"seamless=\"seamless\" src=\"https://plot.ly/~chrispolo/50.embed\" height=\"1000px\" width=\"1000px\"></iframe>"
      ],
      "text/plain": [
       "<plotly.tools.PlotlyDisplay object>"
      ]
     },
     "execution_count": 13,
     "metadata": {},
     "output_type": "execute_result"
    }
   ],
   "source": [
    "listcostraint_fig = graph3d_plot(listcostraint_graph, \"List-costraint Network - Manually clustered\")\n",
    "py.iplot(listcostraint_fig, filename=\"List-costraint Network - Manually clustered\")"
   ]
  },
  {
   "cell_type": "markdown",
   "metadata": {},
   "source": [
    "<div>\n",
    "    <a href=\"https://plot.ly/~chrispolo/50/\" target=\"_blank\" title=\"List-costraint Network - Manually clusterized\" style=\"display: block; text-align: center;\"><img src=\"https://plot.ly/~chrispolo/50.png\" alt=\"List-costraint Network - Manually clusterized\" style=\"max-width: 100%;width: 1000px;\"  width=\"1000\" onerror=\"this.onerror=null;this.src='https://plot.ly/404.png';\" /></a>\n",
    "    <script data-plotly=\"chrispolo:50\"  src=\"https://plot.ly/embed.js\" async></script>\n",
    "</div>\n"
   ]
  },
  {
   "cell_type": "code",
   "execution_count": 14,
   "metadata": {
    "collapsed": false
   },
   "outputs": [
    {
     "name": "stdout",
     "output_type": "stream",
     "text": [
      "[343, 471, 48, 42, 47, 59, 1, 1, 1, 1, 1, 1, 1, 1, 1, 3]\n",
      "[367, 156, 47, 59, 32, 199, 40, 4, 15, 4, 4, 1, 1, 1, 1, 91]\n"
     ]
    }
   ],
   "source": [
    "fastgreedy_lc_dendogram = listcostraint_graph.community_fastgreedy()\n",
    "fastgreedy_lc_clustering = fastgreedy_lc_dendogram.as_clustering(16)\n",
    "\n",
    "print(fastgreedy_lc_clustering.sizes())\n",
    "\n",
    "walktrap_lc_dendogram = listcostraint_graph.community_walktrap(steps=3)\n",
    "walktrap_lc_clustering = walktrap_lc_dendogram.as_clustering(16)\n",
    "\n",
    "print(walktrap_lc_clustering.sizes())"
   ]
  },
  {
   "cell_type": "code",
   "execution_count": 31,
   "metadata": {
    "collapsed": false
   },
   "outputs": [],
   "source": [
    "for i in range(len(walktrap_clustering.membership)):\n",
    "    listcostraint_graph.vs[i][\"color\"] = get_color(walktrap_lc_clustering.membership[i])\n",
    "    listcostraint_graph.vs[i][\"pred_walktrap_label\"] = walktrap_lc_clustering.membership[i]\n",
    "    listcostraint_graph.vs[i][\"pred_fastgreedy_label\"] = fastgreedy_lc_clustering.membership[i]\n",
    "    \n",
    "for vertex in listcostraint_graph.vs:\n",
    "    if vertex[\"pred_fastgreedy_label\"] == None:\n",
    "        vertex[\"pred_fastgreedy_label\"] = -1"
   ]
  },
  {
   "cell_type": "code",
   "execution_count": 16,
   "metadata": {
    "collapsed": false,
    "scrolled": true
   },
   "outputs": [
    {
     "name": "stdout",
     "output_type": "stream",
     "text": [
      "The draw time for this plot will be slow for clients without much RAM.\n"
     ]
    },
    {
     "data": {
      "text/html": [
       "<iframe id=\"igraph\" scrolling=\"no\" style=\"border:none;\"seamless=\"seamless\" src=\"https://plot.ly/~chrispolo/52.embed\" height=\"1000px\" width=\"1000px\"></iframe>"
      ],
      "text/plain": [
       "<plotly.tools.PlotlyDisplay object>"
      ]
     },
     "execution_count": 16,
     "metadata": {},
     "output_type": "execute_result"
    }
   ],
   "source": [
    "listcostraint_fig = graph3d_plot(listcostraint_graph, \"List-costraint Network - WalkTrap clustered\")\n",
    "py.iplot(listcostraint_fig, filename=\"List-costraint Network - WalkTrap clustered\")"
   ]
  },
  {
   "cell_type": "markdown",
   "metadata": {},
   "source": []
  },
  {
   "cell_type": "code",
   "execution_count": 32,
   "metadata": {
    "collapsed": false,
    "scrolled": false
   },
   "outputs": [
    {
     "name": "stdout",
     "output_type": "stream",
     "text": [
      "set([0, 1, 2, 3, 4, 5, 6, 7, 8, 9, 10, 11, 12, 13, 14, 15, -1])\n"
     ]
    },
    {
     "data": {
      "text/html": [
       "<div>\n",
       "<table border=\"1\" class=\"dataframe\">\n",
       "  <thead>\n",
       "    <tr style=\"text-align: right;\">\n",
       "      <th></th>\n",
       "      <th>0</th>\n",
       "      <th>1</th>\n",
       "      <th>2</th>\n",
       "      <th>3</th>\n",
       "      <th>4</th>\n",
       "      <th>5</th>\n",
       "      <th>6</th>\n",
       "      <th>7</th>\n",
       "      <th>8</th>\n",
       "      <th>9</th>\n",
       "      <th>10</th>\n",
       "      <th>11</th>\n",
       "      <th>12</th>\n",
       "      <th>13</th>\n",
       "      <th>14</th>\n",
       "      <th>15</th>\n",
       "      <th>-1</th>\n",
       "    </tr>\n",
       "  </thead>\n",
       "  <tbody>\n",
       "    <tr>\n",
       "      <th>0</th>\n",
       "      <td>0</td>\n",
       "      <td>0</td>\n",
       "      <td>18</td>\n",
       "      <td>0</td>\n",
       "      <td>0</td>\n",
       "      <td>0</td>\n",
       "      <td>0</td>\n",
       "      <td>0</td>\n",
       "      <td>0</td>\n",
       "      <td>0</td>\n",
       "      <td>0</td>\n",
       "      <td>0</td>\n",
       "      <td>0</td>\n",
       "      <td>0</td>\n",
       "      <td>0</td>\n",
       "      <td>0</td>\n",
       "      <td>0</td>\n",
       "    </tr>\n",
       "    <tr>\n",
       "      <th>1</th>\n",
       "      <td>0</td>\n",
       "      <td>0</td>\n",
       "      <td>9</td>\n",
       "      <td>0</td>\n",
       "      <td>0</td>\n",
       "      <td>0</td>\n",
       "      <td>0</td>\n",
       "      <td>0</td>\n",
       "      <td>0</td>\n",
       "      <td>0</td>\n",
       "      <td>0</td>\n",
       "      <td>0</td>\n",
       "      <td>0</td>\n",
       "      <td>0</td>\n",
       "      <td>0</td>\n",
       "      <td>0</td>\n",
       "      <td>0</td>\n",
       "    </tr>\n",
       "    <tr>\n",
       "      <th>2</th>\n",
       "      <td>0</td>\n",
       "      <td>146</td>\n",
       "      <td>0</td>\n",
       "      <td>0</td>\n",
       "      <td>0</td>\n",
       "      <td>0</td>\n",
       "      <td>1</td>\n",
       "      <td>1</td>\n",
       "      <td>1</td>\n",
       "      <td>1</td>\n",
       "      <td>1</td>\n",
       "      <td>1</td>\n",
       "      <td>1</td>\n",
       "      <td>1</td>\n",
       "      <td>1</td>\n",
       "      <td>0</td>\n",
       "      <td>14</td>\n",
       "    </tr>\n",
       "    <tr>\n",
       "      <th>3</th>\n",
       "      <td>0</td>\n",
       "      <td>0</td>\n",
       "      <td>0</td>\n",
       "      <td>29</td>\n",
       "      <td>0</td>\n",
       "      <td>0</td>\n",
       "      <td>0</td>\n",
       "      <td>0</td>\n",
       "      <td>0</td>\n",
       "      <td>0</td>\n",
       "      <td>0</td>\n",
       "      <td>0</td>\n",
       "      <td>0</td>\n",
       "      <td>0</td>\n",
       "      <td>0</td>\n",
       "      <td>0</td>\n",
       "      <td>0</td>\n",
       "    </tr>\n",
       "    <tr>\n",
       "      <th>4</th>\n",
       "      <td>0</td>\n",
       "      <td>1</td>\n",
       "      <td>0</td>\n",
       "      <td>9</td>\n",
       "      <td>0</td>\n",
       "      <td>0</td>\n",
       "      <td>0</td>\n",
       "      <td>0</td>\n",
       "      <td>0</td>\n",
       "      <td>0</td>\n",
       "      <td>0</td>\n",
       "      <td>0</td>\n",
       "      <td>0</td>\n",
       "      <td>0</td>\n",
       "      <td>0</td>\n",
       "      <td>0</td>\n",
       "      <td>0</td>\n",
       "    </tr>\n",
       "    <tr>\n",
       "      <th>6</th>\n",
       "      <td>0</td>\n",
       "      <td>6</td>\n",
       "      <td>0</td>\n",
       "      <td>0</td>\n",
       "      <td>0</td>\n",
       "      <td>0</td>\n",
       "      <td>0</td>\n",
       "      <td>0</td>\n",
       "      <td>0</td>\n",
       "      <td>0</td>\n",
       "      <td>0</td>\n",
       "      <td>0</td>\n",
       "      <td>0</td>\n",
       "      <td>0</td>\n",
       "      <td>0</td>\n",
       "      <td>0</td>\n",
       "      <td>0</td>\n",
       "    </tr>\n",
       "    <tr>\n",
       "      <th>8</th>\n",
       "      <td>14</td>\n",
       "      <td>139</td>\n",
       "      <td>0</td>\n",
       "      <td>0</td>\n",
       "      <td>0</td>\n",
       "      <td>0</td>\n",
       "      <td>0</td>\n",
       "      <td>0</td>\n",
       "      <td>0</td>\n",
       "      <td>0</td>\n",
       "      <td>0</td>\n",
       "      <td>0</td>\n",
       "      <td>0</td>\n",
       "      <td>0</td>\n",
       "      <td>0</td>\n",
       "      <td>1</td>\n",
       "      <td>137</td>\n",
       "    </tr>\n",
       "    <tr>\n",
       "      <th>10</th>\n",
       "      <td>181</td>\n",
       "      <td>3</td>\n",
       "      <td>0</td>\n",
       "      <td>0</td>\n",
       "      <td>0</td>\n",
       "      <td>0</td>\n",
       "      <td>0</td>\n",
       "      <td>0</td>\n",
       "      <td>0</td>\n",
       "      <td>0</td>\n",
       "      <td>0</td>\n",
       "      <td>0</td>\n",
       "      <td>0</td>\n",
       "      <td>0</td>\n",
       "      <td>0</td>\n",
       "      <td>1</td>\n",
       "      <td>131</td>\n",
       "    </tr>\n",
       "    <tr>\n",
       "      <th>12</th>\n",
       "      <td>1</td>\n",
       "      <td>1</td>\n",
       "      <td>0</td>\n",
       "      <td>0</td>\n",
       "      <td>0</td>\n",
       "      <td>0</td>\n",
       "      <td>0</td>\n",
       "      <td>0</td>\n",
       "      <td>0</td>\n",
       "      <td>0</td>\n",
       "      <td>0</td>\n",
       "      <td>0</td>\n",
       "      <td>0</td>\n",
       "      <td>0</td>\n",
       "      <td>0</td>\n",
       "      <td>0</td>\n",
       "      <td>8</td>\n",
       "    </tr>\n",
       "    <tr>\n",
       "      <th>13</th>\n",
       "      <td>0</td>\n",
       "      <td>0</td>\n",
       "      <td>0</td>\n",
       "      <td>0</td>\n",
       "      <td>0</td>\n",
       "      <td>57</td>\n",
       "      <td>0</td>\n",
       "      <td>0</td>\n",
       "      <td>0</td>\n",
       "      <td>0</td>\n",
       "      <td>0</td>\n",
       "      <td>0</td>\n",
       "      <td>0</td>\n",
       "      <td>0</td>\n",
       "      <td>0</td>\n",
       "      <td>0</td>\n",
       "      <td>0</td>\n",
       "    </tr>\n",
       "    <tr>\n",
       "      <th>14</th>\n",
       "      <td>0</td>\n",
       "      <td>0</td>\n",
       "      <td>0</td>\n",
       "      <td>0</td>\n",
       "      <td>46</td>\n",
       "      <td>0</td>\n",
       "      <td>0</td>\n",
       "      <td>0</td>\n",
       "      <td>0</td>\n",
       "      <td>0</td>\n",
       "      <td>0</td>\n",
       "      <td>0</td>\n",
       "      <td>0</td>\n",
       "      <td>0</td>\n",
       "      <td>0</td>\n",
       "      <td>0</td>\n",
       "      <td>0</td>\n",
       "    </tr>\n",
       "    <tr>\n",
       "      <th>15</th>\n",
       "      <td>0</td>\n",
       "      <td>10</td>\n",
       "      <td>0</td>\n",
       "      <td>0</td>\n",
       "      <td>0</td>\n",
       "      <td>0</td>\n",
       "      <td>0</td>\n",
       "      <td>0</td>\n",
       "      <td>0</td>\n",
       "      <td>0</td>\n",
       "      <td>0</td>\n",
       "      <td>0</td>\n",
       "      <td>0</td>\n",
       "      <td>0</td>\n",
       "      <td>0</td>\n",
       "      <td>0</td>\n",
       "      <td>1</td>\n",
       "    </tr>\n",
       "    <tr>\n",
       "      <th>-1</th>\n",
       "      <td>10</td>\n",
       "      <td>12</td>\n",
       "      <td>18</td>\n",
       "      <td>4</td>\n",
       "      <td>1</td>\n",
       "      <td>2</td>\n",
       "      <td>0</td>\n",
       "      <td>0</td>\n",
       "      <td>0</td>\n",
       "      <td>0</td>\n",
       "      <td>0</td>\n",
       "      <td>0</td>\n",
       "      <td>0</td>\n",
       "      <td>0</td>\n",
       "      <td>0</td>\n",
       "      <td>0</td>\n",
       "      <td>3</td>\n",
       "    </tr>\n",
       "  </tbody>\n",
       "</table>\n",
       "</div>"
      ],
      "text/plain": [
       "      0    1    2    3    4    5    6    7    8    9    10   11   12   13  \\\n",
       " 0     0    0   18    0    0    0    0    0    0    0    0    0    0    0   \n",
       " 1     0    0    9    0    0    0    0    0    0    0    0    0    0    0   \n",
       " 2     0  146    0    0    0    0    1    1    1    1    1    1    1    1   \n",
       " 3     0    0    0   29    0    0    0    0    0    0    0    0    0    0   \n",
       " 4     0    1    0    9    0    0    0    0    0    0    0    0    0    0   \n",
       " 6     0    6    0    0    0    0    0    0    0    0    0    0    0    0   \n",
       " 8    14  139    0    0    0    0    0    0    0    0    0    0    0    0   \n",
       " 10  181    3    0    0    0    0    0    0    0    0    0    0    0    0   \n",
       " 12    1    1    0    0    0    0    0    0    0    0    0    0    0    0   \n",
       " 13    0    0    0    0    0   57    0    0    0    0    0    0    0    0   \n",
       " 14    0    0    0    0   46    0    0    0    0    0    0    0    0    0   \n",
       " 15    0   10    0    0    0    0    0    0    0    0    0    0    0    0   \n",
       "-1    10   12   18    4    1    2    0    0    0    0    0    0    0    0   \n",
       "\n",
       "      14   15  -1   \n",
       " 0     0    0    0  \n",
       " 1     0    0    0  \n",
       " 2     1    0   14  \n",
       " 3     0    0    0  \n",
       " 4     0    0    0  \n",
       " 6     0    0    0  \n",
       " 8     0    1  137  \n",
       " 10    0    1  131  \n",
       " 12    0    0    8  \n",
       " 13    0    0    0  \n",
       " 14    0    0    0  \n",
       " 15    0    0    1  \n",
       "-1     0    0    3  "
      ]
     },
     "execution_count": 32,
     "metadata": {},
     "output_type": "execute_result"
    }
   ],
   "source": [
    "listcostraint_conftable_df = pd.DataFrame(get_confusion_table(listcostraint_graph.vs[\"true_label\"], listcostraint_graph.vs[\"pred_fastgreedy_label\"]), \n",
    "             index=set(listcostraint_graph.vs[\"true_label\"]),\n",
    "             columns=set(listcostraint_graph.vs[\"pred_fastgreedy_label\"]))\n",
    "\n",
    "print(set(listcostraint_graph.vs[\"pred_fastgreedy_label\"]))\n",
    "listcostraint_conftable_df"
   ]
  },
  {
   "cell_type": "code",
   "execution_count": 38,
   "metadata": {
    "collapsed": false
   },
   "outputs": [
    {
     "name": "stdout",
     "output_type": "stream",
     "text": [
      "WalkTrap modularity: 0.0697452319297\n",
      "FastGreedy modularity: 0.239621877718\n"
     ]
    },
    {
     "data": {
      "text/html": [
       "<div>\n",
       "<table border=\"1\" class=\"dataframe\">\n",
       "  <thead>\n",
       "    <tr style=\"text-align: right;\">\n",
       "      <th></th>\n",
       "      <th>Homogeneity</th>\n",
       "      <th>Completeness</th>\n",
       "      <th>V-Measure core</th>\n",
       "      <th>Adjusted Rand index</th>\n",
       "      <th>Mutual Information</th>\n",
       "    </tr>\n",
       "  </thead>\n",
       "  <tbody>\n",
       "    <tr>\n",
       "      <th>WalkTrap</th>\n",
       "      <td>0.509364</td>\n",
       "      <td>0.48927</td>\n",
       "      <td>0.499115</td>\n",
       "      <td>0.276233</td>\n",
       "      <td>0.472249</td>\n",
       "    </tr>\n",
       "    <tr>\n",
       "      <th>FastGreedy</th>\n",
       "      <td>0.552260</td>\n",
       "      <td>0.60351</td>\n",
       "      <td>0.576749</td>\n",
       "      <td>0.365613</td>\n",
       "      <td>0.538205</td>\n",
       "    </tr>\n",
       "  </tbody>\n",
       "</table>\n",
       "</div>"
      ],
      "text/plain": [
       "            Homogeneity  Completeness  V-Measure core  Adjusted Rand index  \\\n",
       "WalkTrap       0.509364       0.48927        0.499115             0.276233   \n",
       "FastGreedy     0.552260       0.60351        0.576749             0.365613   \n",
       "\n",
       "            Mutual Information  \n",
       "WalkTrap              0.472249  \n",
       "FastGreedy            0.538205  "
      ]
     },
     "execution_count": 38,
     "metadata": {},
     "output_type": "execute_result"
    }
   ],
   "source": [
    "true_label_lc = listcostraint_graph.vs[\"true_label\"]\n",
    "pred_walktrap_label_lc = listcostraint_graph.vs[\"pred_walktrap_label\"]\n",
    "pred_fastgreedy_label_lc = listcostraint_graph.vs[\"pred_fastgreedy_label\"]\n",
    "\n",
    "listcostraint_metrics_df = pd.DataFrame([\n",
    "        [\n",
    "            metrics.homogeneity_score(true_label_lc, pred_walktrap_label_lc),\n",
    "            metrics.completeness_score(true_label_lc, pred_walktrap_label_lc),\n",
    "            metrics.v_measure_score(true_label_lc, pred_walktrap_label_lc),\n",
    "            metrics.adjusted_rand_score(true_label_lc, pred_walktrap_label_lc),\n",
    "            metrics.adjusted_mutual_info_score(true_label_lc, pred_walktrap_label_lc)\n",
    "        ],\n",
    "        [\n",
    "            metrics.homogeneity_score(true_label_lc, pred_fastgreedy_label_lc),\n",
    "            metrics.completeness_score(true_label_lc, pred_fastgreedy_label_lc),\n",
    "            metrics.v_measure_score(true_label_lc, pred_fastgreedy_label_lc),\n",
    "            metrics.adjusted_rand_score(true_label_lc, pred_fastgreedy_label_lc),\n",
    "            metrics.adjusted_mutual_info_score(true_label_lc, pred_fastgreedy_label_lc)\n",
    "        ]],\n",
    "        index=[\"WalkTrap\", \"FastGreedy\"],\n",
    "        columns=[\"Homogeneity\", \"Completeness\", \"V-Measure core\", \"Adjusted Rand index\", \"Mutual Information\"])\n",
    "\n",
    "print(\"WalkTrap modularity:\", walktrap_lc_clustering.modularity)\n",
    "print(\"FastGreedy modularity:\", fastgreedy_lc_clustering.modularity)\n",
    "listcostraint_metrics_df"
   ]
  },
  {
   "cell_type": "markdown",
   "metadata": {},
   "source": [
    "<div style=\"text-align:center\"><h1> CLUSTERING </h1></div>"
   ]
  },
  {
   "cell_type": "markdown",
   "metadata": {},
   "source": [
    "<div>\n",
    "    <a href=\"https://plot.ly/~chrispolo/38\" \n",
    "        target=\"_blank\" title=\"y\" \n",
    "        style=\"display: block; text-align: center;\">\n",
    "            <img src=\"../dataset/img/cn.png\" \n",
    "                alt=\"y\" style=\"max-width: 100%;width: 1121px;\"  \n",
    "                width=\"100%\" onerror=\"this.onerror=null;this.src='https://plot.ly/404';\" />\n",
    "    </a>\n",
    "    <script data-plotly=\"chrispolo:38\"  src=\"https://plot.ly/embed.js\" async></script>\n",
    "</div>"
   ]
  }
 ],
 "metadata": {
  "kernelspec": {
   "display_name": "Python 2",
   "language": "python",
   "name": "python2"
  }
 },
 "nbformat": 4,
 "nbformat_minor": 0
}
