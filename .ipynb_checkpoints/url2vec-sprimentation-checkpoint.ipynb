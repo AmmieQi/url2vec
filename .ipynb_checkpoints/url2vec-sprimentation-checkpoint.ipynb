{
 "cells": [
  {
   "cell_type": "code",
   "execution_count": 66,
   "metadata": {
    "collapsed": true,
    "slideshow": {
     "slide_type": "-"
    }
   },
   "outputs": [],
   "source": [
    "import igraph as ig\n",
    "import plotly.plotly as py\n",
    "from plotly.graph_objs import *"
   ]
  },
  {
   "cell_type": "markdown",
   "metadata": {},
   "source": [
    "<div style=\"text-align:center\"><h1> GRAPH-FUNCTIONS </h1></div>"
   ]
  },
  {
   "cell_type": "code",
   "execution_count": 3,
   "metadata": {
    "collapsed": false
   },
   "outputs": [],
   "source": [
    "def get_sequence_map(filename):\n",
    "    url_dict = {}\n",
    "    for line in open(filename, \"r\"):\n",
    "        tup = line.split(\" , \")\n",
    "        url_dict[tup[1].rstrip()] = tup[0]\n",
    "    return url_dict\n",
    "\n",
    "\n",
    "def get_sequences(filename, min_len=1):\n",
    "    for line in open(filename, \"r\"):\n",
    "        sequence = line.split(\" -1 \")\n",
    "        sequence.pop(len(sequence)-1)\n",
    "        if len(sequence) >= min_len:\n",
    "            yield sequence\n",
    "\n",
    "# useless         \n",
    "def get_labels(sequenceMap):\n",
    "    labels = [None] * len(sequenceMap)\n",
    "    for key in sequenceMap:\n",
    "        i = int(key.replace(\"u_\", \"\"))\n",
    "        labels[i] = sequenceMap[key]\n",
    "    return labels\n",
    "\n",
    "\n",
    "def create_graph(sequences, seqMap):\n",
    "    graph = ig.Graph(directed=True)\n",
    "    graph.add_vertices(len(seqMap))  # adding nodes\n",
    "    \n",
    "    for key in seqMap:\n",
    "        i = int(key.replace(\"u_\", \"\"))\n",
    "        graph.vs[i][\"name\"] = seqMap[key]  # adding labels\n",
    "        \n",
    "    for seq in sequences:\n",
    "        for i in range(len(seq)-1):\n",
    "            source = int(seq[i].replace(\"u_\", \"\"))\n",
    "            target = int(seq[i+1].replace(\"u_\", \"\"))\n",
    "            if graph.get_eid(source, target, directed=True, error=False) == -1:\n",
    "                graph.add_edge(source, target)  # adding unique edges\n",
    "    return graph"
   ]
  },
  {
   "cell_type": "markdown",
   "metadata": {},
   "source": [
    "<div style=\"text-align:center\"><h1> PLOT-FUNCTIONS </h1></div>"
   ]
  },
  {
   "cell_type": "code",
   "execution_count": 69,
   "metadata": {
    "collapsed": false
   },
   "outputs": [],
   "source": [
    "def gplot(graph, graph_name):\n",
    "    py.sign_in('chrispol', 'yvg1d17o5q')\n",
    "    layt = graph.layout('kk', dim=3)\n",
    "    \n",
    "    Xn = [layt[k][0] for k in range(len(graph.vs))] # x-coordinates of nodes\n",
    "    Yn = [layt[k][1] for k in range(len(graph.vs))] # y-coordinates of nodes\n",
    "    Zn = [layt[k][2] for k in range(len(graph.vs))] # z-coordinates of nodes\n",
    "    \n",
    "    Xe = []\n",
    "    Ye = []\n",
    "    Ze = []\n",
    "    \n",
    "    for e in graph.es:\n",
    "        Xe += [layt[e.source][0], layt[e.target] [0], None] # x-coordinates of edge ends\n",
    "        Ye += [layt[e.source][1], layt[e.target] [1], None] # y-coordinates of edge ends\n",
    "        Ze += [layt[e.source][2], layt[e.target] [2], None] # z-coordinates of edge ends\n",
    "    \n",
    "    trace1 = Scatter3d(\n",
    "        x = Xe,\n",
    "        y = Ye,\n",
    "        z = Ze,\n",
    "        mode = 'lines',\n",
    "        line = Line(\n",
    "            color = 'rgb(125,125,125)',\n",
    "            width = 0.5\n",
    "        ),\n",
    "        hoverinfo = 'none'\n",
    "    )\n",
    "    \n",
    "    trace2 = Scatter3d(\n",
    "        x = Xn,\n",
    "        y = Yn,\n",
    "        z = Zn,  \n",
    "        mode = 'markers',\n",
    "        name = 'actors',\n",
    "        marker = Marker(\n",
    "            symbol = 'dot',\n",
    "            size = 6,\n",
    "            color = '#F9A825',\n",
    "            colorscale = 'Viridis',\n",
    "            line = Line(\n",
    "                color = 'rgb(50,50,50)',\n",
    "                width = 0.5\n",
    "            )\n",
    "        ),\n",
    "        text = graph.vs[\"name\"],\n",
    "        hoverinfo = 'text'\n",
    "    )\n",
    "    \n",
    "    \n",
    "    axis = dict(\n",
    "        showbackground = False,\n",
    "        showline = False,\n",
    "        zeroline = False,\n",
    "        showgrid = False,\n",
    "        showticklabels = False,\n",
    "        title = ''\n",
    "    )\n",
    "    \n",
    "    layout = Layout(\n",
    "        title = graph_name,\n",
    "        width = 1000,\n",
    "        height = 1000,\n",
    "        showlegend = False,\n",
    "        scene = Scene(\n",
    "            xaxis = XAxis(axis),\n",
    "            yaxis = YAxis(axis),\n",
    "            zaxis = ZAxis(axis),\n",
    "        ),\n",
    "        margin = Margin(\n",
    "            t = 100\n",
    "        ),\n",
    "        hovermode = 'closest',\n",
    "        annotations = Annotations([\n",
    "                Annotation(\n",
    "                    showarrow = False,\n",
    "                    text = \"Data source: <a href='#'>[1]</a>\",\n",
    "                    xref = 'paper',\n",
    "                    yref = 'paper',\n",
    "                    x = 0,\n",
    "                    y = 0.1,\n",
    "                    xanchor = 'left',\n",
    "                    yanchor = 'bottom',\n",
    "                    font = Font(\n",
    "                        size = 14\n",
    "                    )\n",
    "                )\n",
    "        ]),\n",
    "    )\n",
    "    \n",
    "    data = Data([trace1, trace2])\n",
    "    fig = Figure(data=data, layout=layout)\n",
    "    \n",
    "    py.iplot(fig, filename=graph_name)"
   ]
  },
  {
   "cell_type": "markdown",
   "metadata": {},
   "source": [
    "<div style=\"text-align:center\"><h1> RANDOM-WALK GRAPH </h1></div>"
   ]
  },
  {
   "cell_type": "code",
   "execution_count": 58,
   "metadata": {
    "collapsed": false
   },
   "outputs": [
    {
     "name": "stdout",
     "output_type": "stream",
     "text": [
      "760\n",
      "17046\n"
     ]
    }
   ],
   "source": [
    "rw_path = \"/home/chris/Scrivania/url2vec/dataset/depth-100k/seqLen-10/cs.illinois.eduRandomWalk.depth.100000.seqLen.10/\"\n",
    "rw_map_path = rw_path + \"sequencesMapUrl.txt\"\n",
    "rw_seq_path = rw_path + \"sequencesIDs.txt\"\n",
    "\n",
    "\n",
    "rw_sequence_map = get_sequence_map(rw_map_path)\n",
    "rw_sequences = get_sequences(rw_seq_path, 1)\n",
    "\n",
    "rw_graph = create_graph(rw_sequences, rw_sequence_map)\n",
    "print(len(rw_graph.vs))\n",
    "print(len(rw_graph.es))"
   ]
  },
  {
   "cell_type": "code",
   "execution_count": 72,
   "metadata": {
    "collapsed": false
   },
   "outputs": [
    {
     "name": "stdout",
     "output_type": "stream",
     "text": [
      "The draw time for this plot will be slow for clients without much RAM.\n"
     ]
    }
   ],
   "source": [
    "gplot(rw_graph, \"random walk network\")"
   ]
  },
  {
   "cell_type": "markdown",
   "metadata": {},
   "source": [
    "<div style=\"text-align:center\"><h1> RANDOM-WALK-FROM-HOMEPAGE GRAPH </h1></div>"
   ]
  },
  {
   "cell_type": "code",
   "execution_count": 21,
   "metadata": {
    "collapsed": false
   },
   "outputs": [
    {
     "name": "stdout",
     "output_type": "stream",
     "text": [
      "603\n",
      "7707\n"
     ]
    }
   ],
   "source": [
    "rwfh_path = \"/home/chris/Scrivania/url2vec/dataset/depth-100k/seqLen-10/cs.illinois.eduRandomWalkFromHomepage.depth.100000.seqLen.10/\"\n",
    "rwfh_map_path = rwfh_path + \"sequencesMapUrl.txt\"\n",
    "rwfh_seq_path = rwfh_path + \"sequencesIDs.txt\"\n",
    "\n",
    "\n",
    "rwfh_sequence_map = get_sequence_map(rwfh_map_path)\n",
    "rwfh_sequences = get_sequences(rwfh_seq_path, 1)\n",
    "\n",
    "rwfh_graph = create_graph(rwfh_sequences, rwfh_sequence_map)\n",
    "print(len(rwfh_graph.vs))\n",
    "print(len(rwfh_graph.es))"
   ]
  },
  {
   "cell_type": "code",
   "execution_count": 73,
   "metadata": {
    "collapsed": true
   },
   "outputs": [],
   "source": [
    "gplot(rwfh_graph, \"random walk from homepage network\")"
   ]
  },
  {
   "cell_type": "markdown",
   "metadata": {},
   "source": [
    "<div style=\"text-align:center\"><h1> RANDOM-WALK-WITH-LISTS GRAPH </h1></div>"
   ]
  },
  {
   "cell_type": "code",
   "execution_count": 22,
   "metadata": {
    "collapsed": false
   },
   "outputs": [
    {
     "name": "stdout",
     "output_type": "stream",
     "text": [
      "908\n",
      "10109\n"
     ]
    }
   ],
   "source": [
    "rwwl_path = \"/home/chris/Scrivania/url2vec/dataset/depth-100k/seqLen-10/cs.illinois.eduRandomWalkLists.depth.100000.seqLen.10/\"\n",
    "rwwl_map_path = rwwl_path + \"sequencesMapUrl.txt\"\n",
    "rwwl_seq_path = rwwl_path + \"sequencesIDs.txt\"\n",
    "\n",
    "\n",
    "rwwl_sequence_map = get_sequence_map(rwwl_map_path)\n",
    "rwwl_sequences = get_sequences(rwwl_seq_path, 1)\n",
    "\n",
    "rwwl_graph = create_graph(rwwl_sequences, rwwl_sequence_map)\n",
    "print(len(rwwl_graph.vs))\n",
    "print(len(rwwl_graph.es))"
   ]
  },
  {
   "cell_type": "code",
   "execution_count": 75,
   "metadata": {
    "collapsed": false
   },
   "outputs": [],
   "source": [
    "gplot(rwwl_graph, \"random walk with lists network\")"
   ]
  }
 ],
 "metadata": {
  "kernelspec": {
   "display_name": "Python 2",
   "language": "python",
   "name": "python2"
  },
  "language_info": {
   "codemirror_mode": {
    "name": "ipython",
    "version": 2
   },
   "file_extension": ".py",
   "mimetype": "text/x-python",
   "name": "python",
   "nbconvert_exporter": "python",
   "pygments_lexer": "ipython2",
   "version": "2.7.11"
  }
 },
 "nbformat": 4,
 "nbformat_minor": 0
}
